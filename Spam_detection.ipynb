{
  "nbformat": 4,
  "nbformat_minor": 0,
  "metadata": {
    "colab": {
      "name": "Spam_detection.ipynb",
      "provenance": []
    },
    "kernelspec": {
      "display_name": "Python 3",
      "name": "python3"
    },
    "language_info": {
      "name": "python"
    }
  },
  "cells": [
    {
      "cell_type": "code",
      "metadata": {
        "id": "LPd-JIGTaXlH"
      },
      "source": [
        "import pandas as pd\n",
        "import numpy as np\n",
        "import seaborn as sns \n",
        "import matplotlib.pyplot as plt\n",
        "%matplotlib inline"
      ],
      "execution_count": 65,
      "outputs": []
    },
    {
      "cell_type": "code",
      "metadata": {
        "colab": {
          "base_uri": "https://localhost:8080/",
          "height": 359
        },
        "id": "iIo0jRdqc5OL",
        "outputId": "96372e68-cc50-41f4-c966-57676cbdd759"
      },
      "source": [
        "df=pd.read_csv(\"/content/sample_data/spam.csv\")\n",
        "df.head(10)"
      ],
      "execution_count": 66,
      "outputs": [
        {
          "output_type": "execute_result",
          "data": {
            "text/html": [
              "<div>\n",
              "<style scoped>\n",
              "    .dataframe tbody tr th:only-of-type {\n",
              "        vertical-align: middle;\n",
              "    }\n",
              "\n",
              "    .dataframe tbody tr th {\n",
              "        vertical-align: top;\n",
              "    }\n",
              "\n",
              "    .dataframe thead th {\n",
              "        text-align: right;\n",
              "    }\n",
              "</style>\n",
              "<table border=\"1\" class=\"dataframe\">\n",
              "  <thead>\n",
              "    <tr style=\"text-align: right;\">\n",
              "      <th></th>\n",
              "      <th>Label</th>\n",
              "      <th>EmailText</th>\n",
              "    </tr>\n",
              "  </thead>\n",
              "  <tbody>\n",
              "    <tr>\n",
              "      <th>0</th>\n",
              "      <td>ham</td>\n",
              "      <td>Go until jurong point, crazy.. Available only ...</td>\n",
              "    </tr>\n",
              "    <tr>\n",
              "      <th>1</th>\n",
              "      <td>ham</td>\n",
              "      <td>Ok lar... Joking wif u oni...</td>\n",
              "    </tr>\n",
              "    <tr>\n",
              "      <th>2</th>\n",
              "      <td>spam</td>\n",
              "      <td>Free entry in 2 a wkly comp to win FA Cup fina...</td>\n",
              "    </tr>\n",
              "    <tr>\n",
              "      <th>3</th>\n",
              "      <td>ham</td>\n",
              "      <td>U dun say so early hor... U c already then say...</td>\n",
              "    </tr>\n",
              "    <tr>\n",
              "      <th>4</th>\n",
              "      <td>ham</td>\n",
              "      <td>Nah I don't think he goes to usf, he lives aro...</td>\n",
              "    </tr>\n",
              "    <tr>\n",
              "      <th>5</th>\n",
              "      <td>spam</td>\n",
              "      <td>FreeMsg Hey there darling it's been 3 week's n...</td>\n",
              "    </tr>\n",
              "    <tr>\n",
              "      <th>6</th>\n",
              "      <td>ham</td>\n",
              "      <td>Even my brother is not like to speak with me. ...</td>\n",
              "    </tr>\n",
              "    <tr>\n",
              "      <th>7</th>\n",
              "      <td>ham</td>\n",
              "      <td>As per your request 'Melle Melle (Oru Minnamin...</td>\n",
              "    </tr>\n",
              "    <tr>\n",
              "      <th>8</th>\n",
              "      <td>spam</td>\n",
              "      <td>WINNER!! As a valued network customer you have...</td>\n",
              "    </tr>\n",
              "    <tr>\n",
              "      <th>9</th>\n",
              "      <td>spam</td>\n",
              "      <td>Had your mobile 11 months or more? U R entitle...</td>\n",
              "    </tr>\n",
              "  </tbody>\n",
              "</table>\n",
              "</div>"
            ],
            "text/plain": [
              "  Label                                          EmailText\n",
              "0   ham  Go until jurong point, crazy.. Available only ...\n",
              "1   ham                      Ok lar... Joking wif u oni...\n",
              "2  spam  Free entry in 2 a wkly comp to win FA Cup fina...\n",
              "3   ham  U dun say so early hor... U c already then say...\n",
              "4   ham  Nah I don't think he goes to usf, he lives aro...\n",
              "5  spam  FreeMsg Hey there darling it's been 3 week's n...\n",
              "6   ham  Even my brother is not like to speak with me. ...\n",
              "7   ham  As per your request 'Melle Melle (Oru Minnamin...\n",
              "8  spam  WINNER!! As a valued network customer you have...\n",
              "9  spam  Had your mobile 11 months or more? U R entitle..."
            ]
          },
          "metadata": {
            "tags": []
          },
          "execution_count": 66
        }
      ]
    },
    {
      "cell_type": "code",
      "metadata": {
        "colab": {
          "base_uri": "https://localhost:8080/"
        },
        "id": "HWCLuFaX4LU4",
        "outputId": "91d47f68-c5d6-4715-9512-efd5965c8e41"
      },
      "source": [
        "df.shape"
      ],
      "execution_count": 67,
      "outputs": [
        {
          "output_type": "execute_result",
          "data": {
            "text/plain": [
              "(5572, 2)"
            ]
          },
          "metadata": {
            "tags": []
          },
          "execution_count": 67
        }
      ]
    },
    {
      "cell_type": "code",
      "metadata": {
        "colab": {
          "base_uri": "https://localhost:8080/"
        },
        "id": "6YBgB1SkdQip",
        "outputId": "13e112e5-0db7-4f6b-ce36-6f7c4e496629"
      },
      "source": [
        "df.isnull().sum()\n"
      ],
      "execution_count": 68,
      "outputs": [
        {
          "output_type": "execute_result",
          "data": {
            "text/plain": [
              "Label        0\n",
              "EmailText    0\n",
              "dtype: int64"
            ]
          },
          "metadata": {
            "tags": []
          },
          "execution_count": 68
        }
      ]
    },
    {
      "cell_type": "code",
      "metadata": {
        "colab": {
          "base_uri": "https://localhost:8080/"
        },
        "id": "FfjrBRdG39e_",
        "outputId": "bfb5a7d8-4a33-4c05-cfa1-7b7ca0495d0e"
      },
      "source": [
        "df['EmailText'].nunique()"
      ],
      "execution_count": 69,
      "outputs": [
        {
          "output_type": "execute_result",
          "data": {
            "text/plain": [
              "5169"
            ]
          },
          "metadata": {
            "tags": []
          },
          "execution_count": 69
        }
      ]
    },
    {
      "cell_type": "code",
      "metadata": {
        "id": "XHfEoAd8dbgM"
      },
      "source": [
        "df.drop_duplicates(subset=\"EmailText\",inplace=True)"
      ],
      "execution_count": 70,
      "outputs": []
    },
    {
      "cell_type": "code",
      "metadata": {
        "colab": {
          "base_uri": "https://localhost:8080/"
        },
        "id": "oPVsS3Rm4lWM",
        "outputId": "57bc377d-919e-42b1-a1d5-51a5e46bb760"
      },
      "source": [
        "df.shape"
      ],
      "execution_count": 71,
      "outputs": [
        {
          "output_type": "execute_result",
          "data": {
            "text/plain": [
              "(5169, 2)"
            ]
          },
          "metadata": {
            "tags": []
          },
          "execution_count": 71
        }
      ]
    },
    {
      "cell_type": "code",
      "metadata": {
        "colab": {
          "base_uri": "https://localhost:8080/"
        },
        "id": "bxTKKw10iob_",
        "outputId": "1e7e00e2-49eb-4ce9-dd3a-fa0cfd7aa2bc"
      },
      "source": [
        "df.info()"
      ],
      "execution_count": 72,
      "outputs": [
        {
          "output_type": "stream",
          "text": [
            "<class 'pandas.core.frame.DataFrame'>\n",
            "Int64Index: 5169 entries, 0 to 5571\n",
            "Data columns (total 2 columns):\n",
            " #   Column     Non-Null Count  Dtype \n",
            "---  ------     --------------  ----- \n",
            " 0   Label      5169 non-null   object\n",
            " 1   EmailText  5169 non-null   object\n",
            "dtypes: object(2)\n",
            "memory usage: 121.1+ KB\n"
          ],
          "name": "stdout"
        }
      ]
    },
    {
      "cell_type": "code",
      "metadata": {
        "colab": {
          "base_uri": "https://localhost:8080/",
          "height": 173
        },
        "id": "Ejd-XzwVlZHo",
        "outputId": "634692dc-689a-490e-c09f-2135c7d2c58e"
      },
      "source": [
        "df.describe()"
      ],
      "execution_count": 73,
      "outputs": [
        {
          "output_type": "execute_result",
          "data": {
            "text/html": [
              "<div>\n",
              "<style scoped>\n",
              "    .dataframe tbody tr th:only-of-type {\n",
              "        vertical-align: middle;\n",
              "    }\n",
              "\n",
              "    .dataframe tbody tr th {\n",
              "        vertical-align: top;\n",
              "    }\n",
              "\n",
              "    .dataframe thead th {\n",
              "        text-align: right;\n",
              "    }\n",
              "</style>\n",
              "<table border=\"1\" class=\"dataframe\">\n",
              "  <thead>\n",
              "    <tr style=\"text-align: right;\">\n",
              "      <th></th>\n",
              "      <th>Label</th>\n",
              "      <th>EmailText</th>\n",
              "    </tr>\n",
              "  </thead>\n",
              "  <tbody>\n",
              "    <tr>\n",
              "      <th>count</th>\n",
              "      <td>5169</td>\n",
              "      <td>5169</td>\n",
              "    </tr>\n",
              "    <tr>\n",
              "      <th>unique</th>\n",
              "      <td>2</td>\n",
              "      <td>5169</td>\n",
              "    </tr>\n",
              "    <tr>\n",
              "      <th>top</th>\n",
              "      <td>ham</td>\n",
              "      <td>December only! Had your mobile 11mths+? You ar...</td>\n",
              "    </tr>\n",
              "    <tr>\n",
              "      <th>freq</th>\n",
              "      <td>4516</td>\n",
              "      <td>1</td>\n",
              "    </tr>\n",
              "  </tbody>\n",
              "</table>\n",
              "</div>"
            ],
            "text/plain": [
              "       Label                                          EmailText\n",
              "count   5169                                               5169\n",
              "unique     2                                               5169\n",
              "top      ham  December only! Had your mobile 11mths+? You ar...\n",
              "freq    4516                                                  1"
            ]
          },
          "metadata": {
            "tags": []
          },
          "execution_count": 73
        }
      ]
    },
    {
      "cell_type": "code",
      "metadata": {
        "id": "MgcDSdDwlh7c"
      },
      "source": [
        "def num(df):\n",
        "    if(df['Label']==\"spam\"):\n",
        "      return 1\n",
        "    else:\n",
        "      return 0\n",
        "\n",
        "df['spam'] = df.apply(num, axis=1)"
      ],
      "execution_count": 74,
      "outputs": []
    },
    {
      "cell_type": "code",
      "metadata": {
        "colab": {
          "base_uri": "https://localhost:8080/",
          "height": 204
        },
        "id": "hQb9dMlNmFCb",
        "outputId": "f7977168-9ff0-4c71-e4a6-0b9c5608fe2e"
      },
      "source": [
        "df.head()"
      ],
      "execution_count": 75,
      "outputs": [
        {
          "output_type": "execute_result",
          "data": {
            "text/html": [
              "<div>\n",
              "<style scoped>\n",
              "    .dataframe tbody tr th:only-of-type {\n",
              "        vertical-align: middle;\n",
              "    }\n",
              "\n",
              "    .dataframe tbody tr th {\n",
              "        vertical-align: top;\n",
              "    }\n",
              "\n",
              "    .dataframe thead th {\n",
              "        text-align: right;\n",
              "    }\n",
              "</style>\n",
              "<table border=\"1\" class=\"dataframe\">\n",
              "  <thead>\n",
              "    <tr style=\"text-align: right;\">\n",
              "      <th></th>\n",
              "      <th>Label</th>\n",
              "      <th>EmailText</th>\n",
              "      <th>spam</th>\n",
              "    </tr>\n",
              "  </thead>\n",
              "  <tbody>\n",
              "    <tr>\n",
              "      <th>0</th>\n",
              "      <td>ham</td>\n",
              "      <td>Go until jurong point, crazy.. Available only ...</td>\n",
              "      <td>0</td>\n",
              "    </tr>\n",
              "    <tr>\n",
              "      <th>1</th>\n",
              "      <td>ham</td>\n",
              "      <td>Ok lar... Joking wif u oni...</td>\n",
              "      <td>0</td>\n",
              "    </tr>\n",
              "    <tr>\n",
              "      <th>2</th>\n",
              "      <td>spam</td>\n",
              "      <td>Free entry in 2 a wkly comp to win FA Cup fina...</td>\n",
              "      <td>1</td>\n",
              "    </tr>\n",
              "    <tr>\n",
              "      <th>3</th>\n",
              "      <td>ham</td>\n",
              "      <td>U dun say so early hor... U c already then say...</td>\n",
              "      <td>0</td>\n",
              "    </tr>\n",
              "    <tr>\n",
              "      <th>4</th>\n",
              "      <td>ham</td>\n",
              "      <td>Nah I don't think he goes to usf, he lives aro...</td>\n",
              "      <td>0</td>\n",
              "    </tr>\n",
              "  </tbody>\n",
              "</table>\n",
              "</div>"
            ],
            "text/plain": [
              "  Label                                          EmailText  spam\n",
              "0   ham  Go until jurong point, crazy.. Available only ...     0\n",
              "1   ham                      Ok lar... Joking wif u oni...     0\n",
              "2  spam  Free entry in 2 a wkly comp to win FA Cup fina...     1\n",
              "3   ham  U dun say so early hor... U c already then say...     0\n",
              "4   ham  Nah I don't think he goes to usf, he lives aro...     0"
            ]
          },
          "metadata": {
            "tags": []
          },
          "execution_count": 75
        }
      ]
    },
    {
      "cell_type": "code",
      "metadata": {
        "colab": {
          "base_uri": "https://localhost:8080/",
          "height": 214
        },
        "id": "tHUg3YCqq3DK",
        "outputId": "72b6fe61-a6e8-405e-e14d-a33151a316a2"
      },
      "source": [
        "sns.pairplot(df)"
      ],
      "execution_count": 76,
      "outputs": [
        {
          "output_type": "execute_result",
          "data": {
            "text/plain": [
              "<seaborn.axisgrid.PairGrid at 0x7fa0842c04d0>"
            ]
          },
          "metadata": {
            "tags": []
          },
          "execution_count": 76
        },
        {
          "output_type": "display_data",
          "data": {
            "image/png": "[encoded data removed]",
            "text/plain": [
              "<Figure size 180x180 with 2 Axes>"
            ]
          },
          "metadata": {
            "tags": [],
            "needs_background": "light"
          }
        }
      ]
    },
    {
      "cell_type": "code",
      "metadata": {
        "colab": {
          "base_uri": "https://localhost:8080/"
        },
        "id": "ONPxjmn9sEps",
        "outputId": "75747530-4b14-4bc0-ea2b-932a1d59ac86"
      },
      "source": [
        "import nltk\n",
        "nltk.download('stopwords')"
      ],
      "execution_count": 77,
      "outputs": [
        {
          "output_type": "stream",
          "text": [
            "[nltk_data] Downloading package stopwords to /root/nltk_data...\n",
            "[nltk_data]   Package stopwords is already up-to-date!\n"
          ],
          "name": "stdout"
        },
        {
          "output_type": "execute_result",
          "data": {
            "text/plain": [
              "True"
            ]
          },
          "metadata": {
            "tags": []
          },
          "execution_count": 77
        }
      ]
    },
    {
      "cell_type": "code",
      "metadata": {
        "colab": {
          "base_uri": "https://localhost:8080/"
        },
        "id": "Zt6yL0YCtuA2",
        "outputId": "205a2231-86fe-4461-8f29-7635dbcd91db"
      },
      "source": [
        "import nltk\n",
        "nltk.download('punkt')"
      ],
      "execution_count": 78,
      "outputs": [
        {
          "output_type": "stream",
          "text": [
            "[nltk_data] Downloading package punkt to /root/nltk_data...\n",
            "[nltk_data]   Package punkt is already up-to-date!\n"
          ],
          "name": "stdout"
        },
        {
          "output_type": "execute_result",
          "data": {
            "text/plain": [
              "True"
            ]
          },
          "metadata": {
            "tags": []
          },
          "execution_count": 78
        }
      ]
    },
    {
      "cell_type": "code",
      "metadata": {
        "colab": {
          "base_uri": "https://localhost:8080/",
          "height": 419
        },
        "id": "Ul16izCOsSLD",
        "outputId": "1c6cfcc4-4d65-4a3f-db53-9345cca04103"
      },
      "source": [
        "def identify_tokens(df):\n",
        "    Email = df['EmailText']\n",
        "    tokens = nltk.word_tokenize(Email)\n",
        "    # taken only words (not punctuation)\n",
        "    token_words = [w for w in tokens if w.isalpha()]\n",
        "    return token_words\n",
        "\n",
        "df['Email'] = df.apply(identify_tokens, axis=1)\n",
        "df"
      ],
      "execution_count": 79,
      "outputs": [
        {
          "output_type": "execute_result",
          "data": {
            "text/html": [
              "<div>\n",
              "<style scoped>\n",
              "    .dataframe tbody tr th:only-of-type {\n",
              "        vertical-align: middle;\n",
              "    }\n",
              "\n",
              "    .dataframe tbody tr th {\n",
              "        vertical-align: top;\n",
              "    }\n",
              "\n",
              "    .dataframe thead th {\n",
              "        text-align: right;\n",
              "    }\n",
              "</style>\n",
              "<table border=\"1\" class=\"dataframe\">\n",
              "  <thead>\n",
              "    <tr style=\"text-align: right;\">\n",
              "      <th></th>\n",
              "      <th>Label</th>\n",
              "      <th>EmailText</th>\n",
              "      <th>spam</th>\n",
              "      <th>Email</th>\n",
              "    </tr>\n",
              "  </thead>\n",
              "  <tbody>\n",
              "    <tr>\n",
              "      <th>0</th>\n",
              "      <td>ham</td>\n",
              "      <td>Go until jurong point, crazy.. Available only ...</td>\n",
              "      <td>0</td>\n",
              "      <td>[Go, until, jurong, point, Available, only, in...</td>\n",
              "    </tr>\n",
              "    <tr>\n",
              "      <th>1</th>\n",
              "      <td>ham</td>\n",
              "      <td>Ok lar... Joking wif u oni...</td>\n",
              "      <td>0</td>\n",
              "      <td>[Ok, lar, Joking, wif, u, oni]</td>\n",
              "    </tr>\n",
              "    <tr>\n",
              "      <th>2</th>\n",
              "      <td>spam</td>\n",
              "      <td>Free entry in 2 a wkly comp to win FA Cup fina...</td>\n",
              "      <td>1</td>\n",
              "      <td>[Free, entry, in, a, wkly, comp, to, win, FA, ...</td>\n",
              "    </tr>\n",
              "    <tr>\n",
              "      <th>3</th>\n",
              "      <td>ham</td>\n",
              "      <td>U dun say so early hor... U c already then say...</td>\n",
              "      <td>0</td>\n",
              "      <td>[U, dun, say, so, early, hor, U, c, already, t...</td>\n",
              "    </tr>\n",
              "    <tr>\n",
              "      <th>4</th>\n",
              "      <td>ham</td>\n",
              "      <td>Nah I don't think he goes to usf, he lives aro...</td>\n",
              "      <td>0</td>\n",
              "      <td>[Nah, I, do, think, he, goes, to, usf, he, liv...</td>\n",
              "    </tr>\n",
              "    <tr>\n",
              "      <th>...</th>\n",
              "      <td>...</td>\n",
              "      <td>...</td>\n",
              "      <td>...</td>\n",
              "      <td>...</td>\n",
              "    </tr>\n",
              "    <tr>\n",
              "      <th>5567</th>\n",
              "      <td>spam</td>\n",
              "      <td>This is the 2nd time we have tried 2 contact u...</td>\n",
              "      <td>1</td>\n",
              "      <td>[This, is, the, time, we, have, tried, contact...</td>\n",
              "    </tr>\n",
              "    <tr>\n",
              "      <th>5568</th>\n",
              "      <td>ham</td>\n",
              "      <td>Will Ã_ b going to esplanade fr home?</td>\n",
              "      <td>0</td>\n",
              "      <td>[Will, b, going, to, esplanade, fr, home]</td>\n",
              "    </tr>\n",
              "    <tr>\n",
              "      <th>5569</th>\n",
              "      <td>ham</td>\n",
              "      <td>Pity, * was in mood for that. So...any other s...</td>\n",
              "      <td>0</td>\n",
              "      <td>[Pity, was, in, mood, for, that, So, any, othe...</td>\n",
              "    </tr>\n",
              "    <tr>\n",
              "      <th>5570</th>\n",
              "      <td>ham</td>\n",
              "      <td>The guy did some bitching but I acted like i'd...</td>\n",
              "      <td>0</td>\n",
              "      <td>[The, guy, did, some, bitching, but, I, acted,...</td>\n",
              "    </tr>\n",
              "    <tr>\n",
              "      <th>5571</th>\n",
              "      <td>ham</td>\n",
              "      <td>Rofl. Its true to its name</td>\n",
              "      <td>0</td>\n",
              "      <td>[Rofl, Its, true, to, its, name]</td>\n",
              "    </tr>\n",
              "  </tbody>\n",
              "</table>\n",
              "<p>5169 rows × 4 columns</p>\n",
              "</div>"
            ],
            "text/plain": [
              "     Label  ...                                              Email\n",
              "0      ham  ...  [Go, until, jurong, point, Available, only, in...\n",
              "1      ham  ...                     [Ok, lar, Joking, wif, u, oni]\n",
              "2     spam  ...  [Free, entry, in, a, wkly, comp, to, win, FA, ...\n",
              "3      ham  ...  [U, dun, say, so, early, hor, U, c, already, t...\n",
              "4      ham  ...  [Nah, I, do, think, he, goes, to, usf, he, liv...\n",
              "...    ...  ...                                                ...\n",
              "5567  spam  ...  [This, is, the, time, we, have, tried, contact...\n",
              "5568   ham  ...          [Will, b, going, to, esplanade, fr, home]\n",
              "5569   ham  ...  [Pity, was, in, mood, for, that, So, any, othe...\n",
              "5570   ham  ...  [The, guy, did, some, bitching, but, I, acted,...\n",
              "5571   ham  ...                   [Rofl, Its, true, to, its, name]\n",
              "\n",
              "[5169 rows x 4 columns]"
            ]
          },
          "metadata": {
            "tags": []
          },
          "execution_count": 79
        }
      ]
    },
    {
      "cell_type": "code",
      "metadata": {
        "colab": {
          "base_uri": "https://localhost:8080/",
          "height": 538
        },
        "id": "MmjasCyvth8g",
        "outputId": "d3fc0bea-62b7-4e8c-ca1d-394ac29ee749"
      },
      "source": [
        "from nltk.corpus import stopwords\n",
        "stops = set(stopwords.words(\"english\"))                  \n",
        "\n",
        "def remove_stops(row):\n",
        "    my_list = row['Email']\n",
        "    stop_words = [w for w in my_list if not w in stops]\n",
        "    return (stop_words)\n",
        "\n",
        "df['email_s'] = df.apply(remove_stops, axis=1)\n",
        "df"
      ],
      "execution_count": 80,
      "outputs": [
        {
          "output_type": "execute_result",
          "data": {
            "text/html": [
              "<div>\n",
              "<style scoped>\n",
              "    .dataframe tbody tr th:only-of-type {\n",
              "        vertical-align: middle;\n",
              "    }\n",
              "\n",
              "    .dataframe tbody tr th {\n",
              "        vertical-align: top;\n",
              "    }\n",
              "\n",
              "    .dataframe thead th {\n",
              "        text-align: right;\n",
              "    }\n",
              "</style>\n",
              "<table border=\"1\" class=\"dataframe\">\n",
              "  <thead>\n",
              "    <tr style=\"text-align: right;\">\n",
              "      <th></th>\n",
              "      <th>Label</th>\n",
              "      <th>EmailText</th>\n",
              "      <th>spam</th>\n",
              "      <th>Email</th>\n",
              "      <th>email_s</th>\n",
              "    </tr>\n",
              "  </thead>\n",
              "  <tbody>\n",
              "    <tr>\n",
              "      <th>0</th>\n",
              "      <td>ham</td>\n",
              "      <td>Go until jurong point, crazy.. Available only ...</td>\n",
              "      <td>0</td>\n",
              "      <td>[Go, until, jurong, point, Available, only, in...</td>\n",
              "      <td>[Go, jurong, point, Available, bugis, n, great...</td>\n",
              "    </tr>\n",
              "    <tr>\n",
              "      <th>1</th>\n",
              "      <td>ham</td>\n",
              "      <td>Ok lar... Joking wif u oni...</td>\n",
              "      <td>0</td>\n",
              "      <td>[Ok, lar, Joking, wif, u, oni]</td>\n",
              "      <td>[Ok, lar, Joking, wif, u, oni]</td>\n",
              "    </tr>\n",
              "    <tr>\n",
              "      <th>2</th>\n",
              "      <td>spam</td>\n",
              "      <td>Free entry in 2 a wkly comp to win FA Cup fina...</td>\n",
              "      <td>1</td>\n",
              "      <td>[Free, entry, in, a, wkly, comp, to, win, FA, ...</td>\n",
              "      <td>[Free, entry, wkly, comp, win, FA, Cup, final,...</td>\n",
              "    </tr>\n",
              "    <tr>\n",
              "      <th>3</th>\n",
              "      <td>ham</td>\n",
              "      <td>U dun say so early hor... U c already then say...</td>\n",
              "      <td>0</td>\n",
              "      <td>[U, dun, say, so, early, hor, U, c, already, t...</td>\n",
              "      <td>[U, dun, say, early, hor, U, c, already, say]</td>\n",
              "    </tr>\n",
              "    <tr>\n",
              "      <th>4</th>\n",
              "      <td>ham</td>\n",
              "      <td>Nah I don't think he goes to usf, he lives aro...</td>\n",
              "      <td>0</td>\n",
              "      <td>[Nah, I, do, think, he, goes, to, usf, he, liv...</td>\n",
              "      <td>[Nah, I, think, goes, usf, lives, around, though]</td>\n",
              "    </tr>\n",
              "    <tr>\n",
              "      <th>...</th>\n",
              "      <td>...</td>\n",
              "      <td>...</td>\n",
              "      <td>...</td>\n",
              "      <td>...</td>\n",
              "      <td>...</td>\n",
              "    </tr>\n",
              "    <tr>\n",
              "      <th>5567</th>\n",
              "      <td>spam</td>\n",
              "      <td>This is the 2nd time we have tried 2 contact u...</td>\n",
              "      <td>1</td>\n",
              "      <td>[This, is, the, time, we, have, tried, contact...</td>\n",
              "      <td>[This, time, tried, contact, U, Pound, prize, ...</td>\n",
              "    </tr>\n",
              "    <tr>\n",
              "      <th>5568</th>\n",
              "      <td>ham</td>\n",
              "      <td>Will Ã_ b going to esplanade fr home?</td>\n",
              "      <td>0</td>\n",
              "      <td>[Will, b, going, to, esplanade, fr, home]</td>\n",
              "      <td>[Will, b, going, esplanade, fr, home]</td>\n",
              "    </tr>\n",
              "    <tr>\n",
              "      <th>5569</th>\n",
              "      <td>ham</td>\n",
              "      <td>Pity, * was in mood for that. So...any other s...</td>\n",
              "      <td>0</td>\n",
              "      <td>[Pity, was, in, mood, for, that, So, any, othe...</td>\n",
              "      <td>[Pity, mood, So, suggestions]</td>\n",
              "    </tr>\n",
              "    <tr>\n",
              "      <th>5570</th>\n",
              "      <td>ham</td>\n",
              "      <td>The guy did some bitching but I acted like i'd...</td>\n",
              "      <td>0</td>\n",
              "      <td>[The, guy, did, some, bitching, but, I, acted,...</td>\n",
              "      <td>[The, guy, bitching, I, acted, like, intereste...</td>\n",
              "    </tr>\n",
              "    <tr>\n",
              "      <th>5571</th>\n",
              "      <td>ham</td>\n",
              "      <td>Rofl. Its true to its name</td>\n",
              "      <td>0</td>\n",
              "      <td>[Rofl, Its, true, to, its, name]</td>\n",
              "      <td>[Rofl, Its, true, name]</td>\n",
              "    </tr>\n",
              "  </tbody>\n",
              "</table>\n",
              "<p>5169 rows × 5 columns</p>\n",
              "</div>"
            ],
            "text/plain": [
              "     Label  ...                                            email_s\n",
              "0      ham  ...  [Go, jurong, point, Available, bugis, n, great...\n",
              "1      ham  ...                     [Ok, lar, Joking, wif, u, oni]\n",
              "2     spam  ...  [Free, entry, wkly, comp, win, FA, Cup, final,...\n",
              "3      ham  ...      [U, dun, say, early, hor, U, c, already, say]\n",
              "4      ham  ...  [Nah, I, think, goes, usf, lives, around, though]\n",
              "...    ...  ...                                                ...\n",
              "5567  spam  ...  [This, time, tried, contact, U, Pound, prize, ...\n",
              "5568   ham  ...              [Will, b, going, esplanade, fr, home]\n",
              "5569   ham  ...                      [Pity, mood, So, suggestions]\n",
              "5570   ham  ...  [The, guy, bitching, I, acted, like, intereste...\n",
              "5571   ham  ...                            [Rofl, Its, true, name]\n",
              "\n",
              "[5169 rows x 5 columns]"
            ]
          },
          "metadata": {
            "tags": []
          },
          "execution_count": 80
        }
      ]
    },
    {
      "cell_type": "code",
      "metadata": {
        "colab": {
          "base_uri": "https://localhost:8080/"
        },
        "id": "UHOTZhghHc4S",
        "outputId": "e1ff7c72-fe61-4de0-fa7d-e7610ea63716"
      },
      "source": [
        "nltk.download('averaged_perceptron_tagger')"
      ],
      "execution_count": 82,
      "outputs": [
        {
          "output_type": "stream",
          "text": [
            "[nltk_data] Downloading package averaged_perceptron_tagger to\n",
            "[nltk_data]     /root/nltk_data...\n",
            "[nltk_data]   Package averaged_perceptron_tagger is already up-to-\n",
            "[nltk_data]       date!\n"
          ],
          "name": "stdout"
        },
        {
          "output_type": "execute_result",
          "data": {
            "text/plain": [
              "True"
            ]
          },
          "metadata": {
            "tags": []
          },
          "execution_count": 82
        }
      ]
    },
    {
      "cell_type": "code",
      "metadata": {
        "colab": {
          "base_uri": "https://localhost:8080/"
        },
        "id": "iDjqlbN4OER-",
        "outputId": "39b2632e-d28d-4faf-f809-adb72468e22c"
      },
      "source": [
        " import nltk\n",
        " nltk.download('wordnet')"
      ],
      "execution_count": 81,
      "outputs": [
        {
          "output_type": "stream",
          "text": [
            "[nltk_data] Downloading package wordnet to /root/nltk_data...\n",
            "[nltk_data]   Package wordnet is already up-to-date!\n"
          ],
          "name": "stdout"
        },
        {
          "output_type": "execute_result",
          "data": {
            "text/plain": [
              "True"
            ]
          },
          "metadata": {
            "tags": []
          },
          "execution_count": 81
        }
      ]
    },
    {
      "cell_type": "code",
      "metadata": {
        "colab": {
          "base_uri": "https://localhost:8080/",
          "height": 555
        },
        "id": "cfoNPQrmFuey",
        "outputId": "08054d09-f3e1-457a-d0e9-f2e0a120fb70"
      },
      "source": [
        "import nltk\n",
        "from nltk.stem import WordNetLemmatizer\n",
        "from nltk.corpus import wordnet\n",
        "\n",
        "def get_wordnet_pos(treebank_tag):\n",
        "\n",
        "    if treebank_tag.startswith('J'):\n",
        "        return wordnet.ADJ\n",
        "    elif treebank_tag.startswith('V'):\n",
        "        return wordnet.VERB\n",
        "    elif treebank_tag.startswith('N'):\n",
        "        return wordnet.NOUN\n",
        "    elif treebank_tag.startswith('R'):\n",
        "        return wordnet.ADV\n",
        "    else:\n",
        "        return wordnet.NOUN\n",
        "\n",
        "def lemma(df):\n",
        "    lw=[]\n",
        "    lemmatizer = WordNetLemmatizer()\n",
        "    my_lemma = df['email_s']\n",
        "    pos_words = [nltk.pos_tag(my_lemma)]\n",
        "    for words in pos_words:\n",
        "      for w in words:\n",
        "        lw.append(lemmatizer.lemmatize(w[0],get_wordnet_pos(w[1])))\n",
        "\n",
        "    return lw\n",
        "\n",
        "df['email_lemma'] = df.apply(lemma, axis=1)\n",
        "df"
      ],
      "execution_count": 84,
      "outputs": [
        {
          "output_type": "execute_result",
          "data": {
            "text/html": [
              "<div>\n",
              "<style scoped>\n",
              "    .dataframe tbody tr th:only-of-type {\n",
              "        vertical-align: middle;\n",
              "    }\n",
              "\n",
              "    .dataframe tbody tr th {\n",
              "        vertical-align: top;\n",
              "    }\n",
              "\n",
              "    .dataframe thead th {\n",
              "        text-align: right;\n",
              "    }\n",
              "</style>\n",
              "<table border=\"1\" class=\"dataframe\">\n",
              "  <thead>\n",
              "    <tr style=\"text-align: right;\">\n",
              "      <th></th>\n",
              "      <th>Label</th>\n",
              "      <th>EmailText</th>\n",
              "      <th>spam</th>\n",
              "      <th>Email</th>\n",
              "      <th>email_s</th>\n",
              "      <th>email_lemma</th>\n",
              "    </tr>\n",
              "  </thead>\n",
              "  <tbody>\n",
              "    <tr>\n",
              "      <th>0</th>\n",
              "      <td>ham</td>\n",
              "      <td>Go until jurong point, crazy.. Available only ...</td>\n",
              "      <td>0</td>\n",
              "      <td>[Go, until, jurong, point, Available, only, in...</td>\n",
              "      <td>[Go, jurong, point, Available, bugis, n, great...</td>\n",
              "      <td>[Go, jurong, point, Available, bugis, n, great...</td>\n",
              "    </tr>\n",
              "    <tr>\n",
              "      <th>1</th>\n",
              "      <td>ham</td>\n",
              "      <td>Ok lar... Joking wif u oni...</td>\n",
              "      <td>0</td>\n",
              "      <td>[Ok, lar, Joking, wif, u, oni]</td>\n",
              "      <td>[Ok, lar, Joking, wif, u, oni]</td>\n",
              "      <td>[Ok, lar, Joking, wif, u, oni]</td>\n",
              "    </tr>\n",
              "    <tr>\n",
              "      <th>2</th>\n",
              "      <td>spam</td>\n",
              "      <td>Free entry in 2 a wkly comp to win FA Cup fina...</td>\n",
              "      <td>1</td>\n",
              "      <td>[Free, entry, in, a, wkly, comp, to, win, FA, ...</td>\n",
              "      <td>[Free, entry, wkly, comp, win, FA, Cup, final,...</td>\n",
              "      <td>[Free, entry, wkly, comp, win, FA, Cup, final,...</td>\n",
              "    </tr>\n",
              "    <tr>\n",
              "      <th>3</th>\n",
              "      <td>ham</td>\n",
              "      <td>U dun say so early hor... U c already then say...</td>\n",
              "      <td>0</td>\n",
              "      <td>[U, dun, say, so, early, hor, U, c, already, t...</td>\n",
              "      <td>[U, dun, say, early, hor, U, c, already, say]</td>\n",
              "      <td>[U, dun, say, early, hor, U, c, already, say]</td>\n",
              "    </tr>\n",
              "    <tr>\n",
              "      <th>4</th>\n",
              "      <td>ham</td>\n",
              "      <td>Nah I don't think he goes to usf, he lives aro...</td>\n",
              "      <td>0</td>\n",
              "      <td>[Nah, I, do, think, he, goes, to, usf, he, liv...</td>\n",
              "      <td>[Nah, I, think, goes, usf, lives, around, though]</td>\n",
              "      <td>[Nah, I, think, go, usf, life, around, though]</td>\n",
              "    </tr>\n",
              "    <tr>\n",
              "      <th>...</th>\n",
              "      <td>...</td>\n",
              "      <td>...</td>\n",
              "      <td>...</td>\n",
              "      <td>...</td>\n",
              "      <td>...</td>\n",
              "      <td>...</td>\n",
              "    </tr>\n",
              "    <tr>\n",
              "      <th>5567</th>\n",
              "      <td>spam</td>\n",
              "      <td>This is the 2nd time we have tried 2 contact u...</td>\n",
              "      <td>1</td>\n",
              "      <td>[This, is, the, time, we, have, tried, contact...</td>\n",
              "      <td>[This, time, tried, contact, U, Pound, prize, ...</td>\n",
              "      <td>[This, time, try, contact, U, Pound, prize, cl...</td>\n",
              "    </tr>\n",
              "    <tr>\n",
              "      <th>5568</th>\n",
              "      <td>ham</td>\n",
              "      <td>Will Ã_ b going to esplanade fr home?</td>\n",
              "      <td>0</td>\n",
              "      <td>[Will, b, going, to, esplanade, fr, home]</td>\n",
              "      <td>[Will, b, going, esplanade, fr, home]</td>\n",
              "      <td>[Will, b, go, esplanade, fr, home]</td>\n",
              "    </tr>\n",
              "    <tr>\n",
              "      <th>5569</th>\n",
              "      <td>ham</td>\n",
              "      <td>Pity, * was in mood for that. So...any other s...</td>\n",
              "      <td>0</td>\n",
              "      <td>[Pity, was, in, mood, for, that, So, any, othe...</td>\n",
              "      <td>[Pity, mood, So, suggestions]</td>\n",
              "      <td>[Pity, mood, So, suggestion]</td>\n",
              "    </tr>\n",
              "    <tr>\n",
              "      <th>5570</th>\n",
              "      <td>ham</td>\n",
              "      <td>The guy did some bitching but I acted like i'd...</td>\n",
              "      <td>0</td>\n",
              "      <td>[The, guy, did, some, bitching, but, I, acted,...</td>\n",
              "      <td>[The, guy, bitching, I, acted, like, intereste...</td>\n",
              "      <td>[The, guy, bitch, I, act, like, interested, bu...</td>\n",
              "    </tr>\n",
              "    <tr>\n",
              "      <th>5571</th>\n",
              "      <td>ham</td>\n",
              "      <td>Rofl. Its true to its name</td>\n",
              "      <td>0</td>\n",
              "      <td>[Rofl, Its, true, to, its, name]</td>\n",
              "      <td>[Rofl, Its, true, name]</td>\n",
              "      <td>[Rofl, Its, true, name]</td>\n",
              "    </tr>\n",
              "  </tbody>\n",
              "</table>\n",
              "<p>5169 rows × 6 columns</p>\n",
              "</div>"
            ],
            "text/plain": [
              "     Label  ...                                        email_lemma\n",
              "0      ham  ...  [Go, jurong, point, Available, bugis, n, great...\n",
              "1      ham  ...                     [Ok, lar, Joking, wif, u, oni]\n",
              "2     spam  ...  [Free, entry, wkly, comp, win, FA, Cup, final,...\n",
              "3      ham  ...      [U, dun, say, early, hor, U, c, already, say]\n",
              "4      ham  ...     [Nah, I, think, go, usf, life, around, though]\n",
              "...    ...  ...                                                ...\n",
              "5567  spam  ...  [This, time, try, contact, U, Pound, prize, cl...\n",
              "5568   ham  ...                 [Will, b, go, esplanade, fr, home]\n",
              "5569   ham  ...                       [Pity, mood, So, suggestion]\n",
              "5570   ham  ...  [The, guy, bitch, I, act, like, interested, bu...\n",
              "5571   ham  ...                            [Rofl, Its, true, name]\n",
              "\n",
              "[5169 rows x 6 columns]"
            ]
          },
          "metadata": {
            "tags": []
          },
          "execution_count": 84
        }
      ]
    },
    {
      "cell_type": "code",
      "metadata": {
        "colab": {
          "base_uri": "https://localhost:8080/",
          "height": 419
        },
        "id": "iCtv9RSjz2GN",
        "outputId": "40083d17-30a6-4115-d5c4-572c938ea062"
      },
      "source": [
        "column_drop=['Label','EmailText','Email','email_s']\n",
        "df.drop(column_drop,inplace=True,axis=1)\n",
        "df"
      ],
      "execution_count": 85,
      "outputs": [
        {
          "output_type": "execute_result",
          "data": {
            "text/html": [
              "<div>\n",
              "<style scoped>\n",
              "    .dataframe tbody tr th:only-of-type {\n",
              "        vertical-align: middle;\n",
              "    }\n",
              "\n",
              "    .dataframe tbody tr th {\n",
              "        vertical-align: top;\n",
              "    }\n",
              "\n",
              "    .dataframe thead th {\n",
              "        text-align: right;\n",
              "    }\n",
              "</style>\n",
              "<table border=\"1\" class=\"dataframe\">\n",
              "  <thead>\n",
              "    <tr style=\"text-align: right;\">\n",
              "      <th></th>\n",
              "      <th>spam</th>\n",
              "      <th>email_lemma</th>\n",
              "    </tr>\n",
              "  </thead>\n",
              "  <tbody>\n",
              "    <tr>\n",
              "      <th>0</th>\n",
              "      <td>0</td>\n",
              "      <td>[Go, jurong, point, Available, bugis, n, great...</td>\n",
              "    </tr>\n",
              "    <tr>\n",
              "      <th>1</th>\n",
              "      <td>0</td>\n",
              "      <td>[Ok, lar, Joking, wif, u, oni]</td>\n",
              "    </tr>\n",
              "    <tr>\n",
              "      <th>2</th>\n",
              "      <td>1</td>\n",
              "      <td>[Free, entry, wkly, comp, win, FA, Cup, final,...</td>\n",
              "    </tr>\n",
              "    <tr>\n",
              "      <th>3</th>\n",
              "      <td>0</td>\n",
              "      <td>[U, dun, say, early, hor, U, c, already, say]</td>\n",
              "    </tr>\n",
              "    <tr>\n",
              "      <th>4</th>\n",
              "      <td>0</td>\n",
              "      <td>[Nah, I, think, go, usf, life, around, though]</td>\n",
              "    </tr>\n",
              "    <tr>\n",
              "      <th>...</th>\n",
              "      <td>...</td>\n",
              "      <td>...</td>\n",
              "    </tr>\n",
              "    <tr>\n",
              "      <th>5567</th>\n",
              "      <td>1</td>\n",
              "      <td>[This, time, try, contact, U, Pound, prize, cl...</td>\n",
              "    </tr>\n",
              "    <tr>\n",
              "      <th>5568</th>\n",
              "      <td>0</td>\n",
              "      <td>[Will, b, go, esplanade, fr, home]</td>\n",
              "    </tr>\n",
              "    <tr>\n",
              "      <th>5569</th>\n",
              "      <td>0</td>\n",
              "      <td>[Pity, mood, So, suggestion]</td>\n",
              "    </tr>\n",
              "    <tr>\n",
              "      <th>5570</th>\n",
              "      <td>0</td>\n",
              "      <td>[The, guy, bitch, I, act, like, interested, bu...</td>\n",
              "    </tr>\n",
              "    <tr>\n",
              "      <th>5571</th>\n",
              "      <td>0</td>\n",
              "      <td>[Rofl, Its, true, name]</td>\n",
              "    </tr>\n",
              "  </tbody>\n",
              "</table>\n",
              "<p>5169 rows × 2 columns</p>\n",
              "</div>"
            ],
            "text/plain": [
              "      spam                                        email_lemma\n",
              "0        0  [Go, jurong, point, Available, bugis, n, great...\n",
              "1        0                     [Ok, lar, Joking, wif, u, oni]\n",
              "2        1  [Free, entry, wkly, comp, win, FA, Cup, final,...\n",
              "3        0      [U, dun, say, early, hor, U, c, already, say]\n",
              "4        0     [Nah, I, think, go, usf, life, around, though]\n",
              "...    ...                                                ...\n",
              "5567     1  [This, time, try, contact, U, Pound, prize, cl...\n",
              "5568     0                 [Will, b, go, esplanade, fr, home]\n",
              "5569     0                       [Pity, mood, So, suggestion]\n",
              "5570     0  [The, guy, bitch, I, act, like, interested, bu...\n",
              "5571     0                            [Rofl, Its, true, name]\n",
              "\n",
              "[5169 rows x 2 columns]"
            ]
          },
          "metadata": {
            "tags": []
          },
          "execution_count": 85
        }
      ]
    },
    {
      "cell_type": "code",
      "metadata": {
        "colab": {
          "base_uri": "https://localhost:8080/",
          "height": 419
        },
        "id": "ub79v2sS1_Ph",
        "outputId": "f2da63b0-1e6c-4835-df16-8ace96b79038"
      },
      "source": [
        "df.rename({'email_lemma':'Email'},axis=1,inplace=True)\n",
        "df"
      ],
      "execution_count": 86,
      "outputs": [
        {
          "output_type": "execute_result",
          "data": {
            "text/html": [
              "<div>\n",
              "<style scoped>\n",
              "    .dataframe tbody tr th:only-of-type {\n",
              "        vertical-align: middle;\n",
              "    }\n",
              "\n",
              "    .dataframe tbody tr th {\n",
              "        vertical-align: top;\n",
              "    }\n",
              "\n",
              "    .dataframe thead th {\n",
              "        text-align: right;\n",
              "    }\n",
              "</style>\n",
              "<table border=\"1\" class=\"dataframe\">\n",
              "  <thead>\n",
              "    <tr style=\"text-align: right;\">\n",
              "      <th></th>\n",
              "      <th>spam</th>\n",
              "      <th>Email</th>\n",
              "    </tr>\n",
              "  </thead>\n",
              "  <tbody>\n",
              "    <tr>\n",
              "      <th>0</th>\n",
              "      <td>0</td>\n",
              "      <td>[Go, jurong, point, Available, bugis, n, great...</td>\n",
              "    </tr>\n",
              "    <tr>\n",
              "      <th>1</th>\n",
              "      <td>0</td>\n",
              "      <td>[Ok, lar, Joking, wif, u, oni]</td>\n",
              "    </tr>\n",
              "    <tr>\n",
              "      <th>2</th>\n",
              "      <td>1</td>\n",
              "      <td>[Free, entry, wkly, comp, win, FA, Cup, final,...</td>\n",
              "    </tr>\n",
              "    <tr>\n",
              "      <th>3</th>\n",
              "      <td>0</td>\n",
              "      <td>[U, dun, say, early, hor, U, c, already, say]</td>\n",
              "    </tr>\n",
              "    <tr>\n",
              "      <th>4</th>\n",
              "      <td>0</td>\n",
              "      <td>[Nah, I, think, go, usf, life, around, though]</td>\n",
              "    </tr>\n",
              "    <tr>\n",
              "      <th>...</th>\n",
              "      <td>...</td>\n",
              "      <td>...</td>\n",
              "    </tr>\n",
              "    <tr>\n",
              "      <th>5567</th>\n",
              "      <td>1</td>\n",
              "      <td>[This, time, try, contact, U, Pound, prize, cl...</td>\n",
              "    </tr>\n",
              "    <tr>\n",
              "      <th>5568</th>\n",
              "      <td>0</td>\n",
              "      <td>[Will, b, go, esplanade, fr, home]</td>\n",
              "    </tr>\n",
              "    <tr>\n",
              "      <th>5569</th>\n",
              "      <td>0</td>\n",
              "      <td>[Pity, mood, So, suggestion]</td>\n",
              "    </tr>\n",
              "    <tr>\n",
              "      <th>5570</th>\n",
              "      <td>0</td>\n",
              "      <td>[The, guy, bitch, I, act, like, interested, bu...</td>\n",
              "    </tr>\n",
              "    <tr>\n",
              "      <th>5571</th>\n",
              "      <td>0</td>\n",
              "      <td>[Rofl, Its, true, name]</td>\n",
              "    </tr>\n",
              "  </tbody>\n",
              "</table>\n",
              "<p>5169 rows × 2 columns</p>\n",
              "</div>"
            ],
            "text/plain": [
              "      spam                                              Email\n",
              "0        0  [Go, jurong, point, Available, bugis, n, great...\n",
              "1        0                     [Ok, lar, Joking, wif, u, oni]\n",
              "2        1  [Free, entry, wkly, comp, win, FA, Cup, final,...\n",
              "3        0      [U, dun, say, early, hor, U, c, already, say]\n",
              "4        0     [Nah, I, think, go, usf, life, around, though]\n",
              "...    ...                                                ...\n",
              "5567     1  [This, time, try, contact, U, Pound, prize, cl...\n",
              "5568     0                 [Will, b, go, esplanade, fr, home]\n",
              "5569     0                       [Pity, mood, So, suggestion]\n",
              "5570     0  [The, guy, bitch, I, act, like, interested, bu...\n",
              "5571     0                            [Rofl, Its, true, name]\n",
              "\n",
              "[5169 rows x 2 columns]"
            ]
          },
          "metadata": {
            "tags": []
          },
          "execution_count": 86
        }
      ]
    },
    {
      "cell_type": "code",
      "metadata": {
        "id": "je0l3QRl5NGA"
      },
      "source": [
        "def join_words(df):\n",
        "    my_list = df['Email']\n",
        "    rejoin = ( \" \".join(my_list))\n",
        "    return rejoin\n",
        "\n",
        "df['email'] = df.apply(join_words, axis=1)"
      ],
      "execution_count": 87,
      "outputs": []
    },
    {
      "cell_type": "code",
      "metadata": {
        "colab": {
          "base_uri": "https://localhost:8080/",
          "height": 419
        },
        "id": "u35wfTbZBTJB",
        "outputId": "4ef75a40-941c-421b-aae2-09dcef7c2bc3"
      },
      "source": [
        "df.drop('Email',axis=1,inplace=True)\n",
        "df"
      ],
      "execution_count": 88,
      "outputs": [
        {
          "output_type": "execute_result",
          "data": {
            "text/html": [
              "<div>\n",
              "<style scoped>\n",
              "    .dataframe tbody tr th:only-of-type {\n",
              "        vertical-align: middle;\n",
              "    }\n",
              "\n",
              "    .dataframe tbody tr th {\n",
              "        vertical-align: top;\n",
              "    }\n",
              "\n",
              "    .dataframe thead th {\n",
              "        text-align: right;\n",
              "    }\n",
              "</style>\n",
              "<table border=\"1\" class=\"dataframe\">\n",
              "  <thead>\n",
              "    <tr style=\"text-align: right;\">\n",
              "      <th></th>\n",
              "      <th>spam</th>\n",
              "      <th>email</th>\n",
              "    </tr>\n",
              "  </thead>\n",
              "  <tbody>\n",
              "    <tr>\n",
              "      <th>0</th>\n",
              "      <td>0</td>\n",
              "      <td>Go jurong point Available bugis n great world ...</td>\n",
              "    </tr>\n",
              "    <tr>\n",
              "      <th>1</th>\n",
              "      <td>0</td>\n",
              "      <td>Ok lar Joking wif u oni</td>\n",
              "    </tr>\n",
              "    <tr>\n",
              "      <th>2</th>\n",
              "      <td>1</td>\n",
              "      <td>Free entry wkly comp win FA Cup final tkts May...</td>\n",
              "    </tr>\n",
              "    <tr>\n",
              "      <th>3</th>\n",
              "      <td>0</td>\n",
              "      <td>U dun say early hor U c already say</td>\n",
              "    </tr>\n",
              "    <tr>\n",
              "      <th>4</th>\n",
              "      <td>0</td>\n",
              "      <td>Nah I think go usf life around though</td>\n",
              "    </tr>\n",
              "    <tr>\n",
              "      <th>...</th>\n",
              "      <td>...</td>\n",
              "      <td>...</td>\n",
              "    </tr>\n",
              "    <tr>\n",
              "      <th>5567</th>\n",
              "      <td>1</td>\n",
              "      <td>This time try contact U Pound prize claim easy...</td>\n",
              "    </tr>\n",
              "    <tr>\n",
              "      <th>5568</th>\n",
              "      <td>0</td>\n",
              "      <td>Will b go esplanade fr home</td>\n",
              "    </tr>\n",
              "    <tr>\n",
              "      <th>5569</th>\n",
              "      <td>0</td>\n",
              "      <td>Pity mood So suggestion</td>\n",
              "    </tr>\n",
              "    <tr>\n",
              "      <th>5570</th>\n",
              "      <td>0</td>\n",
              "      <td>The guy bitch I act like interested buying som...</td>\n",
              "    </tr>\n",
              "    <tr>\n",
              "      <th>5571</th>\n",
              "      <td>0</td>\n",
              "      <td>Rofl Its true name</td>\n",
              "    </tr>\n",
              "  </tbody>\n",
              "</table>\n",
              "<p>5169 rows × 2 columns</p>\n",
              "</div>"
            ],
            "text/plain": [
              "      spam                                              email\n",
              "0        0  Go jurong point Available bugis n great world ...\n",
              "1        0                            Ok lar Joking wif u oni\n",
              "2        1  Free entry wkly comp win FA Cup final tkts May...\n",
              "3        0                U dun say early hor U c already say\n",
              "4        0              Nah I think go usf life around though\n",
              "...    ...                                                ...\n",
              "5567     1  This time try contact U Pound prize claim easy...\n",
              "5568     0                        Will b go esplanade fr home\n",
              "5569     0                            Pity mood So suggestion\n",
              "5570     0  The guy bitch I act like interested buying som...\n",
              "5571     0                                 Rofl Its true name\n",
              "\n",
              "[5169 rows x 2 columns]"
            ]
          },
          "metadata": {
            "tags": []
          },
          "execution_count": 88
        }
      ]
    },
    {
      "cell_type": "code",
      "metadata": {
        "colab": {
          "base_uri": "https://localhost:8080/",
          "height": 419
        },
        "id": "uolSNcAuBVJ1",
        "outputId": "217d06fd-8e3e-4406-8850-e8f7878d28ef"
      },
      "source": [
        "df['email']=df['email'].str.lower()\n",
        "df"
      ],
      "execution_count": 89,
      "outputs": [
        {
          "output_type": "execute_result",
          "data": {
            "text/html": [
              "<div>\n",
              "<style scoped>\n",
              "    .dataframe tbody tr th:only-of-type {\n",
              "        vertical-align: middle;\n",
              "    }\n",
              "\n",
              "    .dataframe tbody tr th {\n",
              "        vertical-align: top;\n",
              "    }\n",
              "\n",
              "    .dataframe thead th {\n",
              "        text-align: right;\n",
              "    }\n",
              "</style>\n",
              "<table border=\"1\" class=\"dataframe\">\n",
              "  <thead>\n",
              "    <tr style=\"text-align: right;\">\n",
              "      <th></th>\n",
              "      <th>spam</th>\n",
              "      <th>email</th>\n",
              "    </tr>\n",
              "  </thead>\n",
              "  <tbody>\n",
              "    <tr>\n",
              "      <th>0</th>\n",
              "      <td>0</td>\n",
              "      <td>go jurong point available bugis n great world ...</td>\n",
              "    </tr>\n",
              "    <tr>\n",
              "      <th>1</th>\n",
              "      <td>0</td>\n",
              "      <td>ok lar joking wif u oni</td>\n",
              "    </tr>\n",
              "    <tr>\n",
              "      <th>2</th>\n",
              "      <td>1</td>\n",
              "      <td>free entry wkly comp win fa cup final tkts may...</td>\n",
              "    </tr>\n",
              "    <tr>\n",
              "      <th>3</th>\n",
              "      <td>0</td>\n",
              "      <td>u dun say early hor u c already say</td>\n",
              "    </tr>\n",
              "    <tr>\n",
              "      <th>4</th>\n",
              "      <td>0</td>\n",
              "      <td>nah i think go usf life around though</td>\n",
              "    </tr>\n",
              "    <tr>\n",
              "      <th>...</th>\n",
              "      <td>...</td>\n",
              "      <td>...</td>\n",
              "    </tr>\n",
              "    <tr>\n",
              "      <th>5567</th>\n",
              "      <td>1</td>\n",
              "      <td>this time try contact u pound prize claim easy...</td>\n",
              "    </tr>\n",
              "    <tr>\n",
              "      <th>5568</th>\n",
              "      <td>0</td>\n",
              "      <td>will b go esplanade fr home</td>\n",
              "    </tr>\n",
              "    <tr>\n",
              "      <th>5569</th>\n",
              "      <td>0</td>\n",
              "      <td>pity mood so suggestion</td>\n",
              "    </tr>\n",
              "    <tr>\n",
              "      <th>5570</th>\n",
              "      <td>0</td>\n",
              "      <td>the guy bitch i act like interested buying som...</td>\n",
              "    </tr>\n",
              "    <tr>\n",
              "      <th>5571</th>\n",
              "      <td>0</td>\n",
              "      <td>rofl its true name</td>\n",
              "    </tr>\n",
              "  </tbody>\n",
              "</table>\n",
              "<p>5169 rows × 2 columns</p>\n",
              "</div>"
            ],
            "text/plain": [
              "      spam                                              email\n",
              "0        0  go jurong point available bugis n great world ...\n",
              "1        0                            ok lar joking wif u oni\n",
              "2        1  free entry wkly comp win fa cup final tkts may...\n",
              "3        0                u dun say early hor u c already say\n",
              "4        0              nah i think go usf life around though\n",
              "...    ...                                                ...\n",
              "5567     1  this time try contact u pound prize claim easy...\n",
              "5568     0                        will b go esplanade fr home\n",
              "5569     0                            pity mood so suggestion\n",
              "5570     0  the guy bitch i act like interested buying som...\n",
              "5571     0                                 rofl its true name\n",
              "\n",
              "[5169 rows x 2 columns]"
            ]
          },
          "metadata": {
            "tags": []
          },
          "execution_count": 89
        }
      ]
    },
    {
      "cell_type": "code",
      "metadata": {
        "colab": {
          "base_uri": "https://localhost:8080/"
        },
        "id": "ksMkQNJMy5bO",
        "outputId": "f993f2ad-0b0c-4215-d699-b0521be55d0c"
      },
      "source": [
        "a = df.email.unique()\n",
        "print(sorted(a)) "
      ],
      "execution_count": 132,
      "outputs": [
        {
          "output_type": "stream",
          "text": [
            "['', 'a bit ur smile hppnss drop ur tear sorrow part ur heart life heart like mine wil care u forevr goodfriend', 'a bloo bloo bloo i miss first bowl', 'a boy late home his father of', 'a boy love gal he propsd bt didnt mind he gv lv lttrs bt frnds threw thm again boy decide aproach gal dt time truck speed towards gal wn hit girl boy run like hell n save she ask cn u run fast d boy reply secret n instantly girl shout n thy live happily drink boost evrydy moral story i hv free msg d gud', 'a cute thought friendship necessary share every secret ur close frnd', 'a famous quote develop ability listen unconditionally without lose temper self confidence mean', 'a gram usually run like lt gt half eighth smarter though get almost whole second gram lt gt', 'a guy get use dumb realize', 'a link picture send you also use http', 'a little meds say take every hour it pain back so i take another hope i die', 'a lot sickness thing go round take easy hope u feel well soon lol', 'a people game i mall iouri kaila', 'a pure hearted person wonderful smile make even enemy feel guilty so catch world goodmorning amp have a smiley', 'a swt thought get tired little thing lovable little thing occupy big part gud', 'a xmas reward is waiting for you our computer randomly pick loyal mobile customer receive reward just call', 'aah a cuddle would lush i need lot tea soup kind fumbling', 'aah bless how arm', 'aaooooright work', 'abeg make profit but start are use get sponsor next event', 'able kid do want kid one day', 'about lt gt buck the bank fee fix better call bank find', 'accordingly i repeat text word ok mobile phone send', 'account number', 'actually delete old blogging', 'actually fuck whatever find excuse tampa point january though', 'actually get ready leave house', 'actually i decide i hungry i leave yet v', 'actually mobile full msg and work online need send lt gt send msg wil explain u later', 'actually nvm get hella cash still lt gt ish', 'actually wait week start put ad', 'adult content your video shortly', 'advance happy pongal', 'aft finish lunch go str lor ard smth lor u finish ur lunch already', 'after complete degree there use joining finance', 'after drug able eat', 'after work ah den plus lor u workin oso rite den go orchard lor place go liao', 'ah poop looks like ill prob send laptop get fix cuz gpu problem', 'ah see you lingo i let know wot earth finish make', 'ah well confuse thing', 'ah well confuse thing doesnt i think friend maybe wrong thing already sort invite may come co money', 'ahhh work i vaguely remember what feel like lol', 'ahhhh woken bad dream u tho dont like u right didnt know anything comedy night guess im', 'aight call close', 'aight close still around alex place', 'aight fuck i get later', 'aight head', 'aight i ask roommate', 'aight i chillin friend room text way', 'aight i grab something eat text back mu', 'aight i hit i get cash', 'aight i late probably closer are jay tyler two trip', 'aight i plan come later tonight', 'aight i set free think could text blake address it occur i quite sure i i think i', 'aight i text i back', 'aight ill get fb couple minute', 'aight lem know', 'aight let know gon na around usf', 'aight pick open tonight', 'aight rush i ask jay', 'aight see bit', 'aight sorry i take ten year shower what plan', 'aight sound good when want come', 'aight still want get money', 'aight text address', 'aight text back mu i swing need somebody get door', 'aight text tonight see', 'aight thanks comin', 'aight time want come', 'aight tomorrow around lt gt', 'aight well keep informed', 'aight work thanks', 'aight yo dats straight dogg', 'aiya discus later lar pick', 'aiyah e rain like quite big leh if drizzle least run home', 'aiyah ok wat long got improve already wat', 'aiyah sorry lor i watch tv watch forget check phone', 'aiyah u ok already lar e nydc wheellock', 'aiyah wait lor then u entertain hee', 'aiyar dun disturb u liao thk u lot aft ur cupboard come', 'aiyar hard type u later free tell call n scold n tell u', 'aiyar sorry lor forget tell u', 'aiyar u poor thing i give u support k jia i think u', 'aiyo bit pai seh noe scared dun rem die hee but become good lookin oredi leh', 'aiyo co sm neva reply wait reply lar i tot havent finish ur lab wat', 'aiyo her lesson early i still sleepin haha okie u go home liao den confirm w lor', 'aiyo please get time meh', 'aiyo u always c ex one i dunno abt mei reply first time u reply fast y lucky workin huh get bao ur sugardad ah', 'aiyo u poor thing then u dun wan eat u bathe already', 'al moan n e thin go wrong fault al de argument r fault feed himso bother hav', 'aldrine rakhesh ex rtm', 'alex know guy sell mids south tampa i think i could set like', 'alex say ok ok', 'alfie moon children need song ur mob tell ur txt tone charity nokias poly charity polys zed profit charity', 'all boy make fun today ok problem i send one message fun', 'all come correct good look figure', 'all day work day except saturday', 'all do all hand celebrations full swing yet', 'all do hand do know mega shop asda count celebration thats', 'all e best ur driving tmr', 'all e best ur exam later', 'all nice new shirt thing i wear nudist theme mu', 'all sound good fingers makes difficult type', 'all well slightly disastrous class pm fav darling hope day coffee wld good ca stay late tomorrow same time place always', 'allo we brave bus take train triumph i mean have jolly good rest week', 'almost see u sec', 'already one guy loving', 'already squat new way walking', 'alright bring see like lt gt min', 'alright hook guy', 'alright i good night', 'alright i head minute text meet', 'alright i make sure car back tonight', 'alright new goal', 'alright omw get ta change order', 'alright see bit', 'alright set text man', 'alright sure let know leave', 'alright take morphine back yo', 'alright thanks advice enjoy night try get sleep', 'alright tyler get minor crisis home sooner think asap', 'alrite', 'alrite girl u know gail is neva wrong take care sweet and u hun love yaxxx', 'alrite jod hows revision goin keris bin doin smidgin n e way u wan na cum college xx', 'alrite sam its nic just checkin that this is ur is it', 'also andros ice etc etc', 'also bring galileo dobby', 'also chat awesome make regular unless see person', 'also dont msg reply', 'also fine complete course', 'also fuck family go rhode island wherever fuck leave alone week i new bong gt', 'also hi wesley', 'also maaaan miss', 'also north carolina texas atm would go gre site pay test result send', 'also piece', 'also remember bead come ever', 'also remember get dobby bowl car', 'also sir send email log usc payment portal send another message explain thing back home have great weekend', 'also tell him i said happy birthday', 'also track lighter find', 'although tell u dat baig face watch really like e watch u give co fr thanx everything dat u do today touch', 'always even spirit get bb soon just try sure need', 'am also cbe but pay', 'am film ill call later', 'am go take bath ill place key window', 'am gobi art college', 'am i one stalk profile', 'am interested like', 'am much bad avoid like', 'am much dirty fellow', 'am new club dont fink meet yet will b c u please leave msg wiv ur area reply promise carlie x', 'am okay will soon all best', 'am search good dual sim mobile pa', 'am slow use biola fne', 'am surf online store for offer want buy thing', 'am train back northampton afraid', 'am train back northampton afraid i stay skyving today ho ho will around wednesday though do fancy comedy club week way', 'am uworld site am buying qbank buy self assessment also', 'am watch house entertain get whole hugh laurie thing even stick indeed especially stick', 'am way', 'am work eye philosophy text u later bit free chat', 'amazing if rearrange letter give mean dormitory dirty room astronomer moon starer the eye they see election result lies let recount woman hitler eleven plus two plus one its amazing', 'amazing quote life difficult decide whats wrong lie brings smile truth brings tear', 'an excellent thought misundrstud frnd i knw u hate bt day wen u knw truth u hate urself gn', 'and also i sorta blown couple time recently id rather text blue look weed', 'and apparently bffs carly quick', 'and course make stink', 'and do i mean', 'and electricity go fml', 'and fine i get enough bud last night least', 'and husband', 'and i plan stay night i prolly wo back til late', 'and importantly discuss u', 'and man carlos definitely come mu tonight excuse', 'and maybe pressies', 'and miss vday parachute double coin u must know well', 'and one teach ship car', 'and pls pls drink plenty plenty water', 'and pop lt gt ibuprofen help', 'and princess', 'and problem you walk around oblivious go around i say thing constantly go one ear go whatever want it know i upset listen tell what go upset then want surprised i mad', 'and several sir', 'and smile right go world wonder smile think crazy keep away', 'and stop old man you get build snowman snow angels snowball fight', 'and stop wondering ever go stop i tm whenever i want mine', 'and way send shade stuff and wonderful', 'and whenever see still hook', 'and will expect whenever text hope go well tomo', 'annoying', 'another month i need chocolate weed alcohol', 'any chance might evaporate soon violated privacy steal phone number employer paperwork not cool please contact i report supervisor', 'any pain urination thing else', 'any way', 'anything', 'anything lar', 'anything lar go home dinner', 'anything lor come', 'anything lor go go lor', 'anything lor juz u lor', 'anything lor toa payoh get place walk meh', 'anything lor u decide', 'anything valuable situation before get after loose', 'anytime', 'anytime all best', 'anytime lor', 'anyway go shop cos si do yet dun disturb u liao', 'anyway holla whenever around i need excuse go creep people sarasota', 'anyway i think i secure anything lem know want drive south chill', 'anyway many good evening u', 'anyway seriously hit back otherwise i light armand always shit vomit', 'apart one tell yesterday', 'apo mokka player', 'apo movie', 'apps class varaya elaya', 'appt lt time gt not fault u listen i tell u twice', 'ard like dat lor', 'ard like dat lor we juz meet mrt station dun haf come', 'ard like dat y', 'ard lor', 'ard lor i ok message lor', 'are angry what happen dear', 'are around still asleep v', 'are available soiree june', 'are castor you need see something', 'are challenge i know', 'are come day class', 'are cut girl world', 'are drive training', 'are free call', 'are freeze are home yet will remember kiss mom morning do love do think are miss yet', 'are go wipro interview today', 'are go write ccna exam week', 'are good baby', 'are happy baby are alright did take job i hope fine i send kiss make smile across sea', 'are much buzy', 'are norm tomorrow i finish cos st test need sort library stuff point tomo get letter today access til end march well get move', 'are plan come chennai', 'are plan family set stone', 'are pub', 'are room', 'are stay town', 'are still get good', 'are still play gautham', 'are sure mean', 'are ta job available let know please co really need start work', 'are u awake is snow', 'are u come funeral home', 'are unique enough find august', 'are wet right', 'are what happen behave like', 'are willing go apps class', 'are willing go aptitude class', 'are work right', 'are you in town this is important', 'arestaurant eat squid wan na dosomething late', 'argh fuck nobody town', 'argh spotty anyway thing i remember research province sterling place look', 'armand say get as epsilon', 'arms fine cardiff uni', 'arngd marriage u r walkin unfortuntly snake bite bt love marriage dance frnt snake amp sayin bite bite', 'arr birthday today wish get oscar', 'arun u transfr amt', 'as different style', 'as enough trouble sleep', 'as fine happy amp', 'as i enter cabin pa say happy boss i felt special she askd lunch after lunch invited apartment we go', 'as missionary hook doggy hook stand', 'as one register subscriber u enter draw gift voucher reply enter to unsubscribe text stop', 'as per request alaipayuthe set callertune callers press copy friend callertune', 'as per request melle oru minnaminunginte nurungu vettam set callertune callers press copy friend callertune', 'as registered optin subscriber ur draw gift voucher enter receipt correct ans whats bbc chart', 'as registered subscriber yr draw gift voucher b enter receipt correct an when next olympics txt an', 'as sim subscriber select receive bonus get deliver door txt word ok no claim exp', 'as usual u call ard smth', 'as value customer i please advise follow recent review mob no award bonus prize call', 'as want custom officer discount oh', 'ask g iouri i tell story like ten time already', 'asked if chatlines inclu in free mins india cust servs sed yes got mega bill dont giv a shit bailiff due in days i o want', 'asking u knw nt may ur frnds classmate', 'aslamalaikkum allah tohar beeen muht albi mufti mahfuuz meaning', 'at funeral home audrey dad', 'at go ok na', 'at home also', 'at home watch tv lor', 'at home way', 'at let go bill miller', 'at time come', 'at what time come tomorrow', 'auction round the high bid next maximum bid to bid send bids bid good luck', 'audrie lousy autocorrect', 'auntie huai juan never pick phone', 'awesome gon na soon later tonight', 'awesome i deal gate charles tell last night uh yeah', 'awesome i remember last time get somebody high first time diesel v', 'awesome i see bit', 'awesome lem know whenever around', 'awesome minute', 'awesome plan get time like lt gt i text detail wee bit', 'awesome question cute answer someone ask boy ur life he smile amp answer she fine gudnite', 'awesome text restock', 'awesome think get usf time tonight', 'aww first time u say u miss without ask i miss u first you do love', 'awww dat sweet we think something have nice time tonight ill probably txt u later cos im lonely xxx', 'ay wana meet sit wkg sat', 'baaaaaaaabe wake i miss i crave i need', 'baaaaabe i miss youuuuu where i go teach class', 'babe', 'babe far spk at da mo dead da wrld been sleeping on da sofa all day', 'babe get enough money pick bread milk and i give back get home', 'babe how go day what i miss already love love i hope everything go well', 'babe how go day what where i sip cappuccino think love i send kiss across sea', 'babe i answer ca see maybe well reboot ym i get photo it great', 'babe i back come back', 'babe i feel the same lets just about try fit soo muchxxlove u', 'babe i fuck love you know fuck good hear voice i need i crave i ca get enough i adore ahmad', 'babe i lose', 'babe i lose will try reboot', 'babe i love you face', 'babe i miiiiiiissssssssss i need i crave geeee i sad without babe i love', 'babe i need advice', 'babe u enjoyin yourjob u seemed b gettin on well hunny hope ure ok take care soonlots of loveme', 'babe u want dont u baby im nasty thing filthyguys fancy rude time sexy bitch how go slo n hard txt xxx slo', 'babe uawake feellikw out via aletter thatmum gotmarried ourbacks fuckinnice selfish', 'babe what where who talk do think are good boy are miss do love', 'babe you say hour almost is internet', 'babes i think i get ur brolly i leave english wil bring u luv franxx', 'back brum thanks put u keep u happy see soon', 'back thanks', 'back work half term can u c sexy passion i go back chat now luv dena calls', 'badrith chennai surely pick u competition', 'ball move spin last difficult bat', 'bangbabes ur order way u should receive service msg download ur content if u goto wap bangb tv ur mobile menu', 'bank granite issue explosive pick for our members over nasdaq symbol cdgt that', 'bbq sit mine ur welcome come', 'be happy i come noon', 'be sure check yahoo email we send photo yesterday', 'bears pic nick tom pete dick in fact type try gay chat photo upload call stop text call', 'beautiful tomorrow never when come already in hunt beautiful tomorrow waste wonderful goodmorning', 'beautiful truth expression face could be see everyone but depression heart could understood by loved gud', 'beautiful truth read carefully heart feel light someone but feel heavy someone leave good night', 'beautiful truth read carefully heart feel light someone but feel heavy someone leave goodmorning', 'beauty sleep help ur pimple', 'becoz lt gt jan whn al post ofice holiday cn go fr post ofice get duffer', 'been ne thing interesting did good birthday when u wrking nxt i start uni today', 'been run manage minute need oxygen might resort roller option', 'beerage', 'best line say love wait till day i forget u or the day u realize u forget gn', 'best msg it hard person u know one step foward make u fall amp one step back ruin ur good night', 'better bb if wont use wife doctor', 'better made friday stuff like pig yesterday now i feel bleh but least writhe pain kind bleh', 'big brother alert the computer select u cash voucher call ntt po box bt landline cost mobile vary', 'big really scrap barrel shower social misfit', 'bill are letter expect one orange bill may still say orange', 'bin awarded play instant cash call to claim every player wins min optout', 'bishan lar nearer no need buy early co buy get ta park car', 'black shirt n blue jean i thk c', 'blank blank but wat blank lol', 'block breaker come deluxe format new feature great graphic buy reply get bbdeluxe take challenge', 'bloody hell cant believe forget surname mr ill give u clue spanish begin', 'bloomberg center why wait apply future http', 'bognor should splendid time year', 'boltblue tone reply poly mono eg cha cha slide yeah slow jamz toxic come with me stop tone txt more', 'boo how thing i back home little bore already', 'boo i way mom she make tortilla soup yummmm', 'boo time u get u suppose take shopping today', 'book lesson msg i call work sth i go get specs my membership', 'booked ticket pongal', 'boooo always work just quit', 'bored housewives chat n date rate landline', 'bored speed date try speedchat txt speedchat like em txt swap get new chatter rcd', 'bot note oredi cos juz rem get', 'both shoot big load get ready', 'bought one ringtone get texts cost pound offering tone etc', 'boy best get yo as quick', 'boy i love u grl hogolo boy gold chain kodstini grl agalla boy necklace madstini grl agalla boy hogli mutai eerulli kodthini grl i love u kano', 'boy whereare friendsare thekingshead come canlove', 'brain dear', 'brainless baby vehicle sariyag drive madoke', 'bring get', 'bring home wendy', 'bring tat cd forget', 'bruce b down amp fletcher', 'btw regard really try see anyone else guy commit random dude', 'bugis oso near wat', 'bull your plan go float ikea without care world so live mess another day', 'burger king wan na play footy top stadium get burger king sept go large super walk winner', 'business', 'busy trying finish new year i look forward finally meet', 'but b go sch mon my si need take smth', 'but brother transfer lt gt lt gt pa', 'but dint sleep afternoon', 'but dint touch', 'but drinkin ok', 'but ebay might less elsewhere', 'but family respond anything now room go home diwali one call come it make feel like die', 'but go college what else ill come self pa', 'but haf enuff space get like mb', 'but havent get da topic yet rite', 'but i diet and i eat many slice pizza yesterday ugh i always diet', 'but i like love arrange', 'but juz remember get ta bathe dog', 'but pls dont play others life', 'but really quite funny lor wat then u shd haf run short distance wat', 'but really really break oh no amount small even lt gt', 'but surprise still guess right lor', 'but together thinkin', 'buy one egg', 'buy space invaders chance win orig arcade game console press games arcade std wap charge see terms settings no purchase', 'buzz hey love i think hope day go well did sleep i miss babe i long moment together', 'buzzzz did i buzz ass buzz chest buzz cock where keep phone is vibrator did feel shake', 'by march end ready but call sure the problem capital never complete how far how work lady', 'by monday next week give full gist', 'by way make sure u get train worc foregate street shrub hill have fun night x', 'by way meet mountains dont', 'by way put skip right outside front house see house just pull', 'c movie juz last minute decision mah juz watch lar tot interested', 'c u', 'ca i feel nauseous i piss i eat sweet week cause today i plan pig i diet week and i hungry', 'ca take major role community outreach you rock mel', 'cab pick drop door step', 'call check life begin qatar pls pray hard', 'call cost which guess isnt bad miss ya need ya want ya love ya', 'call da wait call', 'call dad oredi', 'call freephone', 'call germany penny per minute call fix line via access number no prepayment direct access', 'call get chance plz lt', 'call i unable cal lets meet bhaskar deep', 'call listen to extreme dirty live chat going on in the office right now total privacy no one knows your sic listening min', 'call lt gt min thats ok', 'call number available appointment and ask connect call waheed fathima', 'call phone vibrate act i might hear text', 'call say come today ok tell fool like ok', 'call send girl erotic ecstacy just to stop text call nat rate', 'call senthil hsbc', 'call tell u call claim prize u enter ur mobile personal detail prompt careful', 'call u do', 'call u finish come n pick u', 'call use ur min calls cast mob vary service provide aom aom u stop ages', 'calm downon itxt u cos iwana know wotu r doin at haventcn u in me if ur nething j', 'camera quite good pixel doom have lovely holiday safe hope hav good journey happy new year see couple week', 'camera you award sipix digital camera call fromm landline delivery within day', 'can', 'can call make sure dat woken', 'can call plz your number show coveragd area i urgnt call vasai amp reach clock call plz', 'can come room come house co house still messy haha', 'can come sec there somebody i want see', 'can decide fast co si go home', 'can dunno wat get', 'can get opinion something first', 'can help u swoop pick u wherever ur bird r meet u want', 'can i free', 'can later show around want cld drink wld prefer spend money nosh mind nxt wk', 'can let know detail fri u find cos i tom mentionned chinese thanks', 'can lor', 'can mag meeting avo point', 'can meet as depends wan', 'can meh thgt clash really ah dun mind i dun see lose weight gee', 'can online transaction', 'can open door', 'can please ask macho price range want something new use plus interfued blackberry bold lt gt bb', 'can please send aunty number', 'can pls pls send mail know relatives come deliver all know cost risk benefit anything else thanks', 'can pls send company name in saibaba colany', 'can plz tell an bslvyl send via', 'can say happen', 'can send copy da report', 'can talk', 'can tell shola please go college medicine visit academic department tell academic secretary current situation ask transfer she ask someone check sagamu thing lautech its vital completes medical education nigeria its less expensive much less expensive unless get citizen rate new zealand', 'can u get phone now i wan na chat set meet call now u cum luv jane xx', 'can u get pic msg phone', 'can u look da lib get stuff havent finish yet', 'can use foreign stamp country', 'can use foreign stamp country good lecture', 'can use foreign stamp whatever send', 'cancel cheyyamo get money back', 'cant believe say many thing morning really want say good morning love have beautiful morning see library later', 'cant talk call keep call', 'cant think anyone spare room top head', 'captain room', 'captain vijaykanth comedy captain drunken', 'carlos i pick i swing usf little bit', 'carlos minute still need buy', 'carlos say mu lt gt minute', 'carlos say pick later yeah set', 'carlos take leave minute', 'carlos take sweet time usual let know patty smoke i tell haul as', 'carry disturb', 'cause i freaky lol', 'cbe chennai', 'cbe really good nowadays lot shop showrooms city shape good', 'cds congratulations ur award cd gift voucher gift guarantee freeentry wkly draw xt music tncs', 'celebrate else', 'ceri u rebel sweet dreamz me little buddy c ya who needs blokes', 'change it e one next escalator', 'change tat', 'change windows logoff', 'charge mobile get morning', 'chase u since sept definitely pay thanks information we ignore kath manchester', 'check audrey status right', 'check mail varma kept copy regard allah', 'check nuerologist', 'check out choose your babe videos fgkslpopw fgkslpo', 'check wid corect speling sarcasm', 'cheers card is time year already', 'cheers lou yeah was a goodnite shame u neva came c ya gailxx', 'cheers message zogtorius star phone age decide whether text', 'chile please it lt decimal gt hour drive i come time sublet audition season', 'chinatown get porridge claypot rice yam cake fishhead beehoon either eat cheap den go cafe n tok go nydc somethin', 'chk ur belovd m dict', 'christmas an occasion celebrated reflection ur values desires affections amp traditions have ideal christmas', 'claim shop spree call have', 'claire havin borin time alone u wan na cum chat hope c u luv claire xx', 'cmon babe make horny txt fantasy babe im hot sticky need all reply cost cancel send stop', 'coffee cake guess', 'cold dont sad dear', 'collect ur laptop go configure da setting izzit', 'collect valentine weekend paris inc flight hotel prize guarantee text paris no', 'come aftr lt decimal gt cleaning house', 'come around lt decimal gt pm otside nw il come tht time', 'come back to tampa ffffuuuuuuu', 'come gym machan goodnight', 'come home one last time wont anything trust', 'come look flat seem ok is away alot wiv work got woman come', 'come lt gt min', 'come lt n pas lar', 'come mahal bus lt decimal gt', 'come medical college forward da', 'come mu sort narcotic situation', 'come right ahmad', 'come room point iron plan weekend', 'come round', 'come slave your going shell unconsciously avoid you make unhappy', 'come wenever u lik come also tel vikky come get free', 'comin fetch u oredi', 'comingdown later', 'company terrific food really nice', 'complimentary star ibiza holiday cash need urgent collection now landline lose', 'compliments was away system how side', 'congrats mobile videophones r call videochat wid mate play java game dload polyph music noline rentl', 'congrats mobile videophones r call videochat wid ur mate play java game dload polyh music noline rentl', 'congrats mobile videophones r call videochat wid ur mate play java game dload polyph music noline rentl', 'congrats nokia video camera phone call calls cost ave call vary mobile close post ldn', 'congrats that great i want tell tell score co might make relax but motivate thanks share', 'congrats treat maga', 'congrats treat mail mail mother mail', 'congrats year special cinema pas call c suprman v etc free dont miss', 'congratulation', 'congratulations ore mo owo wa enjoy wish many happy moment fro wherever go', 'congratulations thanks good friend u won xmas prize claim easy call now only per minute', 'congratulations u claim vip row a tickets c blu concert november blu gift guarantee call claim ts cs', 'congratulations ur award cd voucher guarantee free entry wkly draw txt music', 'congratulations ur award cd voucher guarantee free entry wkly draw txt music tncs', 'congratulations ur award either cd gift voucher free entry weekly draw txt music tncs', 'congratulations ur award either yrs supply cds virgin records mystery gift guaranteed call ts cs approx', 'congratulations week competition draw u prize claim call t sms over', 'congratulations you won you winner august prize draw call now prize code', 'convey regard', 'cool breeze bright sun fresh flower twittering bird all wait wish u amp have a nice', 'cool do like swim i pool jacuzzi house', 'cool i lt gt inch long hope like big', 'cool i text', 'cool i text i way', 'cool shall go see go tip anyway are home get something drop later so let go town tonight maybe mum take u', 'cool so come havent win din', 'cool ta luv cause doin load plan wk get social service inspection nursery take care spk sn x', 'cool text head', 'cool text park', 'cool text ready', 'cool time think get', 'cool tyler take gon na buy drop place later tonight our total order quarter get enough', 'cool want go kappa i meet outside mu', 'cool we fun practice make baby', 'correct so work today', 'cos daddy arrange time c wat time fetch mah', 'cos darren say consider mah ask', 'cos shopping wif darren jus n call ask wat present wan lor then start guess wif n finally guess darren lor', 'cos want thing', 'cost', 'could read love i answer', 'cps cause outage conserve energy', 'cramps stop going back sleep', 'crazy ar marry like gd look guy my frens like say korean leona fave dun thk aft thinking mayb prob go', 'crucify c you tell early', 'cthen thk shd b still get conclusion n content pg n i b da content pg n cover', 'cud u tell ppl im gona b bit cos bus hav gon past co full im still waitin pete x', 'customer loyalty offer the new mobile only txtauction txt word start no get now ctxt tc', 'customer may claim free camera phone upgrade pay go sim card loyalty call end c apply', 'customer place call', 'customer place wil cal u sir', 'customer service annoncement you new years delivery wait please call arrange delivery', 'customer service announcement we recently try make delivery unable please call', 'cuz ibored and wan na study', 'da birthdate certificate april real date today but dont publish i shall give special treat keep secret any way thanks wish', 'da good good unsold', 'dad go oredi', 'dad say hurry hell', 'dad want talk apartment i get late start omw', 'daddy shu shu look u u wan tell u singapore wat', 'daddy take good care', 'dai can send resume id', 'dai download exe file run exe installing', 'dai lt gt naal eruku', 'damn make tonight want wait til tomorrow', 'damn poor zac stand chance', 'dare ask any luck sorting car', 'darlin cantdo anythingtomorrow myparents aretaking outfor meal u free', 'darlin youphone im athome youwanna', 'darren say dat u meeting da ge den dun meet dinner cos later u leave xy feel awkward den u meet lunch lor', 'das cool iknow all wellda peril of studentfinancial crisis spk u', 'date service cal l', 'date two only start send text talk sport radio last week any connection think coincidence', 'day kick for u keep date late news result daily to remove send get txt stop', 'day kickoff u keep informed late news result daily unsubscribe send get euro stop', 'dear angry busy dear', 'dear are ok', 'dear call', 'dear call accomodate', 'dear chechi did talk', 'dear dave final notice collect tenerife holiday cash award call landline tcs sae', 'dear deny word please', 'dear friends sorry late information today birthday love detail log face book see its number lt gt dont miss delicious treat', 'dear get bus directly calicut', 'dear get lt gt dollar hi hi', 'dear get train seat mine low seat', 'dear go rubber place', 'dear good morning', 'dear good morning feeling dear', 'dear hero leave qatar tonite apt keep touch lt email gt kerala', 'dear know lt gt th lt gt th birthday love gopalettan we plan give small gift day those like participate welcome please contact admin team detail', 'dear matthew please call landline complimentary tenerife holiday cash await collection sae t cs', 'dear me case u r come cochin pls call bfore u shall also reach tell day u r engage an holiday', 'dear mood i cant drive brother drive', 'dear reach', 'dear reach railway what happen', 'dear reache room', 'dear regret cudnt pick frm ctla cochin mobile style ishtamayoo happy bakrid', 'dear relieve westonzoyland go plan end', 'dear shall mail street shall update look edukkukayee raksha good one real sense', 'dear sir salam pleasure meeting today tea please send contact number save regards', 'dear subscriber ur draw gift voucher b enter receipt correct an when elvis presleys birthday txt answer', 'dear take care i reach u lot', 'dear u invite xchat this final attempt contact u txt chat', 'dear u invite xchat this final attempt contact u txt chat ldn', 'dear u invite xchat this final attempt contact u txt chat ldn yr', 'dear umma call', 'dear voucher holder claim class airport lounge pass use your holiday voucher call when book quote class x', 'dear voucher holder claim week offer pc go http ts cs stop text txt stop', 'dear voucher holder have next meal u use follow link pc enjoy din experiencehttp', 'dear voucher holder to claim week offer pc please go http ts cs apply', 'dear voucher holder to claim week offer pc please go http ts cs apply to stop text txt stop', 'december had mobile you entitle update late colour camera mobile free call the mobile update co free', 'december had mobile you entitle update late colour camera mobile free call the mobile update vco free', 'delete contact', 'delhi chennai still silent', 'den wat e schedule b lk sun', 'den weekday get special price haiz cant eat liao cut nail oso muz wait finish drivin wat lunch still muz eat wat', 'depends individual lor e hair dresser say pretty parent say look gong u i also dunno wat collect', 'depends quality if want type send boye fade glory if want ralphs maybe', 'depends u go lor', 'derek do class', 'derp which worse dude always want party dude file complaint three drug abuser life', 'designation software developer may get chennai', 'detroit the home snow enjoy', 'dhoni luck win big win', 'did call ah', 'did catch bus are fry egg did make tea are eat mom leave dinner do feel love', 'did either idea do know anyplaces something', 'did get gift this year didnt get anything so bad', 'did get hep b immunisation nigeria', 'did hear new it come ken stuff', 'did i forget tell i want i need i crave but i love sweet arabian steed mmmmmm yummy', 'did say bold torch later or one torch', 'did say fantastic i chance anything need big life lift lose live think i would first person die n v q', 'did say somebody name tampa', 'did see film', 'did show wot say could u c dust', 'did stitch trouser', 'did try g i decide head', 'did try make another butt', 'did u download fring app', 'did u find sitter kaitlyn i sick slept day yesterday', 'did u find time bus coz need sort stuff', 'did u fix teeth take care', 'did u get person story', 'did u receive msg', 'did u see i post facebook', 'did u turn heater the heater set lt gt degree', 'die i accidentally delete e msg suppose put e sim archive haiz i sad', 'die now e toot fringe', 'din tell u jus', 'ding ya break fassyole blacko londn', 'dip cell dead so coming u good respond else shall come back', 'dis yijue i jus saw ur mail in case huiming havent send u num dis num', 'discussed mother ah', 'ditto and wo worry say anything anymore like say last night whatever want peace', 'dizzamn aight i ask suitemates i get back', 'dnt wnt tlk wid u', 'dnt worry use ice piece cloth take tablet', 'do always celebrate ny family', 'do b floppy b snappy happy only gay chat service photo upload call stop text call', 'do ever notice drive anyone go slow idiot everyone drive faster maniac', 'do forget own private property and good boy always', 'do forget though i love and i walk beside watching keep heart warm', 'do fret i buy ovulation test strip send you wont get til like march can send postal', 'do hide anythiing keep distance', 'do i i think i put back box', 'do know dad back', 'do know god create gap so one made come amp fill gap hold hand', 'do know lab goggles go', 'do know mallika sherawat yesterday find lt url gt', 'do know result', 'do like italian food', 'do like shake booty dance floor', 'do look back build coat want get sick just hurry home wear coat gym', 'do make life always find time it may add year life but surely add life ur year gud', 'do mind give lift co get car', 'do mind i ask happen you dont say uncomfortable', 'do necessarily expect do get back though i headin', 'do nice day today i love dearly', 'do noe ben go', 'do not b late love mum', 'do realize year thousand old lady run around tattoo', 'do spare power supply', 'do still grinder', 'do thing change sentence want concentrate educational career im leave', 'do think about u have think about how use it that you have good', 'do think move lt gt week', 'do u ever get song stuck head reason wo go away til u listen like time', 'do u hav frnd name ashwini ur college', 'do u knw dis lt gt', 'do u konw waht rael friendship im gving yuo exmpel jsut ese tihs evrey splleing tihs msg bt sitll yuo raed wihtuot ayn goodnight amp have a nice', 'do u noe send file computer', 'do u noe wat time e place dat sell close', 'do u still plumber tape wrench could borrow', 'do u want meet up', 'do wan meet n combine part how da rest da project go', 'do want anytime network min text new video phone five pound per week call reply delivery tomorrow', 'do want bold bb torch', 'do want new nokia colour phone delivered tomorrow with free minute mobile free text free camcorder reply call', 'do want new nokia colour phone deliveredtomorrow with free minute mobile free text free camcorder reply call', 'do want new video anytime network min text five pound per week call reply delivery tomorrow', 'do want new video handset anytime network mins half price line rental camcorder reply call delivery tomorrow', 'do want new video handset time network min unlimited text camcorder reply call del sat am', 'do want new video phone anytime network min inclusive video call and downloads per week free deltomorrow call reply now', 'do well little time thing good time ahead', 'do whatever want you know rule we talk early week start happen show responsibility yet every week bend rule way what way do whatever i tire thia argument every week and lt gt movie doesnt inlude preview you still get', 'do work week', 'do worry easy ingredient', 'do worry though i understand important i put place poorly think punishment face bad thing ever happen brb gon na go kill', 'doc prescribe morphine cause pain med enough waiting mom bring that med kick fast i gon na try later', 'doctor cancer fat bone problms litres diseases snd th whom u', 'does cinema plus drink appeal tomo is fr thriller director like mac', 'does daddy bb', 'does g class early tomorrow thus try smoke lt gt', 'does operate lt gt', 'does uncle timi help clearing car', 'does usually take fifteen fuck minute respond yes question', 'doing master when buy bb cos sale bf', 'doing nothing u dinner w u', 'doing project w frens lor', 'don check', 'don da whats plan', 'don know i msg recently', 'don know week go tirunelvai da', 'don watching film', 'done internet connection v slow send will try later first thing tomo', 'dont flatter tell man mine two pint carlin ten minute please', 'dont forget place many free requests wish for information call', 'dont gim lip caveboy', 'dont give monkey wot think certainly mind any friend mine just sleep wiv wud annoyin', 'dont hesitate you know second time weakness like so keep notebook eat day anything change day sure nothing', 'dont kick coco', 'dont know bring food', 'dont know support as srt thnk i think play usb', 'dont let study stress', 'dont make ne plan nxt wknd coz want u come ok', 'dont message offer', 'dont opener', 'dont pack buy cereal if must pack food pack gari something miss', 'dont pick call something important there tell hrishi', 'dont put phone silent mode ok', 'dont search love let love find thats call fall love bcoz u dont force u fall u know smeone hold u bslvyl', 'dont show how far put new picture facebook', 'dont talk ever ok word', 'dont think it turn like randomlly within open', 'dont think need yellow card uk travel ask someone go if lt gt buck', 'dont worry day big lambu ji vl enjoy batchlor party', 'dont worry i guess busy', 'dorothy bank granite issue explosive pick for our members over nasdaq symbol cdgt that', 'double eviction week spiral michael good riddance', 'double min txts free bluetooth orange available sony nokia motorola phone call', 'double min txts orange price linerental motorola sonyericsson free call', 'double min txts orange tariff latest motorola sonyericsson nokia bluetooth free call yhl', 'double mins double txt price linerental latest orange bluetooth mobiles call late offer', 'double mins txts orange tariff latest motorola sonyericsson nokia bluetooth free call', 'download many ringtones u like restriction choose u even send yr buddy txt sir', 'draw va dont think', 'dude avatar imp at one point think actually fly room almost try hittng one reflex', 'dude get haircut now breezy', 'dude go sup', 'dude im longer pisces im aquarius', 'dude ive see lotta corvette lately', 'dude like buff wind', 'dude makin weirdy brownie sister make awesome cooky i take pic', 'dude saw parked car sunroof pop sux', 'dude sux snake he get old raiden get buff', 'dude u knw also gud', 'dude what how teresa hope okay when didnt hear people call receive package since dec lt gt just thot like know do fantastic year best reading plus really really bam first aid usmle work do', 'dun b it dun thk abt already concentrate ur paper k', 'dun need pick ur gf', 'dun need use dial juz open da browser n surf', 'dun wan watch infernal affair', 'dunno co v late n reach inside already but ate spageddies lor it e gal r laugh lor', 'dunno da next show aft toa payoh get', 'dunno dad say coming home bring u lunch yup go w u lor i call u reach school lor', 'dunno dat wat tell ok lor', 'dunno jus say go lido same time', 'dunno juz askin co get card get salon call hair sense tot da one cut ur hair', 'dunno leh cant remember mayb lor so wat time r meeting tmr', 'dunno lei decide lor how abt leona oops tot ben go n msg', 'dunno lei i might b eatin wif frens if wan eat wait lar', 'dunno lei i thk mum lazy go i neva ask yet', 'dunno lei neva say', 'dunno lei shd b drive lor co go sch hr oni', 'dunno u ask', 'e admin building i might b slightly early i call u reaching', 'each moment day bring hope afternoon brings faith evening brings luv night bring rest wish u find morning', 'early bird any purchase yet', 'east coast', 'eastenders tv quiz what flower dot compare violet tulip lily txt d e f now chance win cash', 'easy ah sen get select mean', 'easy mate guess quick drink bit ambitious', 'eat jap do oso aft ur lect wat get lect rite', 'eat old airport road but oredi got lot pple', 'eatin later eatin wif frens lei go home first', 'eatin lunch', 'edison rightly say fool ask question wise man now know u speechless gm', 'edrunk sorry iff pthis make dancce drum n basq ihave fun x ro', 'ee msg na poortiyagi odalebeku hanumanji name ee name lt gt janarige ivatte kalisidare next saturday olage ondu good news keluviri maretare inde dodda problum nalli siguviri idu matra lt gt do neglet', 'eek lot time especially since american pie like minute long i ca stop singing', 'eerie nokia tone rply tone title eg tone dracula titles ghost addamsfa munsters exorcist twilight', 'eh den sit u book e kb liao huh', 'eh sorry leh i din c ur msg not sad already lar me watch tv u still office', 'eh u remember spell name yes he v naughty make v wet', 'eh u send wrongly lar', 'eh ur laptop get stock lei he say mon muz come take look c get', 'either way work i lt gt year old hope doesnt bother', 'ela il download come wen ur', 'ello babe u ok', 'em olowoyey great time argentina not sad secretary everything blessing', 'email alertfrom jeri stewartsize prescripiton drvgsto listen email call', 'en chikku nange bakra msg', 'england v macedonia dont miss news txt ur national team eg england try wales scotland', 'enjoy jamster videosound gold club credit new get fun help call', 'enjoy shower possessiveness pour u ur love one bcoz world lie golden gift love', 'enjoy ur life good night', 'enjoy urself tmr', 'enufcredeit ileave uni at a bus to yor house', 'er hello thing quite go plan limp slowly home follow aa exhaust hanging', 'er mw im fill tuth aight', 'er yeah b sorry just tell sit come wen u', 'er yep sure props', 'erm i think contract run october', 'erm ill pick that give enough time get park', 'erm woodland avenue somewhere do get parish magazine telephone number', 'err cud i go i get way contact', 'erutupalam thandiyachu', 'especially since talk boston personal statement lol i woulda change realize say nyc it say boston', 'esplanade lor where else', 'even brother like speak they treat like aid patent', 'even cant close eye vava play umma', 'even da urgent', 'even friend priest call', 'even u dont get trouble tel twice tel neglect msg dont c read dont reply', 'evening v good somewhat event laden will fill worry head ok throat wreck see six', 'ever green quote ever tell jerry cartoon person who irritates u always is one who loves u vry much but fails express it gud nyt', 'ever one foot', 'ever think living good life perfect partner just txt back name age join mobile community', 'every day use sleep lt gt', 'every king was once a crying baby and every great building was once a not imprtant where u r today but where u wil reach tomorw gud', 'every night take warm bath drink cup milk see work magic you still need loose weight just know', 'every week vl', 'everybody fun even miss', 'evry emotion d hav wish d hav if u smile d world wit even drop tear d lik stay wit b good morning keep smiling', 'ew one', 'exactly anyways far is jide study visit', 'excellent are ready moan scream ecstasy', 'excellent i see riley plan', 'excellent i spend lt gt year air force iraq afghanistan i stable honest like travel', 'excellent wish together right', 'except there chick huge boob', 'eye philosophy', 'fair enough anything go', 'faith make thing possible hope make thing work love make thing beautiful may three christmas merry christmas', 'fancy shag i txt xxuk suzy txts cost per msg tncs website x', 'fantasy football back tv go sky gamestar sky active play dream team scoring start saturday register sky opt out', 'favor pls convey birthday wish dnt forget today birthday shijas', 'favour pls convey birthday wish nimya pls today birthday', 'feb lt gt love day send dis ur valued evn if come back u gt marry person u luv if u ignore dis u lose ur luv evr', 'feel like try kadeem v', 'feel word well silence gud mrng', 'feel yourself that you are always slowly it becomes your habit amp finally it becomes part of your follow happy morning amp have a happy day', 'felt convey ese what', 'fffff can text kadeem far go', 'ffffffffff alright way i meet sooner', 'fighting world easy u either win lose bt fightng close u dificult u lose u lose u win u still lose', 'filthy story girls wait', 'final chance claim ur worth discount voucher today text yes savamob member offer mobile t cs savamob subs', 'finally aftr beer cheap petrol the goverment expect u but drive', 'finally match head towards draw prediction', 'find i sent offline message know anjola', 'fine do remember', 'fine i difficulties phone it work mine can pls send another friend request', 'fine miss much', 'fine simply sit', 'fine way u feel way gota b', 'finish already yar keep say mushy i embarrass ok', 'finish liao u', 'finish meeting call', 'finish soon', 'finished class', 'first answer question', 'first gain lt gt kg since take second do blood sugar test if ok blood pressure within normal limit worry', 'flirt now txt girl bloke ur name age eg girl zoe join get chat', 'for callin culdnt talkbut i wannatell u details later wenwecan chat properly', 'for chance win free bluetooth headset simply reply back', 'for family', 'for fear fainting housework quick cuppa', 'for information ikea spell cap that yell thought leave sit bed among mess come say go get home class please try bullshit it make want listen less', 'for love start feel i need every time around first thing come would start day end every time i every breath life happen around life name would cry give happiness take ready fight anyone love i craziest thing i proove anyone girl beautiful lady whole always sing praise i start make chicken curry end makiing beautiful get every morning thank god day would like say tell', 'for many thing antibiotic use chest abdomen gynae infection even bone infection', 'for real tho suck i ca even cook whole electricity and i hungry', 'for real u get yo i need ticket one jacket i do i already use multis', 'for sale arsenal dartboard good condition double treble', 'for take part mobile survey yesterday you texts use however wish get txts send txt t c', 'for the first time in the history and are sold at same price in lt gt lt gt lt gt shesil lt gt', 'for ur chance win cash every wk txt action t c custcare', 'for ur chance win cash every wk txt play t c custcare', 'for ur chance win wkly shopping spree txt shop t c custcare', 'forgot take year shower sorry where phone dead yet', 'forgot tell can like number section', 'forgot work today wan na chat thing ok drop text free bore etc ring hope well nose essay xx', 'forwarded free entry weekly comp send word enter now t c', 'forwarded hi mailbox messaging sms alert you match please call back retrieve message match', 'forwarded hi mailbox messaging sms alert you message you match please call back retrieve message match', 'forwarded please call immediately urgent message wait', 'found enc lt gt', 'fran i decided go n e way im completely broke an knackered i got up bout c u love janx this is my dads fone credit', 'free camera phone linerental cross ntwk min price txt bundle deal also avble call mf', 'free day finish mon n thurs', 'free entry weekly comp chance win ipod txt pod get entry std txt rate t c apply detail', 'free entry weekly comp send word enter now t c cust care', 'free entry weekly comp send word win now t c', 'free entry weekly competition text word win now t c', 'free entry wkly comp chance win late nokia psp cash every great', 'free entry wkly comp win fa cup final tkts may text fa receive entry question std txt rate t c apply', 'free game get rayman golf free games arcade get ur game setting reply post save press key arcade termsapply', 'free message activate free text messages reply message word free for term condition visit', 'free msg get gnarls barkleys ringtone totally free reply go message right', 'free msg ringtone from http wml', 'free msg single find partner area real people wait chat send chat send stopcs per msg', 'free msg sorry service order could deliver sufficient credit please top receive service', 'free msg we bill mobile number mistake shortcode call charge call free bt landline', 'free nokia or motorola upto linerental free min free call call', 'free ring tone text then every week get new tone', 'free ringtone reply real', 'free ringtone reply real poly eg pushbutton dontcha babygoodbye golddigger webeburnin tone free u join', 'free ringtone text first poly text get true tone help free tone txt stop', 'free tarot texts find love life try for free text chance after free msgs', 'free text msg just text ok credit account', 'free tone hope enjoy new content text stop unsubscribe provided', 'free top polyphonic tones call national rate get toppoly tune send every week text subpoly per pole unsub', 'free top ringtone weekly week subpoly per', 'free unlimited hardcore porn direct mobile txt porn get free access hr chrgd per day txt stop this msg free', 'free video camera phone half price line rental mths cross ntwk min txts call', 'free week entry textpod chance win ipod cash every wk txt pod ts cs custcare', 'free week entry textpod chance win ipod cash every wk txt vpod ts cs custcare', 'free week nokia tone ur mob every week txt nokia get txting tell ur mate pobox', 'free week nokia tone ur mob every week txt nokia get txting tell ur mate pobox norm', 'free week nokia tone ur mob every week txt nokia get txting tell ur mate zed pobox', 'free week nokia tone ur mobile every week txt nokia get txting tell ur mate pobox', 'freemsg claim ur sms ok use ur mate etc join t c remove txtx stop', 'freemsg fancy flirt reply date join uks fast grow mobile date service msgs rcvd optout txt stop reply date', 'freemsg fav xmas tones reply real', 'freemsg feelin kinda lnly hope u like keep company jst get cam moby wan na c pic txt reply date hlp stop', 'freemsg hey darling week word back i like fun still tb ok xxx std chgs send rcv', 'freemsg hey i buffy love satisfy men home alone feel randy reply c pix qlynnbv msg send stop stop txts', 'freemsg hey u get fones reply wild txt ill send u pic hurry im bore work xxx', 'freemsg hi baby wow get new cam moby wan na c hot pic fancy chat im rply chat hlp', 'freemsg our record indicate may entitle pound accident to claim free reply yes msg to opt text stop', 'freemsg today day ready i horny live town i love sex fun game netcollex ltd per msg reply stop end', 'freemsg txt call no claim reward hour talk time use phone inc stop txtstop', 'freemsg unlimited free call activate smartcall txt call no unlimited call help stop txt stop landlineonly', 'freemsg why reply text i randy sexy female live local luv hear netcollex ltd per msg reply stop end', 'freemsg you award free mini digital camera reply snap collect prize quizclub opt stop sp rwm', 'friends u stay fb chat', 'friendship game play it word say it start march end may it tomorrow yesterday today e', 'friendship poem dear o dear u r not near but i can hear dont get fear live with cheer no more tear u r always dear gud', 'frnd juz word merely relationship silent promise say i you forevr gudnyt', 'from lost help', 'from next month get upto more calls ur standard network charge activate call c cost min mobcudb', 'from someone smoke every time i smoke last two week call texting want smoke', 'from the performance award calculate every two current one month', 'from tomorrow onwards eve work', 'from work timing', 'fuck babe i miss already know ca let send money towards net i need i want i crave', 'fuck babe i miss sooooo much i wish sleep my bed lonely i go sleep to dream love', 'fuck babe what happen how come never come back', 'fuck cedar key fuck come anyway tho', 'fuck juswoke up in a bed on a boatin the docks slept wid year old spinout giv u da gossip', 'ful song', 'full heat pa apply oil pa', 'fun fact although would think armand would eventually build tolerance shit consider much smoke get fuck like hit', 'funny fact nobody teach volcano erupt tsunami arise hurricane sway aroundn teach hw choose wife natural disaster happen', 'future plan tomorrow result today do best present enjoy future', 'fuuuuck i need stop sleepin sup', 'fwiw reason i around time smoke gas i afford around someone tell apparently happen somebody want light', 'fyi i gon na call sporadically start like lt gt bc doin shit', 'fyi i take quick shower epsilon like lt gt min', 'fyi i usf swing room whenever', 'g say never answer text', 'g want know fuck', 'gain right demand try husband see', 'gal n boy walking park hold ur hand u think would run away jst wana c feel walk heaven', 'gam go outstanding inning', 'garbage bag egg jam bread hannaford wheat chex', 'gd luck ur exam', 'geeee i miss already know your i think fuck i ca wait till next year together', 'geeeee i love much i barely stand', 'geeeee your internet really bad today eh', 'genius how brother pls send number skype', 'gent we try contact last weekend draw show prize guaranteed call claim code valid', 'get brand new mobile phone agent the mob plus load goody for info text mat', 'get door i', 'get dump heap my mom decide come lowes boring', 'get free mobile video player free movie to collect text go its free extra film order c apply yr', 'get gandhipuram walk cross cut road right side lt gt street road turn first right', 'get garden ready summer free selection summer bulb seed worth the scotsman saturday to stop', 'get lions england tone reply lionm mono lionp poly go original n best tones network operator rate apply', 'get lots cash weekend dear welcome weekend we get big best ever cash give away', 'get money da', 'get official england poly ringtone colour flag yer mobile tonight game text tone flag optout txt eng stop', 'get ok', 'get ready lt gt inch pleasure', 'get ready moan scream', 'get ready put excellent sub face', 'get ringtones logos game questions info', 'get salt rub open wound like', 'get thing may pub later', 'get tomorrow send', 'get ur ringtone free now reply msg tone top tone phone every week per wk opt send stop', 'get wat buy tell u need come', 'gettin rdy ship comp', 'gibbs hussey', 'gim lt gt minute ago', 'girl many local u r virgin r ready ur every sexual need can u text cute', 'girl wait reception ah', 'give fly monkey wot think i certainly mind any friend mine', 'give one', 'give one miss number please', 'give plus say grinule greet whenever speak', 'give sec think think', 'give something drink take vomit temp might drop if unmits however let know', 'give time walk', 'glad go well come plenty time claire go work', 'glad see reply', 'gloucesterroad uup later', 'go', 'go bed prin', 'go chase run cross street', 'go fool dont cheat others ok', 'go home liao ask dad pick', 'go jurong point available bugis n great world la e buffet cine get amore wat', 'go n buy juz buy get lar', 'go tirunelvali week see uncle already spend amount take dress want give feb', 'go try month ha ha joking', 'go write msg put dictionary mode cover screen hand press lt gt gently remove ur its', 'goal arsenal henry v liverpool henry score simple shot yard pass bergkamp give arsenal goal margin min', 'god asked forgiveness a little child give lovely reply', 'god create gap btwn ur finger dat vry special fill gap hold ur now plz dont ask create much gap leg', 'god good sleep dear pray', 'god love limit god grace measure god power boundary may u god endless blessing always ur life gud', 'god pick flower dippeditinadew lovingly touch itwhichturnedinto u gift tomeandsaid this friend is', 'goin workout lor muz lose e fat', 'going', 'going join tomorrow', 'going nothing', 'going take babe', 'going thru different decision cop heal everything believe', 'gokila talk aha', 'goldviking invite friend reply see stop send stop frnd', 'gon na let know cos come bak holiday day come number', 'good afternon love how today i hope good maybe interview i wake miss babe a passionate kiss across sea', 'good afternoon babe how go day any job prospect yet i miss love', 'good afternoon boytoy how feel today better i hope are good boy are obedient slave do please queen', 'good afternoon boytoy how go walking day did get police abstract are still i wake miss babe', 'good afternoon glorious anniversary day sweet j i hope find happy content prey i think send tease kiss across sea coaxing image fond souveniers you', 'good afternoon love any job prospect are miss what are lazy bleak hmmm or happy fill love', 'good afternoon love how go day how sleep i hope well boytoy i think', 'good afternoon love how go day i hope maybe get lead job i think boytoy send passionate kiss across sea', 'good afternoon love how go day what i wake early online wait hmmm italian boy online i see', 'good afternoon love it good see word ym get tm very smart move slave i drink coffee await', 'good afternoon loverboy how go day any luck come way i think sweetie send love across sea make smile happy', 'good afternoon sexy buns how go job search i wake first think always love i wish fine happy know i adore', 'good afternoon starshine how boytoy does crave yet ache fuck i miss babe', 'good afternoon sunshine how dawns day are refresh happy alive do breathe air smile i think love as always', 'good crickiting mind', 'good day you teeth painful maintaining stuff', 'good evening how', 'good evening roger how', 'good evening sir al salam happy grace god get offer tayseer tissco allah meet visitor india', 'good evening sir hope nice day i want bring notice i late pay rent past month pay lt gt charge i felt would inconsiderate nag something give great cost didnt speak i however recession wont able pay charge month hence askin well ahead month end can please help thank everything', 'good friends care close friends understand other true friends stay forever beyond word beyond time gud', 'good good billy mat go just jog did enjoy concert', 'good good job i like entrepreneur', 'good luck draw take place feb good luck for removal send stop customer service', 'good morning at repair shop only reason hour', 'good morning boytoy how yummy lips where sexy buns what do think do crave do need', 'good morning dear have great amp successful day', 'good morning dear shijutta have great amp successful day', 'good morning im suffer fever dysentry able come office today', 'good morning love i go sleep wish great day full feeling well opportunity you last thought babe i love you', 'good morning plz call sir', 'good morning pookie pie lol hope i wake u', 'good morning princess happy new year', 'good morning princess have great day', 'good morning princess how', 'good night am go sleep', 'good night sleepwell amp take care', 'good no need do yes please tell number could ring', 'good no swimsuit allow', 'good she wonder wont say hi smile so cop long distance', 'good sleep rhythm the person establish rhythm body learn use if want know', 'good stuff', 'good think could send pix i would love see top bottom', 'good weekend', 'good word but word may leave u dismay many time', 'goodmorning grandfather leave today', 'goodmorning sleep ga', 'goodmorning today late', 'goodmorning today late because back pain', 'goodmorning today late lt decimal gt min', 'goodmorning today late lt gt min', 'goodnight da thangam i really miss u dear', 'goodnight sleep well da please take care pa please', 'goodo yes must speak friday ratio tortilla need', 'gosh pain spose i better come', 'got c i lazy type i forget lect i saw pouch like v nice', 'got fujitsu ibm hp toshiba got lot model say', 'got get colour lor one colour quite light n e darker lor actually do style hair', 'got hella gas money want go grand nature adventure galileo little bit', 'got it look scrumptious daddy want eat night long', 'got meh when', 'got panren', 'got seventeen pound seven hundred ml hope ok', 'got small capacity one quite ex', 'got take take part wrc rally oz u lucozade energy text rally le see pack itcould u', 'got ur mail muchand look forward lot support less contact remember one venugopal late shall try come till dear', 'great escape i fancy bridge need lager see tomo', 'great have safe trip dont panic surrender', 'great hear settle well so happenin wit ola', 'great hope use connection mode men also cos never know old friend lead today', 'great how office today', 'great i church holla get', 'great i get worried just know wonderful care person like best life know u r wonderful god love', 'great i hope like man well endow i lt gt inch', 'great i run ttyl', 'great i shoot big load get ready', 'great never good each day give even reason thank god', 'great new offer double mins double txt best orange tariff and get late camera phone free call free now t cs', 'great news call freefone claim guarantee cash gift speak live operator now', 'great p diddy neighbor come toothpaste every morning', 'great princess i love give receive oral doggy style fave position how i enjoy make love lt gt time per night', 'great so attract brothas', 'great so send account number', 'great stop laughing da', 'greetings consider excuse', 'gsoh good spam lady u could b male gigolo join uk fast grow men club reply oncall mjzgroup reply stop msg', 'guai shd haf see naughty free today can go jogging', 'gud', 'gud care', 'gud chikku tke sleep well gud nyt', 'gud mrng dear hav nice day', 'gud mrng dear nice day', 'gudnite practice go', 'guess i this first time i create web page read i write i wait opinion i want friend', 'guess pub im im happy pig clover whatever say', 'guess somebody know secretly fancy wan na find give u call from landline', 'guess somebody know secretly fancy wan na find give u call landline', 'guess spend last night phase fourth dimension', 'guess want alone time we could show watch', 'guessin ai gon na', 'gumby special lt gt cheese pizza i know doin tonight', 'guy flash if go call call how madam take care oh', 'ha both u e thing but get tv watch u thk go tonight u already haf smth mind', 'ha ha cool cool chikku chikku', 'ha ha ha good joke girls situation seeker', 'ha ha nan yalrigu kothi chikku u share many thing wit far tell body even utter word abt if ur trust much tell plz nxt time dont use word chikku', 'ha ha pop loo hello', 'ha i would say i read anything way u seem i like judgemental save friday pub', 'ha then must walk everywhere can take tram my cousin say walk vic market hotel', 'ha u jus ate honey ar so sweet', 'ha you know either i clever simple thing pear day perfect christmas', 'hack chat get backdoor entry chat room fraction cost reply call subscribe pm dps bcm box ldn', 'had contract mobile mnths latest motorola nokia etc free double mins text orange tariff text yes callback remove record', 'had mobile month u r entitle update late colour mobile camera free call the mobile update co free', 'had mobile mths update late orange phone free save free call text yes callback orno opt', 'had mobile mths update late phone free keep ur same number get extra free text yes call', 'had mobile update free oranges late colour camera mobile unlimited weekend call call mobile freefone', 'had money issue weigh thanks i breathe easy make sure dont regret thanks', 'haf u eaten wat time u wan come', 'haf u find i feel stupid da v cam work', 'haha awesome i couple time who come', 'haha awesome i might need take doin tonight', 'haha awesome minute', 'haha awesome omw back', 'haha but dinner cousin', 'haha dont angry take practice real thing', 'haha figure well i find piece priscilla bowl', 'haha first person i gon na ask', 'haha friend tyler literally ask could get dubsack', 'haha get use drive usf man i know lot stoner', 'haha good hear i officially pay market', 'haha hope hear receipt sound gd luck', 'haha i hear text around', 'haha i thinkin', 'haha kid papa need drug', 'haha legs neck kill amigo hop end night burn think i could swing like hour', 'haha mayb u rite u know well da feeling like someone gd lor u faster go find one gal group attach liao', 'haha money leh later get go tuition haha look empty slot drive lesson', 'haha okay today weekend leh', 'haha really oh how then deduct lesson tmr', 'haha sounds crazy dunno tahan anot', 'haha they cant at tmr forfeit haha', 'haha think', 'haha well late ever way i could swing', 'haha where get fast lose weight thk muz go month den get effect gee later go aust put bk e weight', 'haha yeah i see sec', 'haha yeah oz kind shitload', 'haha yup hopefully lose kg mon hip hop go orchard weigh', 'hai ana tomarrow come morning lt decimal gt ill sathy go rto office reply come home', 'hai dear friend this new amp present by rajitha raj ranju', 'hai priya right what doctor say where', 'haiyoh maybe hamster jealous million', 'half price orange line rental call', 'half price orange line rental late camera phone free had phone call mobilesdirect free update', 'half price orange line rental late camera phone free had phone call mobilesdirect free update t cs', 'half year miss friendship', 'hamster dead hey tmr meet orchard mrt', 'hand phone chat wit u', 'hanging brother family', 'hank lotsly', 'happen adventure', 'happy advance', 'happy birthday lot nri', 'happy birthday may u find ur prince charm soon n dun work hard', 'happy birthday may ur dream come true', 'happy new year dear brother i really miss just get number decide send text wish happiness abiola', 'happy new year hope good semester', 'happy new year melody', 'happy new year my man', 'happy new year princess', 'happy new year u', 'happy new year u ur family may new year bring happiness stability tranquility ur vibrant colourful life', 'happy sad one thing past good morning', 'hard but true how much show amp express love someone much hurt leave get seperated evening', 'hard live chat choose girl connect live call cheap chat uk big live service vu', 'has pattern recently crap weekend', 'have always say welp', 'have bookedthe hut and also time how way', 'have eat day i sit star juicy pizza i ca eat these med ruin life', 'have emigrate something ok maybe bit hopeful', 'have find way get another app phone eh will go net cafe did take job geeee i need babe i crave see', 'have finish work yet', 'have finish work yet something', 'have get xmas radio time if get', 'have good day mine really busy much tomorrow night', 'have good evening ttyl', 'have good trip watch remember get back must decide easter', 'have great trip india and bring light everyone project everyone lucky see smile bye abiola', 'have hear anything answer text i guess flake that say jb fantastic', 'have hear job i go wildlife talk tonight u its wizzle whatever', 'have hear week', 'have lay airtel line rest', 'have leave yet probably gon na til dinner', 'have lovely night wake see message hope smile know have great morning', 'have lunch come quickly open door', 'have nice day dear', 'have practise curtsey', 'have safe trip nigeria wish happiness soon company share moment', 'have see back holby', 'have see facebook huh lol', 'have start skye', 'havent', 'havent mu ask u wat of meet lunch den u n meet already lor or u wan go ask da ge confirm w asap', 'havent plan buy later i check already lido get show e afternoon u finish work already', 'havent shop lor juz arrive', 'havent stick orchard dad car going dinner u leh so r free tonight', 'havent still waitin usual come back sch oredi', 'having lunch online', 'hcl chennai require freshers voice english upto lt gt lt gt telephonic interview', 'he adult would learn experience there real danger i dont like peep use drug dont need but comment', 'he also know lunch menu da i know', 'he dint tell anything he angry tell abi', 'he fuck chickened he message would late woould buzz i hear word', 'he gon na worry nothing and wo give money use', 'he guy close', 'he impossible argue always treat like sub like never release which i remind necessary', 'he lag that sad part keep touch thanks skype', 'he like v shock leh cos tell shuhui like tell leona also like dat almost know liao he get ask abt ur reaction lor', 'he lot use one babe model help youi bring match', 'he need stop go bed make fucking deal', 'he neva grumble sad lor hee buy tmr lor aft lunch but still meetin lunch tmr neva hear fr lei get lot work ar', 'he really skateboard despite fact get thrown wind bandage shit arm every five minute', 'he remain bro amongst bros', 'he say give call friend get money definitely buy end week', 'he say hi get as back south tampa preferably kegger', 'he say look pretty wif long hair wat but thk cut quite short leh', 'he say right giggle saw u you would possibly first nvq think much could', 'he see shadow we get early spring yay', 'he tell tell one if treat hi hi hi', 'he womdarfull actor', 'he world famamus', 'he you call meet', 'headin towards busetop', 'heard abt', 'heart empty without mind empty without eyes r empty without dream amp life empty without so alwys be in touch good night amp sweet dream', 'heart sory', 'heehee funny tho', 'height confidence all aeronautics professor wer calld amp wer askd sit aeroplane aftr sit wer tell dat plane w make student dey hurry bt didnt move he say make student', 'height recycle read people spend time earn money money spend spending time good keep smiling', 'height shit situation a guy throw luv letter gal fall brother head who gay', 'hello as per request lt gt transfer', 'hello baby get back mom are set computer filling belly how go loverboy i miss already', 'hello beautiful r u ok i kinda ad row wiv walk pub i want night wiv u miss u', 'hello boytoy geeee i miss already i wake i wish bed cuddle i love', 'hello boytoy geeee i miss today i like send tm remind i think and love', 'hello boytoy i make home constant think love i hope nice visit i ca wait till come home', 'hello damn christmas thing i think decide keep doesnt work', 'hello darlin ive finish college txt u finish u love kate xxx', 'hello darling today i would love chat dont tell look like sexy', 'hello good week fancy drink something later', 'hello handsome are find job not lazy working towards get back net mummy where boytoy does miss', 'hello hello hi lou sorry take long i leave mobile friend lancaster get bak neway im sorry i make ur hun', 'hello how r u im bore inever think id get bored tv i tell something exciting happen anything', 'hello how saturday go i texting see decide anything tomo not try invite anything', 'hello hun ru its way im good been date guy meet walkabout far we meet soon hows everyone else', 'hello just get st long way its cold i keep post', 'hello little party animal i think i buzz friend reminding love send naughty adore kiss', 'hello love how go day are alright i think sweet send jolt heart remind i love you can hear i scream across sea world hear ahmad al hallaq love own passionate', 'hello love how go day i wish well fine babe hope find job prospect i miss boytoy teasing', 'hello love what did get interview today are happy are good boy do think are miss', 'hello lover how go new job are are happy do think i wake slave send tease kiss across sea', 'hello madam', 'hello no news job make wait fifth week yeah im woozles weasel in exeter still home', 'hello orange for month free access game news sport plus free text photo message reply yes terms apply', 'hello peach my cake tasts lush', 'hello site download song urgent pls', 'hello sort town already that so dont rush home i eat nachos will let know eta', 'hello they go village pub either come accordingly ok', 'hello we need posh bird chap user trial prod champneys can put i need address dob asap ta r', 'hello yeah get bath need hair come do yeah', 'hellogorgeous hows u my fone was on charge lst nitw wen u texd me hopeu ad a nice wkend as im sure u did lookin u luv jaz', 'helloooo wake this full gud', 'hen night going swing', 'here discount code to stop message reply stop customer services', 'here get lot hair dresser fr china', 'here get ur favorite oyster n get favorite sashimi ok lar dun say already wait ur stomach start rumble', 'hey angry reply dr', 'hey anyone u go e drive centre tmr', 'hey anyway', 'hey around i get enough half ten i owe', 'hey babe friend cancel still visit', 'hey babe go did ever figure go new years', 'hey babe i saw come online second disappear happen', 'hey babe sorry get sooner gary come fix cause think know go far ptbo say cost lt gt buck i know might cheaper find someone we second hand machine right let know want babe', 'hey book kb sat already lessons go ah keep sit night free need meet confirm lodge', 'hey book lesson sun liao', 'hey book pilate yoga lesson already haha', 'hey bore so thinking u so wat r u', 'hey boys want hot xxx pic send direct ur phone txt porn free per day to stop text stopbcm sf', 'hey charles sorry late reply', 'hey check da i list da', 'hey chief give bell get need talk royal visit june', 'hey come online use msn we', 'hey company elama po mudyadhu', 'hey congrats id luv ive go home', 'hey cutie how go here wales kinda ok there like hill shit still avent kill', 'hey do forget you mine for me my possession my property mmm', 'hey doc pls i want get nice shirt hubby nice fit one budget lt gt k help pls i load card abi hw keep post luv mj', 'hey elaine today meeting still', 'hey for leave friday wait ask superior tell', 'hey free call', 'hey gal u wan na meet dinner', 'hey girl how r u hope u r well me an del r bak again long time no c give me a call sum time from lucyxx', 'hey give photo register drive ah tmr wan na meet yck', 'hey glad u r well i hear u treat urself digi cam good we r have fab new year c u coupla wks', 'hey go jazz power yoga hip hop kb yogasana', 'hey go lo lesson gym', 'hey go quit soon xuhui work till end month', 'hey goin meet he want meal i donyt feel like cuz get last bus home but he sweet latelyxxx', 'hey gorgeous man my work mobile number have good one babe squishy mwahs', 'hey great deal farm tour deposit may', 'hey guy i know breathe neck get bud anyway able get half track usf tonight', 'hey happen de are alright', 'hey happy birthday', 'hey i ad crap nite borin without ya boggy u boring biatch thanx u wait til nxt time il ave ya', 'hey i almost forget happy babe i love ya', 'hey i miss tm last night phone charge i meet friend shortly', 'hey i really horny want chat see naked text hot text charge unsubscribe text stop', 'hey i want i crave i miss i need i love ahmad saeed al hallaq', 'hey iouri give number i wylie ryan friend', 'hey late ah meet', 'hey late amk need drink tea coffee', 'hey leave big deal take care', 'hey look like i wrong one kappa guy number still phone want i text see around', 'hey loverboy i love i tell i look picture ache feel leg fuck i want i need i crave', 'hey mate hows u honey did u ave good holiday gimmi de goss x', 'hey mate spoke mag people deliver end month deliver talk later', 'hey morning come ask pa', 'hey mr i go sea view couple gay i mean game give bell ya finish', 'hey mr whats name bill brison book one language word', 'hey next sun basic yoga course bugis we go pilates intro next sat tell time r free', 'hey pay with salary de only lt gt', 'hey pick u college u tell wen love pete xx', 'hey pple night excellent location wif breakfast hamper', 'hey project started aha da', 'hey r still online i finish format', 'hey r watch movie tonight prob b home early', 'hey really pretty late you want go lesson first i join i reach tp mrt', 'hey rite u put evey mnth', 'hey sathya till dint meet even single time saw situation sathya', 'hey sexy bun have i tell i adore loverboy i hope remember thank sister law meatball love babe', 'hey sexy bun what day no word morning ym i think', 'hey sit go intro pilate or kickboxing', 'hey still want go yogasana coz end cine go bathe hav steam bath', 'hey sweet i wonder moment might come i want send file someone wo go yahoo connection suck remember set page go download format disc could tell or know way download big file because download stuff directly internet any help would great prey', 'hey tell blake address carlos want meet i get lose answer phone', 'hey tell name gautham ah', 'hey there babe how u doin wot u up love annie x', 'hey there veggie pizza', 'hey thk juz go accordin wat discuss yest lor except kb sun cos nt much lesson go attend kb sit', 'hey tmr maybe meet yck', 'hey tmr meet bugis', 'hey u still gym', 'hey very inconvenient si huh', 'hey want anything buy', 'hey werethe monkeespeople say we monkeyaround howdy gorgeous', 'hey what happen u switch ur cell whole day this isnt good now u care give call tomorrow', 'hey what time drive fri we go evaluation fri', 'hey whats plan sit', 'hey whats u sleep morning', 'hey why dont go watch x men lunch haha', 'hey y reply', 'hey you get mail', 'hhahhaahahah rofl wtf nig leonardo room something', 'hi amy send free phone number couple day give access adult party', 'hi ask waheeda fathima leave', 'hi babe chloe r u i smash saturday night great how weekend u miss sp text stop stop', 'hi babe im at home now wan na do something xx', 'hi babe jordan r u im home abroad lonely text back u wan na chat xxsp text stop stopcost', 'hi babe thanks come even though didnt go well want bed hope see soon love kiss xxx', 'hi babe u r most likely to be in bed but im so sorry about tonight i really wan na see u tomorrow so call me at love me xxx', 'hi baby im cruisin girl friend r u give call hour home thats alright fone fone love jenny xxx', 'hi baby im sit bloody bus mo wont home wan na somethin later call later ortxt back jess xx', 'hi baby ive get back work want see u allday i hope didnt piss u phone today if u give call xxx', 'hi birth mother baby brilliantly', 'hi chachi try call u unable reach u pl give miss cal u c tiz msg kanagu', 'hi chikku send nice msg', 'hi ct employee', 'hi customer loyalty offer the new mobile only txtauction txt word start no get now ctxt tc', 'hi da today class', 'hi darlin how was work did u get into trouble ijust talked to your mum all morning i had a really good time last night im goin out soon but call me if u can', 'hi darlin i finish at do u pick me up or meet me text back on this number luv kate xxx', 'hi darlin i hope you had a nice night i wish i had come cant wait to see you love fran ps i want dirty anal sex and i want a man gang bang', 'hi darlin im helens fone im gon na b prince nite please come tb love kate', 'hi darlin im missin u hope you are having a good time when are u back and what time if u can give me a call at home jess xx', 'hi darlin im way london smash another driver big dent im really miss u u xxx', 'hi darlin its kate are u up for doin somethin tonight im going to a pub called the swan or something with my parents for one drink so phone me if u can', 'hi darlin ive just got back and i had a really nice night and thanks so much for the lift see u tomorrow xxx', 'hi dear call urgnt i know whats problem you want work problem least tell wating reply', 'hi dear saw dear we happy where battery low', 'hi di yijue meeting pm esaplanade tonight', 'hi dis yijue would happy work wif', 'hi do u want join sts later meeting five call u class', 'hi dude hw r u da realy mising u today', 'hi durban still number', 'hi elaine today meeting confirm', 'hi email address change', 'hi engagement fixd lt gt th next month i know really shock bt njan vilikkam w al sudn', 'hi finally complete course', 'hi frnd best way avoid missunderstding wit beloved one', 'hi good thanku wish u', 'hi happy birthday hi hi hi hi hi hi hi', 'hi happy new year i dont mean intrude pls let know much tuition pay last semester much semester thanks', 'hi harish rent transfred ur acnt', 'hi hope good day have good night', 'hi hope u get hasnt gd min late i think', 'hi hope u r ok say would text u see let gently please', 'hi hope ur day good back walk table book half eight let know ur come', 'hi hun im not comin im sorry me hope u ava goodtime oli rang melnite ifink it mite b sorted but il explain everythin on', 'hi i always online yahoo would like chat someday', 'hi i sorry miss call can pls call back', 'hi i sue i year old work lapdancer i love sex text live i bedroom text sue by textoperator', 'hi ibh customer loyalty offer the new mobile only txtauction txt word start get yours now', 'hi im relaxing time ever get every day party good night i get home tomorrow', 'hi its jess i dont know if you are at work but call me when u can im at home all eve xxx', 'hi its kate can u give me a ring asap xxx', 'hi jon pete ive bin spain recently hav sum dinero leave bill say u ur mayb interested i hav around tb james', 'hi juan im come home fri hey of course expect welcome party lot present ill phone u get back loads love nicky x x x x x x x x x', 'hi kate evening i hope see tomorrow bit bloody babyjontet txt back u xxx', 'hi kindly give u back document submit loan stapati', 'hi love how go day fuck morning i wake drop cell way stairs seem alright i miss', 'hi lucy hubby meetins day fri i b alone hotel u fancy cumin pls leave msg lucy x', 'hi mandy sullivan call hotmix fm choose receive easter prize draw telephone claim prize transfer someone else', 'hi mate rv u hav nice hol message say hello coz send u age start drive stay road rvx', 'hi mobile lt gt add contact list it great place send free sm people for visit', 'hi mom might back later lt gt', 'hi msg', 'hi neva worry bout da truth coz truth lead ur heart least unique person like u deserve sleep tight morning', 'hi petey ok want chat coz avent speak u long ur doin good nit j love ya', 'hi please get lt gt dollar loan pay back mid february pls', 'hi princess thank pic you pretty how', 'hi probably much fun get message think id txt u co im bore james fart night', 'hi sexychat girls wait text text great night chat send stop stop service', 'hi shanil rakhesh exchange uncut diamond back excellent service dino prem', 'hi technical assistance u customer call email', 'hi test lt gt rd', 'hi this roger cl how', 'hi u decide wot get bday ill prob jus get voucher frm virgin sumfing', 'hi ur lookin saucy daytime fun wiv busty marry woman am free next week chat sort time janinexx', 'hi ur lucky night uve invite xchat uks wild chat txt chat ldn', 'hi way i u normal way real ur unique i hope i know u rest mylife hope u find wot lose', 'hi we keen go kind feel go tomo mind', 'hi we move pub would great c u u cud come', 'hi wk ok hols yes bit run forgot hairdresser appointment four need get home n shower beforehand does cause prob u ham', 'hi wkend ok journey terrible wk good huge back log marking', 'hi wlcome back wonder get eaten lion something nothing much', 'hi wo b ard christmas but enjoy n merry', 'hi ya babe x u bout scammer get regular vodafone respond get prem rate other no use also beware', 'hi yijue it regard textbook intro algorithms second edition i sell', 'hi yijue meet u tmr', 'hi you home calicut', 'hi you speak maneesha we like know satisfied experience reply toll free yes no', 'his bday real april', 'his frens go lor not alone wif mum n si lor', 'hiya comin bristol st week in april les got off rudi on new yrs eve but i was were drunk u bak at college yet my work sends ink bath', 'hiya good day have speak since weekend', 'hiya how last night i naughty buy clothes little ready shopping tho what kind time wan na meet', 'hiya hows go sunny africa hope u r avin good time give big old silver back big kiss', 'hiya probably come home weekend next', 'hiya sorry hav signal i see heard neither unusual i put case get sort hugs snogs', 'hiya stu wot u up in so much truble at home at moment evone hates me even u wot the hell av i done now y wont u just tell me text bck please luv dan', 'hiya u like hlday pic look horrible take mo hows camp amrca thing speak soon serena', 'hiya u pay money account if thanks got pleasant surprise check balance c get statement acc', 'hm good morning headache anyone', 'hmm bad news hype park plaza studio take only leave', 'hmm bits piece lol', 'hmm dunno leh mayb bag goigng dat small or jus anything except perfume smth dat keep', 'hmm ill think ok forgiven', 'hmm many unfortunately pics obviously arent hot cake its kinda fun tho', 'hmm ok stay like hour co eye really sore', 'hmm shall bring bottle wine keep u amused just joking i still bring bottle red white see tomorrow', 'hmm think lor', 'hmm uncle inform pay school directly so pls buy food', 'hmm well night night', 'hmm yeah groove and im look forward pound special', 'hmmm and imagine come home rub foot make dinner help get ready date are sure ready kind life', 'hmmm guess go kb n power yoga haha dunno tahan power yoga anot thk get lo oso forget liao', 'hmmm i think say hour slave you late how i punish', 'hmmm k want change field quickly da wan na get system administrator network', 'hmmm many player select', 'hmmm mayb try e shoppin area one forgot e name hotel', 'hmph go head big baller', 'hmv bonus special pound genuine hmv voucher just answer easy question play now send hmv more info', 'ho ho big belly laugh see ya tomo', 'holy live christ take long', 'home always chat', 'home work meh', 'honestly make lovely cup tea promptly drop key burnt finger get', 'honey boo i miss u', 'honey pls find much sell predicte nigeria and many time use its important reply monday', 'honey sweetheart darling sexy buns sugar plum loverboy i miss boytoy did go gym', 'honeybee said sweetest god laughed amp said u havnt met person reading this moral even god can crack jokes', 'hope enjoy new content text stop unsubscribe provided', 'hope feel great pls fill abiola', 'hope good week just checking', 'hope great day', 'hope great new semester do wish best you make greatness', 'hope much fun without see u tomorrow love jess x', 'hope scar', 'hope text meet smile if let text give reason smile have beautiful day', 'hope thing go well reminds still need u c little thing leave lounge', 'hope ur head hurt much am plough way pile iron staying chinky tonight come round like', 'horrible bf i v hungry', 'horrible gal me sch stuff how come u get mc', 'horrible u eat mac eat u forget abt already rite u take long reply i thk toot b prepare now wat shall eat', 'hot live fantasies call just per min ntt ltd po box croydon', 'hot live fantasies call just per min ntt ltd po box croydon national rate call', 'hottest pic straight phone see get wet wanting xx text pics txt cost textoperator xxx', 'hour hair cut', 'how abt make pic big', 'how are u i have missed u i havent been up much a bit bored with the holiday want go bak college sad isnt it xx', 'how babe hope ok i shit night sleep i fell asleep knackered dread work tonight what thou upto tonight x', 'how boy no sweet word leave morning how go day love did start study', 'how clothes jewelry trip', 'how come', 'how come din c yup cut hair', 'how come get should b quite diff guess rite', 'how come guoyang go n tell then u tell', 'how come take little time child afraid dark become teenager want stay night', 'how come u get nothing', 'how dare change ring', 'how dare stupid i wont tell anything hear wont talk', 'how enjoying semester take care brother', 'how feel mr your real valentine yo valentine even tho u hardly play', 'how find way include detail', 'how friend help u problem they give stupid suggestion lands u another problem help u forgt previous problem', 'how get touch folk wait company just txt back name age opt enjoy community', 'how go got excite karaoke type activity plan i debate whether play football eve feeling lazy though', 'how guy go see movie side', 'how hold', 'how hope settle new school year just wishin day', 'how how queen are go royal wedding', 'how i creep', 'how its age how abj', 'how its little difficult simple way enter place', 'how izzit still rain', 'how just check', 'how little darling far week need coffee run tomo ca believe time week already', 'how long applebees fuck take', 'how long get reply defer admission til next semester', 'how long since scream princess', 'how long take get', 'how love are brother time talk english say hey muhommad penny say hello across sea', 'how loverboy what keep come queen hmmm does ache speak miss desparately', 'how make girl happy it difficult make girl happy u need a friend companion lover chef lt gt good listener lt gt organizer lt gt good boyfriend lt gt very clean lt gt sympathetic lt gt athletic lt gt warm lt gt courageous lt gt determined lt gt true lt gt dependable lt gt intelligent lt gt psychologist lt gt pest exterminator lt gt psychiatrist lt gt healer lt gt stylist lt gt driver aaniye pudunga', 'how many buy', 'how many lick take get center tootsie pop', 'how many time tell stage use laugh you listen aha', 'how money money aint thing sha', 'how much blackberry nigeria', 'how much cost approx per month', 'how much eighth', 'how much get', 'how much get clean', 'how much give morning', 'how much pay suganya', 'how much r willing pay', 'how much torch', 'how much u try get', 'how much ur hdd case cost', 'how much would cost hire hitman', 'how noe did specify da domain nusstu still sch', 'how noe she da car later c lar i wear short', 'how plan manage', 'how possible teach and', 'how r go send', 'how schedule next week i town weekend', 'how stupid say challenge dont think write instead respond immed', 'how txting driving', 'how u doin baby girl hope u okay every time i call ure phone i miss u get touch', 'how ur paper', 'how wish great semester', 'how would ip address test consider computer minecraft server', 'hows champ leave glasgow', 'hows favourite person today r u workin hard could sleep last nite nearly rang u', 'hows pain dear r u smile', 'hows street end library walk', 'hows watch resizing', 'howz come say medicine', 'howz pain hope u r', 'howz person story', 'huh also then many mistake', 'huh cant go ur house empty hand right', 'huh cant thk oredi many page', 'huh fast dat mean u havent finish painting', 'huh get lesson lei n thinkin go sch earlier n tot parkin kent vale', 'huh hyde park mel ah opps get confused anyway tt e best choice den juz take', 'huh late fr dinner', 'huh lei', 'huh mean computational science y like dat one push n', 'huh slow tot u reach long ago liao u day leh', 'huh then dinner outside izzit', 'hui xin da lib', 'hungry gay guy feel hungry call to stop text call', 'hunny wot u up didnt end up goin down town jus da pub instead jus chillin at da mo in me bedroom love jen', 'hurry home soup done', 'hurry home u big butt hang last caller u food do i starve do ask i cook', 'hurry i like three day', 'hurt tease make cry but end life die plz keep one rise grave say stupid i miss have a nice day bslvyl', 'i absolutely love south park i recently start watch office', 'i accidentally bring em home box', 'i accidentally delete message resend please', 'i actor when work work even sleep late since unemployed moment always sleep late when unemployed every day saturday', 'i actually first time i go bed long speak woke how night', 'i add i really care ca i least get dude fuck hey money want', 'i agree so stop thinkin ipad can please ask macho question', 'i ai answerin phone actually pretty reasonable hour i sleepy', 'i aight wat happen side', 'i alex nichols middle school turn deal', 'i already back home probably', 'i also come room', 'i also thk fast xy suggest one u dun wan ok going rain leh get gd', 'i always chat in fact need money raise', 'i always look excuse city', 'i always yahoo messenger just send message get may send mobile mode sha get and reply', 'i am at a party with alex nichols', 'i am at the gas station go there', 'i am def something sat', 'i anybody number i still think tactful way ask alex', 'i anything lor', 'i ask', 'i ask around lot term mids', 'i ask call ok', 'i ask sen come chennai search job', 'i ask u meeting da ge tmr nite', 'i askd u question hour its answer', 'i attend nothing', 'i av new number wil u use one ta', 'i awake oh what', 'i back amp pack car i let know room', 'i back bit long co accident had divert via brilliant weekend thanks speak soon lots love', 'i back good journey let know need receipt shall tell like pendent', 'i back lem know ready', 'i bar b q store life this twat orange dungerees come ask i want deck so i get first punch', 'i borrow ur bag ok', 'i bruce amp fowler i mom car i ca park long story', 'i bugis juz wat but walk home oredi late reply i oso saw top dat like din buy where r', 'i bus love', 'i bus way calicut', 'i busy juz dun wan go', 'i but tell quite long co finish film yet', 'i buy test yesterday its something let know exact day u get but pls pls dont fret i know u r worry pls relax also anything ur past history u need tell', 'i ca believe attach i see every day i know best get babe i go teach class midnight', 'i ca describe lucky i actually awake noon', 'i ca i number', 'i ca keep go it never intention run choose rather keep room clean say visitor maybe best choice yes i want embarassed maybe feel i feel friend want drop buy say happened morning i try everything i know else', 'i ca make tonight', 'i ca right second get ta hit people first', 'i ca speak bcaz mobile problem i listen listen voice so call later', 'i call later afternoon onwords mtnl service get problem south mumbai i hear listen', 'i call later network if urgnt sm', 'i call one pick e phone i ask already say ok', 'i call say choose future', 'i call this hoping malaria know miss guy i miss bani big pls give love especially have great day', 'i callin say hi take care bruv', 'i cant keep talk people sure pay agree price so pls tell want really buy much willing pay', 'i cant pick phone right pls send message', 'i cant wait see how photo useful', 'i career tel add u contact send free sms to remove phonebook sms no lt gt', 'i chennai velachery', 'i class did get text', 'i class will holla later', 'i cme want go ho after wil cme this get dear she didnt say time', 'i come back thursday yay is gon na ok get money cheers oh yeah everything alright hows school or call work', 'i come home dinner', 'i come hostel i go sleep plz call class hrishi', 'i come karnan car please wait till directly goto doctor', 'i come n pick come immediately aft ur lesson', 'i come tomorrow di', 'i come ur home', 'i come whatever want', 'i cook rather nice salmon la', 'i could ask carlos could get anybody else chip', 'i could say die man i feel sad i go i want know i would probably go late night', 'i da bus go home', 'i da intro cover energy trend n pro n con brief description nuclear fusion n oso brief history iter n jet get abt n half', 'i didnt get anything da', 'i didnt get ur full miss send', 'i dled imp', 'i do', 'i do c', 'i do i sorry i hope next space give everything want remember furniture if around move lock lock leave key jenne', 'i do oredi', 'i docs appointment next week i tire shove stuff ugh could i normal body', 'i donno gene something', 'i donno scorable', 'i dont can send plus mode', 'i dont file work call tell find anything room', 'i dont know ask brother nothing problem thing just tell', 'i dont know come ask question like dont mistake', 'i dont know exactly could ask chechi', 'i dont know get message', 'i dont know oh hopefully month', 'i dont knw pa drink', 'i dont much image class', 'i dont shall buy one dear', 'i dont thnk wrong call u', 'i dont understand message', 'i dont want hear anything', 'i dont want hear philosophy just say happen', 'i doubt could handle time per night case', 'i drive raining then get catch e mrt station lor', 'i dun believe i thk u tell', 'i dun thk quit yet hmmm go jazz yogasana oso we go meet em lesson den', 'i dunno close oredi v fan', 'i dunno lei like dun haf', 'i dunno lets go learn pilate', 'i e person e sm survey', 'i eatin lor goin back work soon e mountain deer show huh i watch liao nice', 'i email yifeng part can get fr', 'i enjoy watch play football basketball anything outdoors and', 'i escape theatre going watch kavalan minute', 'i feel like dick i keep sleep text facebook message sup town', 'i fetch yun u fetch', 'i fine hope also', 'i fine hope good do take care', 'i finish lunch already u wake already', 'i forget ask there card da present lei how want write smth sign', 'i forget might couple buck send tomorrow k i love ya', 'i free today haf pick parent tonite', 'i freeze crave ice fml', 'i gentle baby soon take lt gt inch deep inside tight pussy', 'i gentle princess we make sweet gentle love', 'i get another job the one hospital data analysis something start monday not sure thesis get finish', 'i get arrest possession i shit lt time gt pm', 'i get back do dislike bed', 'i get call landline number i ask come anna nagar i go afternoon', 'i get class bsn like lt gt minute know advise', 'i get home', 'i get home babe still awake', 'i get like lt gt i get later though get whatever feel like', 'i get lousy sleep i keep wake every hour see cat want come i worry cold', 'i get lt gt way i could pick', 'i get new year co yetunde say wanted surprise didnt see money return mid january lt gt day return period end', 'i get second half message', 'i get ta collect da car lei', 'i get tea sure flavour', 'i get ten buck jay noncomittal', 'i get threat sale executive shifad raise complaint its official message', 'i get unless guy want come time sooner', 'i get video tape pple type message lor u free wan help hee cos noe u wan watch infernal affair ask u along asking shuhui oso', 'i glad you follow dream', 'i go bath msg next lt gt', 'i go buy mum present ar', 'i go film da at sorry da', 'i go get info bt dont know', 'i go lunch wif family aft dat go str orchard lor', 'i go orchard laready reach soon u reach', 'i go project centre', 'i go sao mu today will do', 'i go sleep i tire travel', 'i go ur hon lab one', 'i gon na ask lol think', 'i gon na home soon want talk stuff anymore tonight k i cry enough today', 'i gon na rip uterus', 'i gon na say sorry i would normal start panic time sorry are see tuesday', 'i good have register vote', 'i good time its nice something bit different weekend change see ya soon', 'i great how', 'i great princess what thinking', 'i guess could good excuse lol', 'i guess useless call u something important', 'i guess worried you must know way body repair and quite sure worry we take slow first test guide ovulation relax nothing say reason worry keep followin', 'i guy browsin compulsory', 'i haf msn it yijue', 'i happy babe woo hoo party dude', 'i happy say', 'i hate she turn fun shopping trip annoy day everything would look house', 'i hav almost reach call unable connect u', 'i have a date on sunday with will', 'i havent add yet', 'i havent next mon', 'i home', 'i home ard wat time u reach', 'i home babe still', 'i home doc give pain med say everything fine', 'i home lei', 'i home love if still awake', 'i home n ready', 'i home please call', 'i hop would send message my rent due dont enough my reserve completely go its loan need hop could the balance lt gt is way could get till mid march hope pay back', 'i hope alright babe i worry might felt bit desparate learn job fake i wait come back love', 'i hope arnt piss id would really like see tomorrow love xxxxxxxxxxxxxx', 'i hope know i still mad', 'i hope pee burn tonite', 'i hope result consistently intelligent kind start ask practicum link keep ear open best ttyl', 'i hospital da i return home evening', 'i hot n horny willing i live local text reply hear strt back per msg netcollex ltdhelpdesk reply stop end', 'i hungry buy smth home', 'i i see ca see maybe reboot ym i see buzz', 'i i want please inside outside bedroom', 'i idea', 'i inside fill know leave', 'i job profile seem like', 'i join today keep talk later', 'i jokin oni busy wun disturb', 'i jus hope true missin co really missin you do anything feel guilty yet', 'i jus reach home i go bathe first but sis use net tell u finish k', 'i keep see weird shit bein realise actually reasonable i', 'i keep ten r shelf buy two egg', 'i know account ask mom send mom reach', 'i know call', 'i know can pls open back', 'i know complain num directly go bsnl offc nd apply', 'i know dat feelin pete wuld get em nuther place nuther time mayb', 'i know friend already tell', 'i know girl always safe selfish know get pa thank good night', 'i know grumpy old people my mom like good lie then i always one play joke', 'i know i lack particular dramastorm detail part i worry', 'i know i rap dude poker', 'i know jack shit anything something helpful want pretend i text whatever response hypotheticalhuagauahahuagahyuhagga', 'i know lt gt i around', 'i know mood today', 'i know need get hotel i get invitation apologise cali sweet come english bloke weddin', 'i know people i hit fuck yes', 'i know people still town', 'i know serve i mean', 'i know thing wrong everyso often panicks start goin bout bein good enough', 'i know thinkin malaria but relax child cant handle malaria she would worse gastroenteritis if take enough replace loss temp reduce and give malaria med vomit its self limit illness mean day completely stop', 'i know u mean king havin credit i night night sweet sleep', 'i know u sleep v late yest wake late', 'i know u u know send chat let find only rcvd ldn year', 'i late', 'i late call tomorrow care sweet dream ummifying bye', 'i late i', 'i leave house', 'i let know kick', 'i lick every drop ready use mouth well', 'i like cheap but happy splash wine make feel', 'i like dis sweater fr mango size already irritate', 'i like new house', 'i like new mobile', 'i like people much shy pa', 'i like talk pa able i dont know', 'i like tell deepest dark fantasy call to stop text call nat rate', 'i like think always possibility pub later', 'i literally bed like lt gt hour', 'i look forward sex only two sleep', 'i lose kilo today', 'i lose pound since doc visit last week woot woot now i gon na celebrate stuff face', 'i lov line truth', 'i love', 'i love ass do enjoy doggy style', 'i love cuddle i want hold strong arm right', 'i love give massage i use lots baby oil what fave position', 'i love i excite day spend you make happy', 'i love u babe r u sure everything alrite is idiot txt bak girlie', 'i love u little pocy bell i sorry i love u', 'i love wine dine lady', 'i love work home', 'i love ya try budget money well babe gary would freak know', 'i love you know can feel does make belly warm i wish love i shall meet dream ahmad', 'i love you set soul fire it spark but flame a big rawring flame xoxo', 'i luv u soo much u understand special u r ring u luv u xxx', 'i make lasagna vodka', 'i make payment dont much sorry would want fedex way', 'i make squeezed lt gt buck dad', 'i many dependent', 'i marriage function', 'i mean apology texting get drug lt gt night', 'i mean middle leave right', 'i mean say cant wait see u get bored bridgwater banter', 'i meet call later', 'i meet darren', 'i meet lobby', 'i meet stranger choose friend as long world stand friendship never end lets friends forever gud nitz', 'i might come kerala prepared take leave finalise plan travel finish urgent work', 'i might go sch yar e salon v boring', 'i miss', 'i miss i really surprise go net cafe yet get do miss', 'i miss much i desparate i record message leave day listen hear sound voice i love', 'i money steve mate', 'i movie call wat', 'i movie collect car oredi', 'i mu like lt gt second', 'i need come home give good lovin', 'i need coz never go', 'i need detail online job', 'i need i campus atm could i pick hour two', 'i need strong arm', 'i night worry appt it shame missed girl night quiz popcorn hair', 'i noe la u wana pei bf oso rite k lor day den', 'i notice like look shit mirror youre turn right freak', 'i nt goin get somethin unless meetin dinner lor haha wonder go ti time', 'i number gon na massive pain as rather get involve possible', 'i number sir', 'i office da', 'i office i call lt gt min', 'i office na', 'i office whats call break', 'i ok wif co like try new thing but scar u dun like mah cos u say loud', 'i okay chasing dream what good what next', 'i one slice one breadstick lol', 'i outside island head towards hard rock run', 'i outside office take', 'i pick', 'i pick go taunton still want come', 'i place ur point e culture module already', 'i plane give month end', 'i please come up now imin if urgoin', 'i pock', 'i prefer free day tues wed fri oso ask workin lor', 'i print oh so lt gt come upstairs', 'i probably around mu lot', 'i probably come everybody do around lt gt right', 'i probably tomorrow even later tonight something go', 'i probably wo eat today i think i gon na pop how weekend did u miss', 'i promise take good care princess i run please send pic get chance ttyl', 'i put it ready lt time gt', 'i quite know i still ca get hold anyone i cud pick bout see pub', 'i rather prominent bite mark right cheek', 'i reach already', 'i reach ard min ok', 'i reach home finally', 'i reach home min', 'i reach home n bathe liao u call', 'i reach home safe n sound liao', 'i reach office around lt decimal gt amp mobile problem you get voice so call asa free', 'i reach sch already', 'i reach ten morning', 'i reach ur home lt gt minute', 'i read text send its meant joke so read light', 'i real baby i want bring inner tigress', 'i realise busy guy try bother i get exams outta way try car do day', 'i really need kiss u i miss u my baby from ur baby', 'i really need shit tomorrow i know wo awake like', 'i really sorry i light hair fire', 'i really sorry wo b able u find yr term go ok', 'i really still tonight babe', 'i remain unconvinced elaborate test willpower', 'i run away frm u i walk slowly amp kill u care enough stop', 'i saw ron burgundy captain party boat yeah', 'i say good sign well know track record reading woman', 'i say okay sorry', 'i sch fr i dun haf da book sch it home', 'i school n da lab stuff give call r do', 'i search right word thank breather i promise wont take help grant fulfil promise you wonderful bless time', 'i see half hour', 'i see i swing bit get thing take care firsg', 'i see letter b car', 'i see prolly yeah', 'i send', 'i send do like', 'i send email do mind lt gt time per night', 'i send he send', 'i send lanre fakeye eckankar detail mail box', 'i send lt gt buck', 'i send maga money yesterday oh', 'i send pic like', 'i send price mean lt gt g', 'i send print out da', 'i send score sophas secondary application school i think think apply research cost also contact joke ogunrinde school one less expensive one', 'i send wife text after buy tell so relax we go get wkend', 'i serious you money base', 'i shall book chez jules half eight ok', 'i she lip synced shangela', 'i sick i needy i want where i want slave i want', 'i sleep', 'i sleep bags blanket paper phone detail anything else', 'i smoke people use smokes justify ruin shit', 'i solihull want anything', 'i sore throat it scratch i talk', 'i sorry hurt', 'i sorry i join league people dont keep touch you mean great deal you friend time even great personal cost do great', 'i spoil bed well', 'i stick da middle da row da right hand side da lt', 'i still look car buy and go driving test yet', 'i still pretty weak today bad day', 'i sure i check happen around area', 'i sure night menu i know noon menu', 'i sure still available though', 'i surely dont forgot come always touch', 'i tag my friend seem count your friend', 'i take care financial help', 'i take derek amp taylor walmart i back time do leave mouse desk i text priscilla ready', 'i take exam march', 'i take half day leave bec well', 'i take italian food how pretty dress panty', 'i take like noon', 'i take phone callon friday can assume wo year', 'i take post come you must texts happy read my one wiv hello caroline end favourite bless', 'i talk others probably come early tomorrow', 'i teach ranjith sir call so sms like becaus he verify project prabu tell today pa dont mistake', 'i tell come wednesday', 'i tell everything stop just dont let get dehydrate', 'i tell i dr appt next week she think i gon na die i tell check nothing worry but listen', 'i tell number', 'i tell return that order', 'i text all creepy like wo think forgot', 'i text carlos let know hang', 'i text i drop x', 'i texted i finish long time ago shower', 'i thank much selflessness i love plenty', 'i think ask gym excuse lazy people i jog', 'i think chennai forget come', 'i think chennai well settle', 'i think disturb da', 'i think far find check google map place dorm', 'i think fix send test message', 'i think get watch co thats kind thing u and love much', 'i think go finn come', 'i think go honesty road call bank tomorrow its tough decision make u great people', 'i think go reg pract flung haha wat time u go', 'i think i get away trek long family town sorry', 'i think mentor percent sure', 'i think rule tough people', 'i think see tomo', 'i think slide enough', 'i think spatula hand', 'i think steyn surely get one wicket', 'i think still car', 'i think tantrum finish yeah i point', 'i think two still need get cash def ready', 'i think u wrong number', 'i think wait bus inform get ever get', 'i think you need go late school night especially one class one miss last wednesday probably fail test friday', 'i thk get ta go home urself cos b go shopping frens present', 'i thk lor but dunno get ticket wat u', 'i thk shd ok say plus minus did leave line paragraph', 'i thk u dun haf hint e forum already lor cos tell ron n darren go tell shuhui', 'i though shd go n fun bar town something sound ok', 'i tire argue week week do want', 'i tirupur call da', 'i tirupur da start office call', 'i tot group mate lucky havent reply wat time need leave', 'i tot u outside cos darren say u come shopping of course nice wat we jus go sim lim look player', 'i tot u reach liao he say', 'i town jus take mrt later', 'i treasure every moment spend together', 'i try reach without success', 'i turn phone my mom tell everyone i cancer and sister wo stop call it hurt talk ca put see u u get home love u', 'i two letter i copy cos one message speak soon', 'i upload mine facebook', 'i use i hope agent drop since book thing year this whole boston nyc experiment', 'i vivek get call number', 'i vote wherever heart guide', 'i wait call sir', 'i wait cornwall hope tonight bad well rock night shite anyway go kip good night speak soon', 'i wait inside da car park', 'i wait machan call free', 'i wait till bus pick', 'i wake long ago already dunno thing', 'i wake since i check stuff saw true available space pls call embassy send mail', 'i walk hour c u show i care wont u believe im serious', 'i wan early lei me outside wun b home early neva mind', 'i wan na watch movie', 'i want ask wait finish lect cos lect finish hour anyway', 'i want cock my hubby away i need real man satisfy txt wife string action txt stop end txt rec otbox', 'i want go perumbavoor', 'i want inside every night', 'i want kfc tuesday only buy meal only no gravy only mark', 'i want kiss feel next', 'i want leave but barely stay sane fight constantly help', 'i want lick pussy', 'i want lt gt r da', 'i want see pretty pussy', 'i want send something sell fast lt gt k easy money', 'i want sent lt gt mesages today thats sorry hurt', 'i want show world princess europe', 'i want snow it freeze windy', 'i want tel u one thing u mistake k this is the message that you sent', 'i want tell bad i feel basically time i text lately i need drug', 'i want wish happy new year i want talk legal advice gary i split person i make trip ptbo i hope everything good babe i love ya', 'i watch lotr w si dis aft so u wan meet dinner nite', 'i way home went change batt watch go shop bit lor', 'i way tirupur', 'i way ur home', 'i we good combination', 'i well babe swell gland throat what end', 'i wif buy tix lar', 'i wil lt gt minute got space', 'i will cal you sir in meeting', 'i will part tomorrow', 'i wish i holding tightly making see important how much mean how much i need in life', 'i wish i think gon na snow much but flurry usually get melt hit ground eek we snow since lt gt i even bear', 'i wish thing different i wonder able show much value pls continue brisk walk drug without askin please find thing laugh i love dearly', 'i wish u i feel alone', 'i wnt buy bmw car vry hv shortage lt gt source arng dis amt lt gt prob', 'i wonder get online love had go net cafe did get phone recharge were friends net i think boytoy', 'i wonder get text', 'i wonder phone battery go dead i tell i love babe', 'i wonder would okay call uncle john let know thing nigeria r that lt gt dollar send know strain plan pay back every dime give every dime expect anything practical something like', 'i wont anything de', 'i wont get concentration dear know mind everything', 'i wont so wat wit guy', 'i wont touch permission', 'i work mon thurs sat cant leh booked liao which day u free', 'i work please call', 'i work technical support voice field', 'i work technical support voice process', 'i would i still cozy and exhaust last go school work everything close', 'i wud never mind u dont miss u dont need but u wil really hurt wen u need amp u dont tell take care', 'i yan jiu liao sat go bugis vill one frm den hop parco nb sun go cine frm den hop orc mrt hip hop', 'ic there lotta childporn car', 'id check like bowl worth leave', 'id onluy matter get offcampus', 'idc get weaseling way shit twice row', 'idea soon get convert live', 'idk i sit stop shop parking lot right bawl eye feel like failure everything nobody want feel like fail', 'idk you keep say since move keep butt head freedom responsibility and tire i much shit deal barely keep together get add', 'idps linux system', 'if anyone call treadmill say buy make sure work i find ad craigslist sell lt gt', 'if ask say please message', 'if belive come home', 'if car hour half i go apeshit', 'if cough nothing', 'if e timing go w u lor', 'if free give otherwise nalla adi entey nattil kittum', 'if hear loud scream lt gt minute cause gyno shove thing belong', 'if hit move', 'if i die i want u stuff', 'if i get ten billion call texts help god', 'if i i pay attention', 'if india win level series mean record', 'if let want house', 'if make time tonight whenever cool text whenever around', 'if meeting rite go home lor if dun feel like comin ok', 'if prize go another customer t c polo ltd suite london please call back busy', 'if r home come within min', 'if respond imma assume still asleep imma start call n shit', 'if say anything wrong sorry de', 'if start search get job great potential talent', 'if start send blackberry torch nigeria find buyer like month and tell dad buy bb anyone oh', 'if still havent collect dough pls let know go place sent get control number', 'if still maybe leave credit card i get gas i get back like told', 'if think lift one', 'if u dun drive go sch', 'if u laugh really if u talk if u dont care others u probably dear amp best goodevening', 'if u send home first ok lor i ready yet', 'if want mapquest something look dogwood', 'if win really side long time', 'if you mean website yes', 'ill b down soon', 'ill call evening ill idea', 'ill call u ninish address icky american freek wont stop callin bad jen k eh', 'ill lt gt ok', 'ill mins look', 'im do just studyn library', 'im fine babes aint been up much tho saw scary movie yest its quite funny want afternoon at town or mall or sumthin xx', 'im gon na miss u so much', 'im gonnamissu so much i would say il send u a postcard buttheres aboutas much chance of merememberin asthere is ofsi not breakin his contract luv yaxx', 'im good i think', 'im inperialmusic weird track ever like insect molest someone plumb remixed evil men acid', 'im late tellmiss im on my way', 'im on snowboard trip i wonder plan get everyone together befor meet greet kind affair cheers', 'im realy soz imat my mums what about', 'im sorry bout last nite ur fault spouse pmt sumthin u i think u shldxxxx', 'im wonder right', 'imagine finally get sink bath i put pace maybe even eat i leave but also imagine feel cage cock surround bath water remind always own enjoy cuck', 'imagine life without me how fast u search do l always to disturb', 'important information orange user today is ur lucky day find out why log onto http there a fantastic prizeawaiting you', 'important information orange user today lucky day log onto http there a fantastic surprise awaiting you', 'important message this final contact attempt you important message wait customer claim dept expires call now', 'in case i guess i see campus lodge', 'in case wake wonder i i forget i take care something grandma today do parade', 'in da car park', 'in e msg jus u say thanks gift', 'in end might still vomit okay not everything come', 'in fact leave i think addie go back school tues wed', 'in life face choice just toss coin becoz settle question but coin air u know heart hoping', 'in meet da i call', 'in news hassling get weed week andres money haughaighgtujhyguj', 'in place get room cheap', 'in place want da', 'in sch neva mind u eat', 'in the simpsons movie release july name band die start film day day day send a b c', 'in work going min', 'in xam hall boy ask girl tell start term dis answer i den manage after lot hesitation n lookin around silently say the intha ponnungale ipaditan', 'increase chance win', 'indeed way either', 'india take lead', 'indians r poor india poor country says one swiss bank director he say lt gt lac indian money deposit swiss bank use budget lt gt yr can give lt gt crore job indians from village delhi lane road forever free power suply lt gt social project every citizen get monthly lt gt lt gt yr no need world bank amp imf loan think money block rich politician we full right corrupt politician itna forward karo ki pura india', 'infact happy new year how seeing', 'interflora late order interflora flower christmas call place order midnight tomorrow', 'is avatar suppose subtoitles', 'is come friday leave pongal get news work place', 'is frnd necesity life imagine urself witout hw u feel ur colleg wat u wth ur cell wat abt function thnk abt event espe care missed amp irritate u frnds wthout u cant i jst goodmorning', 'is fujitsu series lifebook good', 'is movie theatre go watch unlimited movie pay', 'is ok i stay night xavier sleep bag i get tire', 'is reason spoken year anyways great week best exam', 'is reply has boye change phone number', 'is seriously spell name', 'is telly no brdget jones', 'is time want come', 'is toshiba portege gd', 'is train tomorrow', 'is ur change da report big cos already make change da previous report', 'is ur lecture', 'is ur paper e morn aft tmr', 'is ur paper today e morn aft', 'is xy go e lunch', 'is xy ur car u picking', 'is yahoo boy bring perf or legal', 'it ard rest ard least which price bedrm', 'it certainly put thing perspective something like happens', 'it cool last little getting time soon', 'it cool let know kick around lt gt i day', 'it could work reach consensus next meeting', 'it didnt work oh ok goodnight fix ready time wake you dearly miss good night sleep', 'it doesnt make sense take unless free if need know', 'it everything weather keep extra warm its cold nothing serious pls lot vitamin c', 'it fine imma get drink somethin want come find', 'it good thing i get connection bw', 'it happen r wat want she come ill get medical insurance and able deliver basic care i currently shop right medical insurance so give til friday morning thats see major person guide right insurance', 'it issue right ill fix tomorrow', 'it justbeen overa week since break already brain go mush', 'it make cry it stuff happen top everything else push edge you underdtand often cry sorry sorry life', 'it mean u could keep ur word', 'it most time fixes spell but sometimes get completely diff word go figure', 'it ok lar u sleep early nite', 'it ok least armand still around', 'it ok noe u busy really bored msg i oso dunno wat colour choose one', 'it ok wun b angry msg u aft come home tonight', 'it seem like weird time night g want come smoke day shitstorm attribute always come make everyone smoke', 'it shall fine i avalarr will hollalater', 'it simple arithmetic percentage', 'it stop i however suggest stay someone able give or every stool', 'it take lt gt min', 'it take mr owl lick', 'it taxt massage argh ok lool', 'it time week ryan', 'it tough i i', 'it vl bcum', 'it wont b try sort house ok', 'it wylie tampa sarasota', 'it yesterday true true', 'its a laptop take it with you', 'its askd u knw tht', 'its bad us half way stop its good complete', 'its big difference lt gt versus lt gt every lt gt hr', 'its common hearin how r u wat r u how ur day so let ask u something different did u smile today if gud evng', 'its effect irritation just ignore', 'its engalnd but telly decide wo let watch mia elliot kiss damn', 'its go good still need little experience understand american customer voice', 'its good find way', 'its good hear', 'its great day do beautiful one', 'its hard believe thing like all say lie think twice say anything', 'its home vl nice meet v', 'its late', 'its like hotel dusk game think you solve puzzle area thing', 'its lt gt k oh should send home sale', 'its normally hot mail com see', 'its ok anybody ask abt u tel', 'its ok arm feeling weak cuz get shot go another time', 'its ok call mom instead fun', 'its ok chikku favourite', 'its part checking iq', 'its posible dnt live lt gt century cm frwd n thnk different', 'its scarcasim', 'its site simulate test it give tough question test readiness', 'its still look job how much ta earn', 'its sunny california the weather cool', 'its time month mid time', 'its valentine game send dis msg ur friend if answer r someone really love colour suit best', 'its valentine game send dis msg ur friend if answer r someone really love colour suit best rply', 'j r u feeling well', 'jade its paul y u txt me do u remember me from barmed i want talk u txt me', 'jamster get crazy frog sound for poly text real text crazy sound t c apply', 'jamster to get free wallpaper text heart t c apply need help call', 'jane babe goin wrk feel ill lst nite foned already cover chuck', 'january male sale hot gay chat cheap call national rate cheap peak to stop text call', 'japanese proverb if one can u can if none can u must indian version if one can let him do if none can leave and finally kerala version if one stop if none make strike', 'jason say cool pick place like hour', 'jay get really impatient belligerent', 'jay say', 'jay say put lt gt', 'jay snicker tell x totally fucking chord speak', 'jay tell already', 'jay want work first sound', 'jesus armand really try tell everybody find', 'jesus christ bitch i try give drug answer fuck phone', 'join today', 'join uk horny dogging service u sex just sign follow instruction txt entry', 'jokin lar depend phone father get lor', 'jolly good by way give u ticket sit eve speak x', 'jordan get vote last nite', 'jos ask u wana meet', 'joy father john then john joy father if u an ths hav lt gt iq tis ias question try answer', 'joy father john then john name joy father mandan', 'jus ans lar u noe later', 'jus chillaxin', 'jus come back fr lunch wif si u leh', 'jus finish avatar nigro', 'jus finish bathing', 'jus finish blowing hair u finish dinner already', 'jus finish lunch way home lor i tot u dun wan stay sch today', 'jus finish watch tv u', 'jus tell u dat b leave shanghai instead haf time meet cya', 'just arrive see couple day lt', 'just buy pizza meat lover supreme u get pick', 'just check head drop stuff', 'just check really miss see jeremiah do great month', 'just chill another if could sleep pain surgical emergency see unfolds okay', 'just come home i want u miserable', 'just curious cuz ask i', 'just decide yet eh', 'just drop em omw back', 'just ever easy', 'just finish eat got u plate not leftover time', 'just finish missing plenty', 'just force eat slice i really hungry tho this suck mark get worry he know i sick i turn pizza lol', 'just get back home', 'just get gas money chance gang want go grand nature adventure', 'just get lt gt', 'just get outta class gon na go gym', 'just get part nottingham hrs good thing love man much hey ho', 'just get room soon put clock back til shout everyone get realise wahay another hour bed', 'just gettin bit arty collage mo well tryin ne way got roast min lovely shall enjoy', 'just glad talk', 'just hope pissed remember go sister something', 'just know yetunde sent money yet i send text bother send so dont involve anything i impose anything first place apologise', 'just look addie go back monday suck', 'just make dinner', 'just normal', 'just nw come hme', 'just read i shame tell take run i blame u ever not really ever long time', 'just saw k da', 'just see miss call dear brother do day', 'just send do scream moan bed princess', 'just send email address incomm right', 'just send so type food like', 'just send text we skype later', 'just sing hu i think also important find someone female know place well preferably citizen also smart help navigate even thing like choose phone plan require guidance when doubt ask especially girl', 'just surf', 'just taste fish curry', 'just try figure i suppose see couple different people week we say get together i set date', 'just wait till end march el nino get oh', 'just want say holy shit guy kid bud', 'just woke yeesh late but i fall asleep til lt gt', 'just wonder others take', 'juz go google n search qet', 'juz havent wake bit blur blur can dad go liao i cant cum oso', 'k actually guy meet sunoco howard it right way', 'k addie amp i art i get home', 'k best congrats', 'k college', 'k come class', 'k come nordstrom do', 'k da many page want', 'k eng rock ash', 'k fyi i back parent place south tampa i might need deal somewhere else', 'k fyi x ride early tomorrow morning crash place tonight', 'k give kvb acc detail', 'k give sec break lt gt cstore', 'k go sleep well take rest', 'k good go', 'k happen tonight', 'k i', 'k i call i close', 'k i head min see', 'k i leave soon little', 'k i might come tonight class let early', 'k i much fifty', 'k i need login anything', 'k i pick another do', 'k i ready lt gt', 'k i sure get noon see', 'k i take care', 'k i work something', 'k ill i need srs model pls send mail id pa', 'k jason say gon na around i around lt gt', 'k k cant come search job', 'k k detail want transfer acc enough', 'k k give treat', 'k k good study well', 'k k pa had lunch aha', 'k k sms chat', 'k k watch film', 'k k yesterday cbe', 'k make sense btw carlos difficult guy gon na smoke i go pick second batch get gas', 'k must book huh go yoga basic sunday', 'k roommate also want dubsack another friend may also want plan bring extra i tell know sure', 'k still love', 'k sure i consent form v', 'k sure relatives home sms de pls', 'k tell anything', 'k text way', 'k u bore come', 'k wait send aftr lt gt min', 'k want u come', 'k wat tht incident', 'k wen ur free come home also tel vikky hav send mail better come even il free today aftr', 'kaiez enjoy ur tuition gee thk e second option sound beta i go yan jiu den msg u', 'kallis ready bat inning', 'kallis wont bat inning', 'kate', 'kate jackson rec center right', 'kate lovely see tonight ill phone tomorrow i get sing guy give card', 'kay since already', 'keep payasam rinu brings', 'keep safe i need i miss already i envy everyone see real life', 'kent vale lor wait ar', 'kick new season free goal news ur mobile txt ur club name eg villa', 'kind just miss train cos asthma attack nxt one half hr drive sure park', 'kind took garage centre part exhaust need replace part order n take fix tomo morning', 'kinda first one get twelve aah speak tomo', 'kindly send one flat lt decimal gt today', 'kit strip bill netcollex po box oja', 'knew time murder exactly', 'knock knock txt whose enter r weekly draw gift voucher store yr choice t cs', 'kothi print marandratha', 'ladies first genus second k', 'laptop i noe infra slow lar i wan fast one', 'lara say loan lt gt', 'last chance claim ur worth discount voucher today text shop savamob offer mobile t cs savamob sub', 'last chance claim ur worth discount yes offer mobile t cs sub remove txt x stop', 'last stereophonics marley dizzee racal libertines the strokes win nookii game flirt click themob wap bookmark text wap', 'late g still scrounge ammo want give new ak try', 'later guess i needa mcat study', 'latest news police station toilet steal cop nothing go', 'latest nokia mobile ipod player proze guaranteed reply win norcorp', 'leave around four ok', 'leave de start prepare next', 'leave u always ignorant', 'leave wif lar wan carry meh heavy is da num familiar', 'leaving qatar tonite search go add ur prayer', 'left dessert u wan go suntec look u', 'lem know', 'lem know i swing pick i free basically time semester', 'let know change next it even appendix age range however impossible so chill let know', 'let know contact i settle room lets know ok', 'let know get money carlos make call', 'let know need anything else salad desert something how many beer shall get', 'let pool money together buy bunch lotto ticket if win i get lt gt u get lt gt deal', 'let send free anonymous mask sending message see potential abuse', 'let snow let snow this kind weather bring ppl together friendship grow', 'let ur heart be ur compass ur mind ur map ur soul ur guide and u will never loose world sent via', 'lets use next week princess', 'life alle mone eppolum oru pole allalo', 'life never much fun great come you make truly special i wo forget enjoy one', 'life spend someone lifetime may meaningless moment spend someone really love mean life', 'life strict teacher bcoz teacher teach lesson amp conduct exam but life first conduct exam amp teach lessons happy morning', 'life style garment account please', 'like i make throw smoke friend car one time awesome', 'like lt gt question', 'like needle clock though v r clock v r nt able meet evn v meet itz second bt v alwys stay conected gud', 'like personal sized', 'like spoil', 'lil fever fine', 'living loving also laughing winning tooo but being difficult', 'living loving also laughing winning tooo but gud nte', 'lmao fish memory i need', 'lmao fun', 'lmao know well', 'lmao nice', 'lmao ok i wont need u hair anymore', 'lmao take pic send', 'loan purpose homeowners tenants welcome have previously refuse we still help call free text back', 'loans purpose even bad credit tenants welcome call', 'log wat it', 'lol alright thinkin haha', 'lol always convince', 'lol boo i hop laugh', 'lol different i go try find every real life photo ever take', 'lol enjoy role playing much', 'lol forget eh yes i bring babe', 'lol great im get hungry', 'lol grr mom take forever prescription pharmacy like minute away ugh', 'lol happen vegas stay vega', 'lol have make plan new year', 'lol i babe thanks think', 'lol i could starve lose pound end day', 'lol i gon na last month i cash i leave lt gt case i collect week cause announce blog', 'lol i hot air balloon', 'lol i know hey someone great inpersonation flea forum i love', 'lol i know i saw dollar store', 'lol i know they dramatic schools already close tomorrow apparently ca drive inch snow suppose get', 'lol i need cash nitros hurry come i crash', 'lol i really need remember eat i drink i appreciate keep company night babe', 'lol i take member i say aunt flow visit month it cause i develop ovarian cyst bc way shrink', 'lol i would despite cramp i like girl', 'lol i would mom would fit tell whole family crazy terrible i', 'lol just try make day little interesting', 'lol know awesome phone i could click delete right i want', 'lol mad first wake give', 'lol nah bad thanks its good b home quite reality check hows ur day did u anything website', 'lol no busy', 'lol oh babe i wont slide place midnight thanks invite', 'lol oh get friend dog', 'lol ok forgiven', 'lol ok i remember til last nite', 'lol ok i snatch purse', 'lol ok ill try send be warn sprint dead slow you prolly get tomorrow', 'lol oops sorry have fun', 'lol ouch wish stay bit longer', 'lol please actually send pic right i wan na see pose comb hair dryer something', 'lol real she tell dad i cancer', 'lol right what diet everyday i cheat anyway i mean fatty', 'lol u come idea', 'lol u drunkard just hair moment yeah still tonight wats plan', 'lol u still feel sick', 'lol u trust', 'lol well quality aint bad aint complaining', 'lol well without we could big sale together', 'lol wo feel bad i use money take steak dinner', 'lol would awesome payback', 'lol wtf random btw lunch break', 'lol yeah point i guess', 'lol yep yesterday already get fireplace now another icon sit', 'lol yes but add spice day', 'lol yes our friendship hang thread cause u wo buy stuff', 'lolnice i go fish', 'long beach lor expected u dinner', 'long i quit i get like minute day', 'long time you remember today', 'look at amy ure a beautiful intelligent woman and i like u a lot i know u like me like that so worry', 'look at the fuckin time what the fuck you think is up', 'look fry pan case cheap book perhaps no silly fry pan likely book', 'lookatme thanks purchase video clip lookatme charge think well why send video mmsto', 'lookin strong', 'looks like find something smoke great job', 'looks like u wil b get headstart im leave bout u r desperate company i could head goin meet rummer', 'loosu go hospital de dont let careless', 'lor change suntec wat time u come', 'lord of the rings return of the king store now reply lotr june chance win lotr soundtrack cds stdtxtrate reply stop end txts', 'love daddy make scream pleasure i go slap as dick', 'love decision feeling if could decide love life would much simpler less magical', 'love holiday monday feel even i go dentist hour', 'love i want flood pretty pussy cum', 'love one law make happy person love in way friendship one law never make ur friend feel alone alive gud night', 'love the girl office may wonder smile sore', 'love u', 'lovely smell bus ai tobacco', 'lt decimal gt common car well buy china asia or find less expensive holla', 'lt gt are go get', 'lt gt fast approach so wish u happy new year happy sankranti happy republic day happy valentines day happy shivratri happy ugadi happy fools day happy may day happy independence day happy friendship mother father teachers childrens day amp happy birthday u happy ganesh festival happy dasara happy diwali happy christmas lt gt good mornings afternoons evenings nights rememberi am first wishing u all these raj', 'lt gt great loxahatchee xmas tree burn update totally see star', 'lt gt guess easy enough', 'lt gt i think should say syllabus', 'lt gt ish minutes was minutes ago wtf', 'lt gt mca but conform', 'lt gt mins stop somewhere first', 'lt gt pple marry lover becz hav gud undrstndng dat avoids problem send dis u u wil get gud news friday person like and tomorrow best day life dont break chain if break suffer send lt gt frnds lt gt min whn u read', 'lt gt w jetton ave forget', 'lul im gettin juicy gossip hospital two nurse talk fat gettin and one think shes obese oyea', 'lyricalladie invite friend reply see stop send stop frnd', 'ma head dey swell oh thanks make day', 'macha dont feel assume one even wonderful plan life begin anytime', 'machan go gym tomorrow wil come late goodnight', 'madam regret receive reference check dlf rakhesh kerala', 'mah b i pick tomorrow', 'make computer shut', 'make fuck sake x', 'make sure alex knows his birthday is over in fifteen minutes as far as you concerned', 'man bus slow i think gon na get', 'many happy return day i wish happy birthday', 'many time lose best one bcoz', 'mark work tomorrow he get his work house meet u afterwards', 'married local woman look discreet action real match instantly phone text match msg cost stop txt stop', 'marvel mobile play official ultimate game ur mobile right text spider game send u free wallpaper', 'match lt gt', 'mathews tait edward anderson', 'may b approve panalam', 'may call you later pls', 'maybe could get book tomo return immediately or something', 'maybe find something else instead', 'maybe if you woke up before fucking this would be a problem', 'maybe say hi find got card great escape wetherspoons', 'maybe westshore hyde park village place near house', 'me also da feel yesterday night wait til night dear', 'me baby i promise treat well i bet take good care', 'me dont know oh', 'me fine', 'me have lovely night xxx', 'me hungry buy food good lei but mum n yun dun wan juz buy little bit', 'me mark take forever pick prescription pain come back', 'me n funny', 'me sef dey laugh meanwhile darling anjie', 'me wake afternoon sup', 'me watch surya movie pm vijay movie pokkiri', 'me watch tv', 'me workin once get job', 'mean confirm i tot juz say oni ok', 'mean post i write like many time ritten stuff let sit was feel time i angry before left hit send stop it i check phone get car it you say sleep bore so would that time clean fold laundry at least make bed', 'meanwhile shit suite xavier decide give u lt gt second warn samantha come play jay guitar impress shit also i think doug realizes i live anymore', 'meet corporation st outside gap see mind work', 'meet lunch la', 'meeting u work tel shall work tomorrow', 'men always need beautiful intelligent care love adjustable cooperative wife but law allow one wife', 'men like short lady gaze eye', 'merry christmas babe love ya', 'merry christmas u annie', 'message i truro hospital ext you phone i phone side', 'message important information user today lucky day find log onto http fantastic surprise awaiting', 'message text sender name missing date miss u lot thats everything miss send via', 'midnight early', 'might ax well im', 'mila blonde new uk i look sex uk guy u like fun text mtalk increment', 'miles smile r make frm letter u know smile ur face keep happy even though i mile away keep good nyt', 'min later k', 'mind no tsunamis occur rajnikant stop swim indian', 'mine like fr china noisy', 'minimum walk day', 'miserable they tell u side effect birth control massive gut wrench cramp first month i sleep last night', 'misplaced number send texts old number wondering hear year all best mcat got number atlanta friend', 'miss call miss call khelate kintu opponenter miss call dhorte lage thats rule one great phone receive quality win', 'miss call mumhas beendropping red wine theplace adress', 'miss ya need ya want ya love ya', 'missed call alert these number call left message', 'missed call cause i yell scrappy miss u ca wait u come home i lonely today', 'missing inshah allah', 'mm ask call radio', 'mm ask come enough', 'mm entirely sure understood text hey ho which weekend', 'mm feel sleepy today shall get dear', 'mm food da', 'mm kanji dont eat anything heavy ok', 'mm time dont like fun', 'mm umma ask vava also come tell play later together', 'mm way railway', 'mm yes dear look hug', 'mmm fuck merry christmas', 'mmm thats well get roast b well drink good indian', 'mmm yummy babe nice jolt suzy', 'mmmm fuck not fair you know weakness belly pull head do forget i know', 'mmmm i cant wait lick', 'mmmmm i love wake word morning i miss love i hope day go well happy i wait u together', 'mmmmm it sooooo good wake word morning love mmmm fuck i love lion kiss across', 'mmmmmm i love much ahmad i ca wait year begin every second take closer side happy new year love', 'mmmmmmm content i fuck love much i barely stand', 'mobile club choose top quality item mobile', 'mobile number claim call u back ring claim hot line', 'moby pub high street prize u know new duchess cornwall txt first name stop sp', 'moby pub high street prize u know new duchess cornwall txt first name stop sp arrow', 'mode men leave', 'moji inform save life thanks', 'moji love word have rich day', 'mom want know', 'mon okie lor haha best cheap n gd food la ex oso okie depends whether wana eat western chinese food den u prefer', 'money r lucky winner claim prize text money give away text rate', 'money win number wot next', 'month kotees birthday know', 'monthly password wap use wap phone pc', 'monthlysubscription t csc web txt stop', 'moon come color dream stars make musical sms give warm peaceful sleep good night', 'more people dog area call join like mind guy why arrange there even minapn', 'morning ok', 'most tiime let hug break tear', 'mostly sport footbl', 'motivate behind every darkness shin light wait find behind every best friend always trust love bslvyl', 'msg rajini come', 'msgs r time silently say i think u right also make u think least moment gd drms shesil', 'much cost', 'much good thanks lol', 'multiply number independently count decimal point division push decimal place like show', 'mum ask buy food home', 'mum go robinson already', 'mum hope great day hoping text meet well full life have great day abiola', 'mum say wan go go then shun bian watch da glass exhibition', 'mum send many many message since get i want know actually get do enjoy rest day', 'murderer coz man murder lt gt th as public holiday close include post', 'must come i normally bathe da afternoon', 'must nearly dead well jez iscoming todo workand whilltake forever', 'my battery low babe', 'my birthday feb lt gt da', 'my computer fry essential part keep spare fuck idiot roommate looovvve leave thing run full lt gt', 'my darling sister how when school resuming is minimum wait period reapply do take care', 'my drive read i need write', 'my exam february wish great day', 'my fri ah okie lor goin drivin den go shoppin tt', 'my friend get say upping order gram get lt gt get', 'my friend study warwick plan go shopping concert tmw may cancel hav see age yeah get together sometime', 'my friend use call', 'my house e sky quite dark liao if rain get excuse run already rite hee', 'my life means lot not i love life but i love people life the world call friend i call world ge', 'my love how come take long leave zaher i get word ym happy see sad leave i miss', 'my love i hope anything drastic do dare sell pc phone', 'my mobile sms ur mail regard achan', 'my new years eve was ok i went to a party with my boyfriend who is this si then hey', 'my no in luton ring me if ur around', 'my painful personal always try keep everybody happy time but nobody recognises', 'my parents my kidz my friends n my colleagues all surprise i wait naked', 'my phone', 'my planning usually stop hella weed', 'my si catch e show e afternoon watch w so c u wan watch today tmr lor', 'my sister clear two round birla soft yesterday', 'my sister get place birla soft da', 'my sister go earn da', 'my sister law hope great month just say hey abiola', 'my slave i want take picture today bright light cell phone bright light', 'my sort code acc the bank natwest can reply confirm sent right person', 'my stomach thru much trauma i swear i ca eat i good lose weight', 'my superior telling friday leave department except leave way call waheed fathima hr conform', 'my supervisor find one lor thk student i havent ask yet tell u aft ask', 'my trip ok quite tire lor uni start today ok co take module jus concentrate final yr project', 'my tuition hm go one do mind', 'my uncle atlanta wish guy great semester', 'mystery solve just open email sent another batch is sweetie', 'nah ca help i never iphone', 'nah dub je still buff', 'nah i perpetual dd', 'nah i think go usf life around though', 'nah im goin wrks j wot bout u', 'nah man car meant cram full people', 'nah straight bring bud drink something actually little useful straight cash', 'nah wednesday when i bring mini cheetos bag', 'nan sonathaya soladha why bos', 'natalie invite friend reply see stop send stop frnd', 'natalja invite friend reply see stop send stop frnd', 'nationwide auto centre something like newport road i like', 'naughty little thought good flirt flirt n flirt rather love someone n gettin hurt hurt n hurt gud nyt', 'near kalainar tv', 'need coffee run tomo ca believe time week already', 'neft transaction reference number lt gt rs lt decimal gt credit beneficiary account lt gt lt time gt lt gt', 'neither sterm voice study all fine not sure thing resolve tho anyway have fab hols', 'network operator the service free for t c visit', 'networking job', 'networking technical support associate', 'networks allow company bill sms responsible', 'neva mind', 'neva tell noe i home da aft wat', 'never blame day ur life good day give u happiness bad day give u experience both essential life all gods blessing good morning', 'never lei i v lazy got wat dat day send da url cant work one', 'never try alone take weight tear come ur heart fall ur eye always remember stupid friend share bslvyl', 'new address pair malarky', 'new car house parent new job hand', 'new mobiles must go txt nokia no collect today from only', 'new mobiles must go txt nokia no collect today from only txtauction', 'new service live sex video chat mob see sexy dirty girl live ur phone detail text horny cancel send stop', 'new textbuddy chat horny guy ur area free receive search postcode txt one name', 'new textbuddy chat horny guy ur area free receive search postcode txt one name rpl stop cnl', 'new theory argument win situation lose person so dont argue ur friend kick amp say i always correct', 'new tones this week include sara will to order follow instruction next message', 'new year plan', 'next lt gt hour imma flip shit', 'nice line say broken plz cum time infront other wise i trust u good', 'nice talk please dont forget pix want see', 'nice wait texting right i gon na pay ticket ya know', 'night end another day morning come special way may smile like sunny ray leave worry blue blue bay', 'night end another day morning come special way may smile like sunny ray leave worry blue blue bay gud mrng', 'night night see tomorrow', 'night sweet sleep well i see the exorcism emily rose may never sleep hugs snogs', 'night we nt stay port step liao too ex', 'nimbomsons yep phone know one obviously cos thats real word', 'nite', 'nite nite pocay wocay luv u n e thing i promise ring u', 'no also', 'no blanket sufficient thx', 'no bluray player', 'no break time one how i come n get stuff fr', 'no but find diff farm shop buy cheese on way back call', 'no but medical mission nigeria', 'no call', 'no cancelled yeah baby well sound important understand darlin give ring later fone love kate x', 'no check i get detailed message', 'no chikku nt ya free', 'no current food i alone also', 'no da i happy sit together na', 'no da run activate full version da', 'no da stupid send like believe mental', 'no da vijay go talk jaya tv', 'no de but call time ill tell k', 'no dear free message without recharge hi hi hi', 'no dear sleeping', 'no dice art class thru thanks though any idea time i come tomorrow', 'no did multimedia message', 'no didnt i search online let know', 'no do u knw dis lt gt', 'no drama enough family struggle hot sun strange reason ego go not invited actually necessity serious reppurcussions', 'no dude frnds get money thts reffering u member wit mail link u vl credit lt gt r il getiing lt gt draw acc wen lt gt', 'no get headache try figure u trust math i promise o', 'no get new job bar airport satsgettin hour mean lie keep touch', 'no get rumour go buy apartment chennai', 'no gifts you try get throw cliff something', 'no go no opening room thanksgiving without upcharge', 'no gon na able late notice home week anyway plan', 'no happend', 'no i boat still mom check yo i half naked', 'no i ca give everything want need you actually could better yor get money i ca get work ca get man ca pay rent ca even fill fuck gas tank yes stress depressed i even call home thanksgiving cuz tell nothing', 'no i cancer moms make big deal regular checkup aka pap smear', 'no i check room befor activity', 'no i decide people care stuff vote care stuff loser', 'no i dont want hear anything', 'no i good movie ok i leave hourish', 'no i mean calculation that lt gt unit lt gt this school really expensive have start practice accent because important and decide dental school nmde exam', 'no i try weekend v', 'no idea i guess work hour suppose leave since usual nobody interest figure shit last second', 'no it pride i almost lt gt year old takin money kid you suppose deal stuff this grownup stuff tell', 'no its specialisation can work slave labor will look month sha co shakara beggar', 'no kallis home home town durban', 'no let math your good', 'no management puzzeles', 'no mean fat head', 'no meet library', 'no message phone i hold', 'no movie laptop', 'no mum go dentist', 'no need buy lunch i eat maggi', 'no need drug anymore', 'no need ke qi bore izzit suddenly thk', 'no need lar go engin cos si art today', 'no need lar jus test e phone card dunno network gd thk me wait si finish bath bathe dun disturb u liao u cleaning ur room', 'no need say anything i know outsider', 'no nokia tone ur mob every week just txt nok tone free get txtin tell ur friend reply hl', 'no objection my bf come', 'no on way home so long dry spell season would', 'no one interested may business plan', 'no pic please', 'no plan yet what', 'no plm come da on way', 'no polyphonic tone ur mob every week just txt tone free get txtin tell ur friend reply hl', 'no prob i send email', 'no probably lt gt', 'no problem baby is good time talk i call leave message', 'no problem how', 'no problem renewal right away dont know detail', 'no problem talk later', 'no problem we spend lot quality time together', 'no probs hon how u doinat mo', 'no promise though even get dinner yet', 'no put party day week study lightly i think need draw custom checkboxes know hardcore', 'no reach she tell i dont know', 'no rushing i work i school rush go hungry', 'no screaming mean', 'no see online shop ask', 'no sell ton coin then sell coin someone thru paypal voila money back life pocket', 'no send bec temple na', 'no she currently scotland', 'no shit i surprise i go spent evening french guy i meet town fool around bit i let fuck', 'no shoot i docs wait room', 'no sir that trip bus last week have another audition next wednesday think might drive time', 'no spring come early yay', 'no tell go get drunk', 'no thank you wonderful', 'no thursday', 'no to nosy i guess idk i react i freak', 'no valentines huh the proof fb page ugh i glad i really did watch rupaul show tool', 'no wahala just remember friend need', 'no wait e car dat bore wat cos wait outside get nothing at home stuff watch tv wat', 'no way i go back', 'no wonder cos dun rem see silver car but thk saw black one', 'no work ring u thing whole houseful scream brat pull hair loving u', 'no worry hope photo shoot go well spiffing fun workage', 'no yes please been swim', 'nobody decide eat dad want chinese', 'nobody name penis girl name story add', 'noice text', 'nokia phone', 'none happen til get though', 'nooooooo i gon na bore death day cable internet outage', 'noooooooo please last thing i need stress for life fair', 'nope b go sch fri quite early lor co mys si get paper da morn', 'nope c', 'nope come online', 'nope drivin i neva develop da photo lei', 'nope go home go pump petrol lor like go rain soon', 'nope i forget will show next week', 'nope i still market', 'nope juz work', 'nope meanwhile talk say make greet', 'nope since ayo travel forgotten guy', 'nope thats fine i might nap tho', 'nope think go monday sorry reply late', 'nope wait sch daddy', 'nope watch tv home not go v bore', 'nope wif si lor aft bathing dog bathe looks like go rain soon', 'normally use drink water daily', 'not able anything', 'not campus are library', 'not course only maths one day one chapter one month finish', 'not directly behind abt row behind', 'not drop tank', 'not get anywhere damn job hunt', 'not hear call rude chat private line cum wan pic gettin shag text pix send stop sam xxx', 'not heard call night knickers make beg like u last time xx luv', 'not lot happen feels quiet beth aunt charlie work lot just helen mo how', 'not much no fights it was a good nite', 'not much textin how bout', 'not much though h m friday cant wait dunno wot hell im gon na another week become oh wait already do', 'not plan yet go join company jan know happen', 'not possession especially first offense', 'not really dude friend afraid', 'not sure i stomach', 'not sure time tho sure get library class will try see point have good eve', 'not sure yet still try get hold', 'not think bout drink tap spile seven is pub gas st broad st canal ok', 'not tonight mate catching sleep this new number way', 'not worry i sure get', 'not yet abt u', 'not yet just like keep touch easy way barcelona by way ru house', 'not yet room nw', 'not yet sapna aunty manege full weak swalpa black', 'not yet wat abt tht guy stop irritate msging', 'nothin come mind help buy hanger lor ur laptop heavy', 'nothing abt u whr ru', 'nothing can', 'nothing ever easy but look reason take risk life love', 'nothing get msg frm tht unknown', 'nothing get msgs dis name wit different', 'nothing i mean money enters account bank remove flat rate someone transfer lt gt account lt gt dollar get remove so bank differ charge also sure trust person send account detail cos', 'nothing jus tot u would ask co u ba gua but go mt faber yest yest jus go already mah today go jus call lor', 'nothing lor a bit bored then dun u go home early sleep today', 'nothing much chillin home any super bowl plan', 'nothing really make sure everybody speed', 'nothing smsing u n xy lor sorry lor da guy neva c u person sort know u lor so u wan meet xy ask bring u along next meeting', 'nothing wen v get but life everything wen v miss something real value people wil realize absence gud mrng', 'now free call pa', 'now get step outta way congrats', 'now go lunch', 'now got tv watch meh u work today', 'now i go dinner', 'now press conference da', 'now project after come', 'now reach home i tire i come tomorro', 'now start dont stop just pray good idea anything see help guy forward link', 'now thats go ruin thesis', 'now u sound like manky scouse boy steve like i travel da bus u inmind recreation dis eve', 'now whats house and beer', 'nowadays people notixiquating laxinorficated opportunity bambling entropication have ever oblisingately opt ur book masteriastering amplikater fidalfication it champlaxigating think wotz ur opinion junna', 'nowhere ikno doesdiscount', 'nt drive even many reason call chikku hw abt dvg tht vinobanagar violence hw hw ru any problem', 'nt joking seriously tell', 'nt yet abt u', 'num corrct dane', 'number u live is', 'nutter cutter ctter cttergg cttargg ctargg ctagg ie', 'nvm i go wear sport shoe anyway i go late leh', 'nvm ok', 'nvm take ur time', 'o cant see join denis mina or denis want alone time', 'o fps', 'o guess get screwd', 'o ic lol should play door sometime yo', 'o play smash bros lt gt religiously', 'o shore takin bus', 'o well uv cause mutation sunscreen like essential thesedays', 'oclock mine just bash flat plan', 'of co lar ba dao ok pm lor y u never ask go ah i say u would ask fri say u ask today', 'of course do tease you know i simply must see do keep post prey', 'of course i guess god get hold right', 'of july', 'ofcourse i also upload song', 'office da', 'oh', 'oh a half hour much longer syria canada eh wow must get so much work do day u extra time', 'oh ask fun haha take care', 'oh baby house how come dont new picture facebook', 'oh charge camera', 'oh come ah', 'oh dang i mean send lol', 'oh fine i tonight', 'oh forwarded message i think send', 'oh fuck sake like tallahassee', 'oh gei that happend tron maybe ill dl', 'oh get even u u', 'oh get many responsibility', 'oh get pay the outstanding one commercial hasbro august they make u jump many hoop get pay still', 'oh god happy see message day', 'oh god i almost home', 'oh god i find number i glad text back xafter msg cst std ntwk chg', 'oh god i gon na google nearby cliff', 'oh grand bit party mention cover charge probably first come first serve', 'oh great disturb talk', 'oh haha den shld go today gee nvm la kaiez dun mind goin jazz oso scared hiphop open cant catch', 'oh ho is first time u use type word', 'oh howda gud mathe en samachara chikku', 'oh i come tomorrow', 'oh i thkin goin yogasana den nd go den rush parco nb okie lor u call ready', 'oh ic i think meant mary jane', 'oh icic k lor den meet day', 'oh k get job whats', 'oh k k big good', 'oh k placement ah', 'oh k watch', 'oh kay on sat right', 'oh lk tt den take e one tt end cine lor dun wan yogasana oso', 'oh love soooo good hear omg i miss much today i sorry problem provider thank tming', 'oh mr sheffield you wan na play that game okay you boss i nanny you give raise i give you one', 'oh oh den muz change plan liao go back yan jiu', 'oh oh wasted den muz chiong sit n sun liao', 'oh ok', 'oh ok didnt know mean yep baby jontin', 'oh ok wait my lect havent finish', 'oh okie lor we go sat', 'oh outside player allow play know', 'oh phone phone disconnect', 'oh really did make air what talent', 'oh really perform write paper go movie and home midnight huh', 'oh right ok i make sure load work day get really nasty cough today dry n shot really help', 'oh rite well im with my best mate pete who i went out with a now were again its been longer than a week', 'oh send address', 'oh shit i think trip loooooool that make so much sense sofa reference the link sent was go trip oh and babe go celebration rent', 'oh shut omg yesterday i dream i kid boy i piss not kids boy i even tell mark dream change diaper cause i get owe face', 'oh sorry please', 'oh take test', 'oh teeth pain', 'oh thanks already buy egg', 'oh thats late well good night give u call tomorrow iam go go sleep night night', 'oh think wi nz player unsold', 'oh u must take real valentine shopping first', 'oh unintentionally bad time great fingers train play along will give fifteen min warning', 'oh usual vijay film different', 'oh wat ur email', 'oh way food fridge want go meal tonight', 'oh well c u later', 'oh which brand', 'oh wow thats gay will firmware update help', 'oh ya got hip hop open haha think go jazz zoom cine actually tonight free leh and kb lesson tonight', 'oh ya ya i remember da', 'oh yah we never cancel leh haha', 'oh yeah and diet flew window', 'oh yeah and hav a great time in me a postcard look after all the girls while im gone u know the talkin bout xx', 'oh yeah clearly fault', 'oh yeah i forget u take shopping', 'oh yes i little weather kind coccooning home', 'oh yes i speak txt u hmm did u get email', 'oh yes like torture watch england', 'oi ami parchi na kicchu kaaj korte iccha korche na phone ta tul na plz plz', 'oi gon na ring', 'oic co n si get lunch today dad go so dunno whether eat sch wat', 'oic i saw tot din c i find group liao', 'oic then well quickly go bathe n settle', 'ok', 'ok also wan watch e pm show', 'ok another number', 'ok anyway need change say', 'ok bus if come soon come otherwise tomorrow', 'ok but bag', 'ok but finish', 'ok but say got wisdom teeth hidden inside n mayb need remove', 'ok c', 'ok c ya', 'ok careful do text drive', 'ok chinese food way when i get fat pay lipo', 'ok come n pick u engin', 'ok come ur home half hour', 'ok coming home', 'ok cool see ya', 'ok da already plan i wil pick', 'ok darlin supose ok worry film stuff mate babysit but call', 'ok day so make dinner tonite am i invite', 'ok dear did call chechi', 'ok enjoy r u home', 'ok find dis pierre cardin one look normal cost sale', 'ok give minute i think i see btw alibi you cut hair whole time', 'ok go change also', 'ok go sleep hope meet', 'ok good later come find c lucky tell go earlier later pple take finish', 'ok great thanx lot', 'ok help ask work tmr', 'ok i ask abt e movie u wan ktv oso', 'ok i ask money far', 'ok i din get ur msg', 'ok i feel like john lennon', 'ok i gentleman treat dignity respect', 'ok i gon na head usf like fifteen minute', 'ok ill send lt decimal gt ok', 'ok ill tell company', 'ok im sure time finish tomorrow wan na spend evening co would vewy vewy lubly love xxx', 'ok juz', 'ok knackered just come home go sleep not good full time work lark', 'ok knw', 'ok lar double check wif da hair dresser already say wun cut v short he say cut look nice', 'ok lar joking wif u oni', 'ok leave need ask', 'ok let noe later n ask call u tmr', 'ok let u noe leave house', 'ok lor', 'ok lor anyway thk cant get ticket cos like quite late already u wan go look ur frens darren wif', 'ok lor but buy wat', 'ok lor early me still project meet', 'ok lor go tog lor', 'ok lor i ned go toa payoh return smth u wan send wat', 'ok lor i town lei', 'ok lor msg u call', 'ok lor or u wan go look u', 'ok lor reach message', 'ok lor sony ericsson salesman i ask shuhui say quite gd use consider', 'ok lor thanx school', 'ok lor wat time finish', 'ok msg u leave house', 'ok need tell anything go sleep good night', 'ok ok take care i understand', 'ok omw castor', 'ok pa nothing problem', 'ok prob', 'ok prob i come lunch', 'ok prob take ur time', 'ok problem get taxi c ing tomorrow tuesday on tuesday think r go cinema', 'ok problem yup go sch rem correctly', 'ok send u da late version da project', 'ok set let u noe e detail later', 'ok shall talk', 'ok so april cant wait', 'ok sweet dream', 'ok take ur time n enjoy ur dinner', 'ok tell half hr u come need prepare', 'ok tell stay yeah tough optimistic thing improve month', 'ok thanx', 'ok thanx gd nite', 'ok thanx take care', 'ok thats cool its either raglan rd edward rd behind cricket ground gim ring ur closeby see tuesday', 'ok the theory test go book i think may coz thought wan na go jiayin but isnt free', 'ok then r meeting later', 'ok there may free gym', 'ok thk get then u wan come wat', 'ok try week end course coimbatore', 'ok u enjoy ur show', 'ok u know get adsense', 'ok u take shopping u get pay', 'ok u tell wat time u come later lor', 'ok ur typical reply', 'ok very good its make money', 'ok waliking ard do u wan buy anything go ur house', 'ok way home hi hi', 'ok way railway', 'ok wont call disturb one i know avoid i burden', 'ok would b lovely u r sure think wot u want drinkin dancin eatin cinema up u wot', 'okay good problem thanx', 'okay i book already including one bugis', 'okay i see so pick friday', 'okay lor wah like def wont let u go haha what say term condition', 'okay lor will still let u go ah coz know later we drop card box right', 'okay name ur price long legal wen i pick y u ave x am xx', 'okay no shin that mean sign sound well', 'okay think expert', 'okay we wait ah', 'okay well thanks clarification', 'okey doke i home dress co lay around ill speak later bout time stuff', 'okey dokey bit sort stuff', 'okey dokey swashbuckling stuff oh', 'okie', 'okie scar u say fat then u dun wan already', 'okie thanx', 'okie wan meet bishan cos bishan i drive today', 'okies i go yan jiu we skip ard oso go cine den go mrt one blah blah blah', 'okmail dear dave final notice collect tenerife holiday cash award call landline tcs sae', 'ola would get back maybe today i tell direct link us get car bid online arrange ship get cut or u for partnership u invest money ship take care rest u wud b self reliant soon dnt worry', 'old orchard near univ how', 'olol print forum post guy exact prob fix gpu replacement hopefully dont ignore', 'omg could snow tonite', 'omg i want scream i weigh i lose weight woohoo', 'omg joanna freak she look thru friend find photos and ask stuff myspace i even log like year', 'omg make wed chapel frontierville why get good stuff', 'omg one thing another my cat worm bad day end', 'omg u know i eat', 'omw back tampa west palm hear happen', 'on road cant txt', 'on way office', 'on way school can pls send ashley number', 'once fishrman wake early mrng it dark he wait amp find sack ful stone he strtd throwin thm sea pas time atlast jus sun rise amp find tht r nt stone diamonds moral wake early mrng good night', 'once free call sir', 'once free call sir i wait', 'one best dialogue cute die', 'one day crab run sea wave come n clear footprint crab ask frnd r u clearing beautiful footprint waves reply a fox follow ur footprint catch thats clear frndsship never let u dwn gud', 'one joy lifeis wake daywith thought somewheresomeone care enough tosend warm morning', 'one powerful weapon occupy place others so', 'one small prestige problem', 'only get message ignore yes shopping', 'only ill obey', 'only promise get soon and text morning let know make ok', 'only saturday sunday holiday difficult', 'only student solve cat question lt gt lt gt lt gt tell answer u r brilliant get answr', 'onlyfound out afew days', 'onum ela normal', 'ooh gon na start belly dance moseley wed u want join cafe', 'oooh bed ridden ey what you think', 'oooh i get plenty', 'ooooooh i forget tell u i get yoville phone', 'oops get bit', 'oops i let know roommate do', 'oops i lt gt', 'oops i shower u call hey parking garage collapse university hospital see i crazy stuff like does happen', 'oops mum somerset bit far back tomo see soon x', 'oops phone die i even know yeah i like well', 'oops sorry just check mind pick tomo half eight station would ok', 'oops thk dun haf enuff i go check tell', 'open rebtel firefox when load put plus sign user name place show two number the low number number once pick number pin display okay', 'or', 'or go buy wif meet later', 'or go home first lar wait i put stuff', 'or good still catch let ask sell lt gt', 'or i guess lt gt min', 'or ill little close like bus stop street', 'or maybe fat finger press button know', 'or remind hr', 'or u ask next sat if make ok lor', 'orange bring ringtones time chart heroes free hit week go ringtones pics wap to stop receive tip reply stop', 'orange customer may claim free camera phone upgrade loyalty call offer end t c apply availa', 'orh tot u say still dun believe', 'otherwise part time job', 'ou guarantee late nokia phone ipod player prize txt word collect no ibhltd', 'our brand new mobile music service live the free music player arrive shortly just install phone browse content top artist', 'our date service ask contact u someone shy call now reveal', 'our prasanth ettans mother pass away last night just pray family', 'our prashanthettan mother pass away last night pray family', 'our record indicate u maybe entitle pound compensation accident to claim free reply claim msg stop txt stop', 'our ride equally uneventful many pesky cyclist around time night', 'ow u pay tell u would call', 'pa select', 'package program well', 'painful think happy tough thing earth but', 'panasonic bluetoothhdset free nokia free motorola free doublemins doubletxt orange contract call call', 'pandy join technology get', 'pansy you live jungle two year its driving worry', 'park next mini when come today think', 'party place usf charge contribute way greatly appreciate yeah get room one', 'pass dis ur contact n see wat u get red luv wid u blue u put smile face purple u r realy hot pink u r swt orange thnk lyk u green realy wana go wid yelow wnt u bck black jealous u brown miss nw plz giv one color', 'pathaya enketa maraikara pa', 'per min call germany bt line just per min check info t c text stop opt', 'perform', 'perhaps much easy give account identification tomorrow uni', 'pete phone still its jenny college', 'phony award todays voda number end xxxx select receive award if match please call quote claim code standard rate app', 'pick bout what time go', 'pick ur fone up now u dumb', 'pick various point', 'pick various point go yeovil motor project hour u take home max very easy', 'piggy r u awake i bet u still sleep i go lunch', 'piss is talking is someone that realise u that point this at is it now read it backwards', 'pity mood so suggestion', 'plaid gd new abel', 'play w computer aiyah tok u lor', 'playin space poker u', 'please ask mummy call father', 'please attend phone', 'please call amanda regard renew upgrading current handset free charge offer end today tel subject t c', 'please call customer service representative freephone won guarantee cash prize', 'please call customer service representative won guaranteed cash prize', 'please call immediately urgent message wait', 'please da call mistake side sorry da pls da goto doctor', 'please dont say like hi hi hi', 'please give pick tuesday evening ok', 'please leave tell', 'please protect sib never ask sensitive information like passwords pin thru email never share password anybody', 'please reserve ticket saturday eve chennai thirunelvali tirunelvali chennai sunday eve already see ticket want book ticket tackle', 'please ring meive hardly gotany', 'please sen kind advice please come try', 'please tell car key purse', 'please tell special stock talk', 'please text anymore i nothing else say', 'pleassssssseeeeee tel me v avent done sportsx', 'pls accept one day or beg change number', 'pls ask macho much budget bb bold co saw new one lt gt dollar', 'pls call da what happen', 'pls clarify back open return ticket preponed go back kerala', 'pls come quick cant bare', 'pls confirm time collect cheque', 'pls dont forget study', 'pls dont restrict eat anythin like next two day', 'pls full name joke school co fee university florida seem actually lt gt pls holla back', 'pls give food preferably pap slowly loads sugar you take hour give and water very slowly', 'pls give prometazine syrup lt gt min later feed', 'pls go ahead watts i want sure do great weekend abiola', 'pls go today lt gt i dont want excuse', 'pls help tell ashley cant find number oh', 'pls help tell sura expect battery hont and pls send message download movie thanks', 'pls need dat slowly vomit', 'pls pls find aunt nike', 'pls send address sir', 'pls send comprehensive mail pay much', 'pls send correct name da', 'pls speak customer machan', 'pls speak i wont ask anything friendship', 'pls tell nelson bb longer comin the money expect aint come', 'pls wont belive jesus', 'plz note anyone call mobile amp ask u type lt gt lt gt do disconnect call coz iz attempt make use sim card itz confirmd nokia n motorola n verify cnn ibn', 'po de no need job aha', 'poly tone all mob direct rply poly title eg poly titles crazyin sleepingwith finest ymca', 'polyphonic ringtone text super get free poly tone week sn subscription', 'poor baby hope urfeeling bettersn luv probthat overdose of work hey go careful spk u sn lots of lovejen', 'poor girl ca go one day lmao', 'possible', 'post in class', 'poyyarikatur kolathupalayam unjalur post erode dis lt gt', 'prakesh know', 'predict wat time finish buying', 'premium phone service call', 'prepare pleasured', 'prepare pound every night', 'princess kitty shave natural', 'princess like make love lt gt time per night hope thats problem', 'printer cool i mean groovy wine groovying', 'private your account statement', 'private your account statement fone show point call identifier code expires', 'private your account statement show point call identifier code expires', 'private your account statement show point call identifier expires', 'private your account statement show unredeemed bonus points to claim call identifier code expires', 'private your account statement xxxxxx show point call identifier code expires', 'pro video club need help info call you must club credit redeemable enjoy', 'probably couple hour top', 'probably early station i think', 'probably gon na see later tonight lt', 'probably gon na swing wee bit', 'probably i almost gas i get cash tomorrow', 'probably money worry things come due several outstanding invoice work two three month ago', 'probably still go stuff', 'probably want pick', 'problem u frm wats matter', 'prof pass paper sem congrats student enna prof gud mrng', 'promotion number ur award city break could win summer shopping spree every wk txt store skilgme', 'ps u ur grown right', 'purity friendship two smile reading forward smile see name gud evng', 'purity friendship two smile reading forward smile see name gud evng musthu', 'que pases un buen tiempo something like', 'quite late lar ard anyway wun b drivin', 'quite lor but dun tell wait get complacent', 'quite ok bit ex u good go eat smth else feel guilty', 'quiteamuzing babe', 'r comin back dinner', 'r go lt gt bus', 'r go today meeting', 'r stayin extra week back next how rugby weekend hi c u soon ham', 'r still meet dinner tonight', 'r u', 'r u continent', 'r u meeting da ge nite tmr', 'r u sam p in eachother if we meet we can go my house', 'r u say order slipper cos pay returning', 'r u scratching', 'r u still work', 'r u sure understand wine good idea slurp', 'r u yet i wear blue shirt n black pant', 'ranjith cal drpd deeraj deepak hold', 'rats hey u ever vote next theme', 'raviyog peripherals bhayandar east', 'rct thnq adrian u text rgds vatian', 're call you see facebook huh', 'reach another', 'reach home call', 'reading gud nan bari hudgi yorge pataistha ertini kano', 'ready call', 'really dun bluff leh u sleep early nite', 'really get hang around', 'really good dhanush rock', 'really hope work doesnt get stressful have day', 'really i crash cuddle sofa', 'really i tot ur paper end long ago but wat u copied jus get use u happy lar i still haf study', 'really told kallis best cricketer sachin world tough get', 'realy recognise number confuse r u please', 'reason team budget available last buy unsold player base', 'reassure crazy world', 'received understood n act upon', 'reckon need town eightish walk carpark', 'recpt you order ringtone your order process', 'ree entry weekly comp chance win ipod txt pod get entry std txt rate t c apply detail', 'refused loan secured unsecured ca get credit call free text back', 'release another italian one today cosign option', 'remember', 'remember ask alex pizza', 'remember hurt day satanic imposter pay price destiny keep go u say pray get mind get', 'remind get i shall', 'reminder from to get pound free call credit detail great offer pls reply text valid name house postcode', 'reminder you download content already pay goto http mymoby collect content', 'reply name address you will receive by post week completely free accommodation various global location', 'reply win weekly what professional sport tiger woods play send stop end service', 'reply win weekly where fifa world cup hold send stop end service', 'reverse cheating that mathematics', 'rgent this attempt contact u u won call t callcost mobilesvary', 'right brah see later', 'right later', 'right wasnt phone someone number like', 'rightio well arent bright early morning', 'ringtone club get uk single chart mobile week choose top quality ringtone this message free charge', 'ringtone club new polys direct mobile every week', 'ringtoneking', 'rock yr chik get filthy film xxx pic yr phone rply filth saristar ltd per day cancel', 'rodger burns msg we try call reply sms free nokia mobile free camcorder please call delivery tomorrow', 'rofl betta invest anti age product', 'rofl its true name', 'roger probably go rem', 'romantic paris night flight book next year call cs apply', 'romcapspam everyone around respond well presence since warm outgoing you bring real breath sunshine', 'ron say fri leh n say ding tai feng cant make reservation but say wait lor', 'rose need water season need change poet need phone need ur sm need ur lovely frndship forever', 'rose red red blood blood heart heart u but u send ti ur including if u like if u get back r poor relation need support r frnd many luvs u praying god marry try', 'ryder gibbs', 's able sleep', 's catch put', 's competition', 's india go draw series many year south african', 's kallis wont play first two odi', 's lt gt', 's min go lunch', 's mostly like', 's one good partnership go take lead', 's r lt gt', 's rock', 's take mokka player', 's take tablet reaction morning', 's train manual show tech process password reset troubleshooting', 'sac need carry', 'sac score big set batsman', 'sad puppy noise', 'sad story man last week my wife wish my parents forget n kids i go work even colleagues wish', 'sad story man last week my wife wish my parents forget n kids i go work even colleagues wish as i enter cabin pa say happy boss i felt special she askd lunch after lunch invited apartment we go she say u mind i go bedroom minute i sed sexy mood she come minuts latr wid cake n my wife my parents my kidz my friends n my colleagues all surprise i wait naked', 'same i consider wall bunker shit important i never play peaceful i guess place high enough matter', 'same i great aunt anniversary party tarpon spring', 'same kallis dismissial test', 'same u', 'same u dun wan y u dun like already ah wat u still eat', 'same wana plan trip sometme', 'santa call would little one like call santa xmas eve call book time last t c', 'santa calling would little one like call santa xmas eve call book time', 'sary need tim bollox hurt lot tol', 'sat right okay thanks', 'save money wed lingerie choose superb selection national delivery brought weddingfriend', 'save stress if person dorm account send account detail money sent', 'saw', 'saw guys dolls last night patrick swayze great', 'say', 'say god i love you amp i need you clean my heart with your ten special people amp u c miracle tomorrow pls pls', 'say kiss kiss ca sound effect he gorgeous man kind person need smile brighten day', 'say like dat dun buy ericsson oso oredi lar', 'say lt gt year old man money i last lt gt still wait check', 'say quit day wud take much notice nah mind are gon na see do want come taunton tonight u tell', 'science tell chocolate melt sunlight please walk sunlight bcoz i want loss sweet friend', 'sday training start today', 'see', 'see christmassy', 'see forwarding message proof', 'see i think', 'see k', 'see knew give break time woul lead always want miss curfew i gon na gibe one midnight movie gon na get til you need come home you need getsleep anything need b studdying ear training', 'see when finish load loan pay', 'seek lady street freak sheet is', 'sehwag odi series', 'sen tell go join uncle finance cbe', 'send content page', 'send id password', 'send logo ur lover name join heart txt love mobno eg love adam eve yahoo txtno ad', 'send lt gt min', 'send new number', 'send number give reply tomorrow morning say like ok', 'send resume', 'send someone else', 'send ur birthdate month year i tel u ur life partner name method calculation reply must', 'send ur friend receive something ur voice how speaking expression attitude lt gt lt gt reply', 'send yetty number pls', 'sending greeting joy happiness do evening', 'sent de webadres get salary slip', 'sent ur email id soon', 'senthil group company apnt', 'serious what like proper tongued', 'seriously tell her those exact words right now', 'set place heart mind mind easily forget heart always remember wish happy valentines day', 'sex ur mobile free sexy pic jordan just text babe then every wk get sexy celeb pic', 'sexy sexy cum text im wet warm ready porn u fun this msg is free recd msgs inc vat cancel text stop', 'sexy singles wait text age follow gender wither m f for gay men text age follow', 'sexy st george day pic jordan txt pic dont miss every wk saucy celeb pic c', 'sez hows u de arab boy hope u r good give love love ya eshxxxxxxxxxxx', 'shall ask one thing dont mistake', 'shall call dear food', 'shall come get pickle', 'shall get pouch', 'shall i bring u bottle wine keep u amuse only joke bring one anyway', 'shall send exe mail id', 'shall start hear', 'shant disturb u anymore jia', 'shb b ok lor thanx', 'she borderline yeah whatever', 'she break list reason nobody town i ca tell sarcastic faggy', 'she doesnt need test', 'she fine good hear how dear happy new year oh', 'she fine sends greeting', 'she go attend another two round still reach', 'she good how where r u work', 'she leave vague she say would inform person account delay rent discus housing agency rent another place but check online place around usc lt gt', 'she ok i guess', 'she run young man make pretty baby together', 'she say u mind i go bedroom minute i sed sexy mood she come minuts latr wid cake n my wife', 'she she belong she hope pray fat shoranur train incident lets hold hand together amp fuel love amp concern prior grief amp pain pls join dis chain amp pas stop violence against women', 'she suppose could make still town though', 'she tell hr want post chennai work', 'shhhhh nobody suppose know', 'shit really shock scary cant imagine second def night do u think somewhere could crash night save taxi', 'shop till u drop is it you either cash travel voucher call ntt po box fixedline cost mobile vary', 'shopping eh ger toking abt syd leh haha', 'shopping lor them rain mah hard leave orchard', 'short but cute be good person', 'short but cute good person', 'should buy blackberry bold torch should buy new use let know plus say buy lt gt g wifi ipad and say lt gt g', 'should i head straight', 'should i pick receipt something earlier', 'should i stalk u', 'should i tell friend come round til like lt gt ish', 'should send naughty pix', 'show ur colour euro offer get england flag tone ur phone click follow service message info', 'shuhui buy ron present swatch watch', 'shuhui say change suntec steamboat u noe where r u', 'si si i think ill go make oreo truffle', 'sian aft meeting supervisor get work liao u work', 'simply sit watch match', 'since side fever vomitin', 'sindu get job birla soft', 'single line big meaning anything ur best', 'sir good morning hope good weekend i call let know able raise lt gt dad he however say would make rest available mid feb this amount still quite short hop would help do good day abiola', 'sir goodmorning once free call', 'sir hope day go smoothly really hoped wont bother i bill ca settle month i extra cash i know challenge time also let know', 'sir i late pay rent past month pay lt gt charge i felt would inconsiderate nag something give great cost didnt speak i however recession wont able pay charge month hence askin well ahead month end can please help thanks', 'sir i need axis bank account bank address', 'sir i need velusamy sir date birth company bank facility detail', 'sir i wait mail', 'sir receive account another time sorry delay', 'sir send group mail check', 'sir wait call', 'sir wait call free please call', 'sir wait letter', 'sir waiting mail', 'sister kid', 'sitting ard nothing lor u leh busy w work', 'sitting mu wait everyone get suite i take shower', 'siva hostel aha', 'six chance win cash from pound txt send cost tsandcs apply reply hl info', 'slaaaaave where must i summon time do wish come anymore', 'sleeping nt feeling well', 'slept i thinkthis time lt gt pm dangerous', 'small problem auction punj ask tiwary', 'smile pleasure smile pain smile trouble pours like rain smile hurts u smile becoz someone still loves see u smiling', 'smith waste wan na gayle', 'sms ac blind date aberdeen united kingdom check him http sm blind dates send hide', 'sms ac jsco energy high u may know ur leadership skill r strong psychic reply ans end reply end jsco', 'sms ac post hello seem cool', 'sms ac sptv the new jersey devils detroit red wings play ice hockey correct incorrect end reply end sptv', 'sms auction a brand new nokia auction today auction free join take part txt nokia', 'sms auction you nokia this get win free auction to take part send nokia', 'sms services for inclusive text credit pls gotto login unsubscribe stop extra charge help', 'sms services inclusive text credit pls goto unsubscribe stop extra charge help', 'sms services inclusive text credit pls goto unsubscribe stop extra charge po', 'smsservices yourinclusive text credit pls goto unsubscribe stop extra charge help', 'so anything specific i regard jaklin idk fuck', 'so anyways go gym whatever love i hope ok good day babe i miss much already', 'so asked anthony dad and bf', 'so bank say money', 'so check error difficulty correction', 'so collect ur laptop', 'so could kiss feel next', 'so dad gon na call get work ask crazy question', 'so didnt holla', 'so dont use hook', 'so gd get free ice cream i oso wan', 'so gon na get rimac access', 'so guys', 'so guys ask get slipper go last year', 'so handle victoria island traffic plus album due', 'so is th gower mate which is where i am how r u man all is good in wales ill b back c u this wk who was the msg random', 'so let make saturday monday per convenience', 'so li hai me bore da lecturer repeat last week stuff waste time', 'so list buyer', 'so many day since', 'so many people seem special first sight but remain special till last maintain till life sh jas', 'so many people seem special first sight but remain special till last maintain till life take cr da', 'so mean still think teju', 'so message had food', 'so pay first lar then da stock comin', 'so poke man everyday teach canada abi how just say hi', 'so really what how master and', 'so ring come guy costume it gift future yowifes hint hint', 'so samus shoulder yet', 'so scotland hope show jjc tendency take care live dream', 'so submitting da project tmr rite', 'so sun anti sleep medicine', 'so take away money worry', 'so tell i coulda real valentine i u never pick nothing', 'so think actually talk not call bos morning i go place last year tell could go get car fix cheaper he keep tell today much hop would come back always regret get number etc', 'so u gon na get deus ex', 'so u today', 'so u wan come dinner tonight', 'so u workin overtime nigpun', 'so wan na gym', 'so wan na gym harri', 'so wat da decision', 'so wats ur opinion abt abt character', 'so weather', 'so what remember', 'software', 'solve case a man was found murdered on lt decimal gt lt gt afternoon his wife call police police question everyone wife sir i sleep murder take place i cook i pick vegetable i go post office we go play we go marriage police arrest murderer immediately who it reply with reason if u r brilliant', 'some friend want drive em someplace probably take', 'some lasting much hour you might get lucky', 'some tell accenture confirm is true', 'somebody go andros steal ice', 'somebody set website play hold em use eve online spacebucks', 'someone conacted date service enter phone fancy to find call landline', 'someone contact date service enter phone becausethey fancy to find call landline', 'someone contact date service enter phone fancy to find call landline', 'someone u know ask dating service contact cant guess call now reveal po', 'someone u know ask dating service contact cant guess call now reveal pobox', 'someonone know try contact via date service to find could call mobile landline', 'something come last think wun sign hee', 'sometimes heart remembrs someone very much forgets someone soon bcoz heart like everyone but like one remembered everytime bslvyl', 'sometimes put wall around heart safe get but find care enough break wall amp get goodnoon', 'somewhere beneath pale moon light someone think u dream come true goodnite amp sweet dream', 'somewhr someone surely make u and god decide perfect time make u meet dat person till den enjoy ur', 'soon real thing princess do make wet', 'sorry bathroom sup', 'sorry battery die i come i get gram place', 'sorry battery die yeah i', 'sorry brah finish last exam', 'sorry c ur msg yar lor poor thing but one night tmr u brand new room sleep', 'sorry cant take call right it happen r wat want she come ill get medical insurance and able deliver basic care i currently shop right medical insurance so give til friday morning thats see major person guide right insurance', 'sorry chikku cell get problem thts nt able reply u msg', 'sorry completely forget pop em round week still', 'sorry da i go mad many pending work', 'sorry da mistake', 'sorry da thangam sorry hold prasad', 'sorry da think call lot time lil call', 'sorry de go shop', 'sorry delay yes master', 'sorry din lock keypad', 'sorry dude dont know forgot even dan remind sorry hope guy fun', 'sorry earlier putting around talk or actually life lol', 'sorry free', 'sorry get late start way', 'sorry get thing may pub later', 'sorry go bed early nightnight', 'sorry go home first daddy come fetch later', 'sorry go place tomorrow really sorry', 'sorry grocer', 'sorry i able get see morning', 'sorry i ca help', 'sorry i ca text amp drive coherently see twenty', 'sorry i call later', 'sorry i call later i meet sir', 'sorry i call later in meeting', 'sorry i call later lt gt min', 'sorry i call later meet thing relate trade please call arul lt gt', 'sorry i call later meeting', 'sorry i call later ok bye', 'sorry i didntgive ya bellearlier hunny', 'sorry i flake last night shit seriously goin roommate tonight', 'sorry i guess whenever i get hold connection maybe hour two i text', 'sorry i miss babe i late slept i hope enjoy drive lesson boytoy i miss', 'sorry i miss call let talk time i', 'sorry im get feel really totally rejected kinda thing', 'sorry im stil fucked after last nite went tobed at got up work at', 'sorry leave phone upstairs ok might hectic would bird one fell swoop it date', 'sorry light turn green i mean another friend want lt gt worth may around', 'sorry lot stuff i talk actual guy want buy', 'sorry mail', 'sorry man accidentally leave phone silent last night check til i get', 'sorry man account dry i would want could trade back half i could buy shit credit card', 'sorry man stash run dry last night i ca pick sunday', 'sorry mat phone didnt write love kate', 'sorry meeting i call later', 'sorry miss call can please call back', 'sorry pa dont knw ru pa', 'sorry pain is ok meet another night i spend late afternoon casualty mean do include time sheet sorry', 'sorry roommates take forever ok i come', 'sorry send blank msg yup try serious study', 'sorry sir call tomorrow', 'sorry take long omw', 'sorry trouble u can buy dad all big small sit n sun thanx', 'sorry u unsubscribe yet the mob offer package min term week pls resubmit request expiry reply themob help info', 'sorry uncle keep touch', 'sorry vikky watching olave mandara movie kano trishul theatre wit', 'sorry wont come driving', 'sorry you never hear unless book one kinda joke thet really look skinny white girl the one line much camera something like cast look', 'sos any amount get pls', 'sounds gd haha can wah u yan jiu fast liao', 'sounds good keep post', 'sounds great are home', 'sounds great im go sleep have good night', 'sounds like could lot time spend chastity device boy or take beating like good dog going lounge nice long bath', 'sounds like many talent would like go dinner date next week', 'sounds like plan cardiff still still cold i sit radiator', 'sounds like something someone test would sayy', 'sounds well even im costume im sure time finish tomorrow txt end', 'sparkle shop break per person call visit', 'speaking cash yet', 'special', 'special today', 'spending new year brother family lets plan meet next week are ready spoil', 'spjanuary male sale hot gay chat cheap call national rate cheap peak to stop text call', 'splashmobile choose tone wk this subscrition service weekly tone cost u one credit kick back enjoy', 'spoke uncle john today he strongly feel need sacrifice keep he go call when beg listen dont make promise make clear thing easy and need please let u work thing as long keep expect help creativity stifle pls keep happy promise part', 'spook mob halloween collection logo pic message plus free eerie tone txt card spook zed per', 'spoons okay', 'sport fan get late sport news ur mobile wk free plus free tone txt sport on norm', 'sppok ur mob halloween collection nokia logo pic message plus free eerie tone txt card spook', 'squeeeeeze this christmas if u lik frndshp den hug if u get u r cute u r luvd u r lucky none people hate u', 'sry ca talk phone parent', 'sry nw come', 'st andre virgil cream', 'staff placement training amrita college', 'still area restaurant ill try come back soon', 'still attend da talk', 'still chance if search hard get try', 'still check da', 'still customer place', 'still get lesson sch', 'still otside come', 'still west coast haiz take forever come back', 'still work and time also try add zero that save the check lt gt', 'still work go small house', 'stop bootydelious invite friend reply see stop send stop frnd', 'stop call everyone say i might cancer my throat hurt talk i ca answer everyones call if i get one call i babysitting monday', 'stop knowing well', 'stop story i tell return say order', 'storming msg wen u lift phne u say do u knw wt real meaning hello it name and u knw dat girl margaret she girlfrnd f grahmbell invnted telphone moral one name person', 'studying but free next weekend', 'stupid auto correct phone', 'summers finally fancy chat flirt sexy single yr area to get matched reply summer free join optout txt stop', 'sun ah thk mayb dun anythin thk book e lesson e pilates orchard mrt u noe hor', 'sun cant come earth send luv ray cloud cant come river send luv rain i cant come meet u send care msg gud evng', 'sunshine hols to claim ur med holiday send stamp self address envelope drinks us uk po box bray wicklow eire quiz starts saturday unsub stop', 'sunshine quiz win super sony dvd recorder canname capital australia text mquiz b', 'sunshine quiz wkly q win top sony dvd player u know country algarve txt ansr sp tyrone', 'sunshine quiz wkly q win top sony dvd player u know country liverpool play mid week txt ansr sp tyrone', 'super da good replacement murali', 'super msg da nalla timing', 'superb grateful u dont everything u want that mean u still opportunity happier tomorrow u', 'sure i drive reach destination soon', 'sure i get acknowledgement astoundingly tactless generally faggy demand blood oath fo', 'sure i see i come bit', 'sure make sure know ai smokin yet', 'sure since parent work tuesday i really need cover story', 'sure thing big man hockey election go longer hour though', 'sure whenever show fuck gt', 'surely result offer', 'surly ill give come review', 'sweet heart', 'sweet may may go meet carlos gauge patty interest', 'sweet well princess please tell like dislike bed', 'sweetheart hope kind day have one loads reason smile biola', 'swhrt u dey hope ur ok tot u n care', 'taco raja burrito right', 'taka lor wat time u wan come n look u', 'take care n get well soon', 'take care sleep need learn change need get convinced wait conversation convinced family many u role life', 'take small dose tablet fever', 'take something pain if move however side next see doctor', 'take u shop mark distract', 'takin linear algebra today', 'takin shower yeah i leave i do', 'talk g x', 'talk sexy make new friend fall love world discreet text date service just text vip see could meet', 'talk with yourself atleast once in a day otherwise you will miss your best friend in this world shesil lt gt', 'tall princess', 'tap spile seven is pub gas st broad st canal ok', 'tddnewsletter more game thedailydraw dear helen dozens free games great', 'teach apps da when come college', 'tee hee off lecture cheery bye bye', 'tell address', 'tell bad character u dnt lik i try change lt gt i add tat new year resolution waiting ur frank good morning', 'tell dear happen why talk like alian', 'tell drug dealer get impatient', 'tell female v throw we decide get', 'tell friend plan valentines day lt url gt', 'tell her i said eat shit', 'tell how pain de', 'tell make little spreadsheet track whose idea smoke determine entire month february', 'tell need investigate anywhere', 'tell reach', 'tell rob mack gf theater', 'tell something thats okay', 'tell u call claim prize u enter ur mobile personal detail prompt careful', 'tell u headache want use hour sick time', 'tell whos pls', 'tension ah machi problem', 'tension face smiling face waste face innocent face face face face face face lt gt face', 'text banneduk see cost textoperator xxx', 'text get call phone problem', 'text if doesnt reply let know log', 'text meet someone sexy today u find date even flirt u join reply name age eg sam recd thirtyeight penny', 'text pass collect polyphonic ringtones normal gprs charge apply enjoy tone', 'text way cup stop work and bus', 'thank and way i lose', 'thank baby i cant wait taste real thing', 'thank generally date brothas', 'thank god bed', 'thank i like well', 'thank much when skyped wit kz sura didnt get pleasure company hope good we give ultimatum oh we countin aburo enjoy', 'thank much when skyped wit kz sura didnt get pleasure company hope good we give ultimatum oh we countin aburo enjoy this message send day ago', 'thank princess i want see nice juicy booty', 'thank princess you sexy', 'thank u', 'thank u it better work out cause i will feel used otherwise', 'thank winner notify sms good luck no future marketing reply stop customer service', 'thank you meet monday', 'thank you say happy onam fine remember meet insurance you qatar insha ex tata aig join tissco tayseer', 'thanks continue support your question week enter u draw cash name new us president txt an', 'thanks da thangam feel happy dear i also miss da', 'thanks fills complete calm reassurance', 'thanks gud nyt', 'thanks honey have great day', 'thanks honey still hear anything i leave bit longer crowd try later great advice thanks hope cardiff still', 'thanks hope good day today', 'thanks i keep mind', 'thanks it tescos quite nice all go speak soon', 'thanks look i really appreciate', 'thanks lot wish birthday thanks make birthday truly memorable', 'thanks love but torch bold', 'thanks love you rock', 'thanks lovely wish you rock', 'thanks message i really appreciate sacrifice i sure process direct pay find way back test tomorrow i class do wonderful day', 'thanks or bomb date phone want say', 'thanks pick trash', 'thanks reply today when ur visa come and r u still buy gucci bag my sister thing easy uncle john also bill really need think make money later sha', 'thanks ringtone order ref number your mobile charge should tone arrive please call customer service', 'thanks ringtone order reference number mobile charge should tone arrive please call customer service', 'thanks ringtone order reference number your mobile charge should tone arrive please call customer service', 'thanks ringtone order reference number your mobile charge should tone arrive please call customer service from text txtstar', 'thanks ringtone order reference you charge gbp per week you unsubscribe anytime call customer service', 'thanks send mental ability', 'thanks subscription ringtone uk mobile charge please confirm reply yes no if reply no charge', 'thanks talk saturday you dear i cherish brother role model', 'thanks temales wonderful thank have great week', 'thanks understand i try tell sura', 'thanks vote now sing along star karaoke mobile for free link reply sing', 'thanks yesterday sir you wonderful hope enjoy burial mojibiola', 'thankyou much call i appreciate care', 'thanx', 'thanx birthday already', 'thanx e brownie v nice', 'thanx lot', 'thanx lot ur help', 'thanx puttin da fone down on me', 'thanx sending home', 'thanx take call i get job starts monday', 'thanx time spend bin mint ur baby i want u xxxx', 'thanx u darlin im cool thanx a bday drink nite take care c u', 'thanx u r goodmate i think ur rite sary asusual u cheered me up love u franyxxxxx', 'thanx yup come back sun finish dinner go back hotel time fly tog exactly mth today hope haf many mths come', 'thasa bit messed', 'that cause old i live high', 'that cool i come like lt gt ish', 'that cool night lem know around', 'that day ask anand number why', 'that day say cut ur hair paragon call hair sense do noe much hair cut', 'that depend how would like treat', 'that fine give call know want question', 'that fine i bitch later', 'that good i need drug', 'that good lets thank god please complete drug have lot water and beautiful day', 'that haf combine n c lor', 'that honeymoon outfit', 'that i love hear v see sundayish', 'that mean february april get place stay hustle back forth audition season since sister move away harlem', 'that mean get a epi fine', 'that mean get door', 'that necessarily respectful', 'that ok i pop ask bout something say are around tonght wen girl come', 'that one issue california okay no snow manageable', 'that one week leave put know time why', 'that random saw old roomate campus he graduate', 'that rude campus', 'that say bad dat e gal know u wat u', 'that say text one time', 'that seem unnecessarily affectionate', 'that seem unnecessarily hostile', 'that shame maybe cld meet hr tomo', 'that significant dont worry', 'that suck i go u hair you free right', 'that suck so got plan yo valentine i yo valentine i', 'that trouble class go well due dodgey one expecting mine tomo see recovery time place', 'that u haf keep busy', 'that way stay oh', 'that way transport less problematic sat night by way u want ask n join bday feel free but need know definite no book fri', 'that wondar full flim', 'that wondarfull song', 'that would great we guild could meet bristol road somewhere get touch weekend our plan take flight have good week', 'thats bite weird even suppose happen but good idea sure pub', 'thats cool gentleman treat dignity respect', 'thats cool how day', 'thats cool i gentleman treat dignity respect', 'thats cool i want please', 'thats cool like photo you sexy', 'thats cool princess i cover face hot sticky cum', 'thats cool sometimes slow gentle sonetimes rough hard', 'thats cool where cum on', 'the affidavit say lt gt e twiggs st division g courtroom lt gt lt time gt am i double check text tomorrow', 'the basket gettin full i might tonight', 'the battery mr adewale uncle aka egbon', 'the beauty life next hides thousand secret i wish every second wonderful ur life gud', 'the bus leave lt gt', 'the current lead bid to pause auction send out customer care', 'the evo i download flash jealous', 'the fact cleaning show know upset your priority constantly want', 'the gas station like block away house drive right since armenia end swann take howard', 'the great test courage earth bear defeat without lose heart tc', 'the guy bitch i act like interested buying something else next week give u free', 'the guy car shop flirt get phone number paperwork call texted i nervous course may address should call bos tell know may get fire', 'the guy kadeem sell since break i know one guy paranoid fuck like sell without i ca til late tonight', 'the hair cream ship', 'the house water dock boat roll newscaster dabbles jazz flute behind wheel', 'the last thing ever want hurt and think would you laugh embarassed delete tag keep go but far know even the fact even felt like would hurt show really know it messy wednesday bad the problem have time clean choose you skype take picture sleep want go i mind thing make bed throw laundry top ca friend house embarassed underwear bra strew bed pillow floor something else you use good least make bed', 'the lay man just let know miss thought do great day and send bimbo ugo number ill appreciate safe', 'the length e e top shorter n get fringe i thk go liao too lazy dun wan distract u also', 'the lt gt g saw day ago guy want sell wifi lt gt lt gt that blank', 'the message send askin lt gt dollar shoul pay lt gt lt gt', 'the monthly amount terrible pay anything till finish school', 'the new deus ex game comin early next yr', 'the oz guy kinda flaky one friend interested pick lt gt worth tonight possible', 'the search happiness main source unhappiness accept life way come u find happiness every moment u live', 'the sign maturity start say big but actually start understand small thing a nice bslvyl', 'the table occupy i wait tree', 'the whole car appreciate last two dad map read semi argument apart thing go p', 'the wine flow', 'the word chess come persian phrase shah mean king have good', 'the world happy frnds never character dey best understanding difference', 'the world run feel admit correction let call keep run world may u r also run', 'the xmas story the xmas msg the xmas miracle hav bless month ahead amp wish u merry xmas', 'themob check new selection content games tones gossip babes sport keep mobile fit funky text wap', 'themob hit link get premium pink panther game new sugababes crazy zebra animation badass hoody free', 'themob yo yo come new selection hot downloads member get free just click open next link send ur fone', 'then anything special', 'then ask dad pick lar wan stay meh', 'then buy', 'then buy today need c meh', 'then cant get da laptop my matric card wif lei', 'then come hostel', 'then come n pick ar', 'then dun believe wat', 'then dun wear jean lor', 'then eat shit wait ur monkey face bitch u asshole', 'then get cash together i text jason', 'then get ta', 'then likely call mittelschmertz google if dont paracetamol dont worry go', 'then mum repent', 'then one talk', 'then plan', 'then respond', 'then special', 'then u ask darren go n pick u lor but oso sian tmr haf meet lect', 'then u drive lor', 'then u go back urself lor', 'then u go ikea str aft dat', 'then u good go dun disturb u u wake msg', 'then ur physic get', 'then ur si', 'then wait bus stop aft ur lect lar if dun c go get car come back n pick', 'then wait u lor no need feel bad lar', 'then wat r u busy wif work', 'then you eldest know', 'theoretically yeah could able come', 'there bold lt gt is', 'there charge transfer charge withdraw anyhow like', 'there first time everything', 'there generally one it uncountable noun u dictionary piece research', 'there many company tell language', 'there minor shindig place later tonight interested', 'there nice pub near frankie n bennys near warner cinema', 'there os call ubandu run without instal hard disk use os copy important file system give repair', 'there people mu i table lambda', 'there point hangin mr right makin u happy', 'there r many ericson also lt gt luks good bt forget modl', 'there sense foot penis', 'there size elephant tablet u shove um ur as', 'there someone year lt gt toyota camry like mr olayiwola mileage lt gt clean need know much sell if raise dough soon land sell holla back', 'these wo have move morphine', 'they finally come fix ceiling', 'they make easy pay back i lt gt yr say pay back earlier you get', 'they pick drop', 'they play one day last year know even though good like india', 'they put stuff road keep get slippery', 'they r give second chance rahul dengra', 'they release vday shirt u put make bottom half naked instead white underwear', 'they say dun haf passport smth like or juz send email', 'they say gon na snow start around pm tonite they predict inch accumulation', 'they talk thats de they wont', 'they thread wishlist section forum ppl post nitro request start last page collect bottom', 'they try they get lose fact tee hee', 'theyre lot place only hospital medical place safe', 'thing ape u fight death keep something minute u let go thats', 'thing just quick question', 'thing r good thanx got exams in march ive done no revision is fran still with boyf ive got ta interviw exeter bit worried x', 'think da you wil', 'think i could stop like hour my roommate look stock trip', 'think king hill thing', 'think match', 'think might give miss am teach til twelve lecture two damn work thing', 'think send text home phone that cant display text if still want send number', 'think ur smart win week weekly quiz text play t cs winnersclub po box', 'think waste', 'thinkin someone good no drug', 'thinl role like stand others hit', 'this attempt contact u u won', 'this attempt contract u week top prize either cash prize just call', 'this creepy crazy', 'this girl stay bed this girl need recovery time id rather pas fun cooped bed', 'this hop enjoyed game yesterday sorry touch pls know fondly bein thot have great week abiola', 'this is a long fuckin showr', 'this message bring gmw connect', 'this message free welcome new improve sex dogging club to unsubscribe service reply stop msg', 'this message great doctor india do drink appy fizz it contain cancer cause age', 'this msg mobile content order it resent previous attempt fail due network error queries customersqueries', 'this number', 'this one day billion class right', 'this pain could come bad time', 'this pay lt decimal gt lakh', 'this pen thing beyond joke wont biro do master ca ever', 'this phone weird auto correct', 'this single single answer fight plus say break didnt reply', 'this time try contact u pound prize claim easy call now only per min', 'this time try contact u pound prize claim easy call only per minute', 'this time try contact u prize claim call t sms', 'this time try contact u prize claim easy call now only per minute', 'this ur face test lt gt select number tell ur face astrology wait quick reply', 'this week savamob member offer accessible just call detail savamob pobox only savamob offer mobile', 'this weekend fine excuse much decorating', 'this wishing great day moji tell offer always speechless you offer easily go great lengths behalf stun my exam next friday after keep touch sorry', 'thk em find wtc far weiyi goin e rest dunno yet r ur goin dinner den might b able join', 'thk shld b ya wana go lesson haha go one whole stretch', 'thk sure get time hop ard ya go free abt muz call u discus liao', 'thk wat eat tonight', 'thnx dude u guy', 'those cocksucker if make feel good ipads worthless garbage novelty item feel bad even want one', 'those duck chinchilla', 'those exact intention', 'thought could go dinner i treat seem ok', 'thought i see', 'thought praps mean another one goodo i look tomorrow', 'thts god gift bird human hav natural gift frm', 'thts wat wright brother', 'thursday night yeah sure thing work', 'thx all well month', 'tick tick tick babe', 'tick tick tick where i could die loneliness know i need', 'ticket walsall tue th march my mate get sit ill pay treat want go txt bak', 'time n smile r two crucial thing life sometimes time make u forget smile sometimes someone smile make u forget time gud noon', 'tired i sleep well past night', 'tiwary bang kochi', 'tmr brin lar aiya later come n c lar mayb neva set properly get da help sheet wif', 'tmr timin still da wat co get lesson', 'tmrw im finishing door', 'to day class class', 'to review keep fantastic nokia game deck club nokia go unsubscribe alert reply word out', 'to wonderful okors great month we cherish guy wish well day mojibiola', 'today accept accept brother sister lover lvblefrnd jstfrnd cutefrnd lifpartnr belovd swtheart bstfrnd no rply mean enemy', 'today cer it was nice catch up but we ave find more time more often oh well take care c u', 'today dedicate which song u dedicate send ur valuable frnds first rply', 'today go college able atten class', 'today iz yellow rise day if u love frndship give misscall amp send ur frndz amp see many miss call u get if u get u marry ur lover', 'today offer claim ur worth discount voucher text yes savamob member offer mobile t cs sub unsub reply x', 'today sorry if ever angry ever misbehave hurt plz plz just slap urself bcoz its ur fault i basically good', 'today system sh get well also deep well', 'today vodafone number end last four digit select receive award if number match please call claim award', 'today workin free oso gee thgt u workin ur fren shop', 'todays voda number end select receive award if hava match please call quote claim code standard rate app', 'todays voda number end select receive award if match please call quote claim code standard rate app', 'todays voda number end select receive if match please call quote claim code standard rate app', 'todays voda number end select receive reward if match please call quote claim code standard rate apply', 'todays vodafone number end select receive award if number match call receive award', 'tomarrow final hearing laptop case cant', 'tomarrow want get court at lt decimal gt so come bus stand', 'tomorrow go theatre so come wherever u call tell come tomorrow', 'tomorrow onwards start ah', 'tone club your sub expire reply monoc mono polyc polys weekly per week txt stop stop this msg free stream', 'tonight yeah i', 'too late i say website i dont slipper', 'total disappointment i texted crazy shit get', 'total video converter free download type google search', 'training process', 'true it passable and get high score apply phd get salary so make life easy', 'true its easy', 'true lov n care wil nevr go unrecognized though somone often make mistake value definitly undrstnd start miss', 'true sit pray even felt sms time', 'trust even', 'try contact response offer new nokia fone camcorder hit reply call delivery', 'try neva mate', 'try something dear you read something exam', 'tuesday night r u real', 'tunde this wish great day abiola', 'tunji queen this wish great day abiola', 'turn stereo love mi phone unknown album', 'turns friends stay whole show wo back til lt gt feel free go ahead smoke lt gt worth', 'twenty past five say train durham already coz reserved seat', 'twinks bear scallies skin jock call do miss weekend fun call stop text call nat rate', 'two fundamental cool life', 'two team wait player', 'txt call no claim reward hour talk time use phone inc stop txtstop', 'tyler get leave long get like hour', 'u', 'u arun dha', 'u attend ur drive lesson many time wk n day', 'u buy newspaper already', 'u call', 'u call alter ok', 'u call right call hand phone', 'u come back dinner rite dad ask confirm wif u', 'u come n search tat', 'u come pick', 'u definitely need module e humanity dis sem izzit u wan take module', 'u dun say early hor u c already say', 'u fancy meetin cha hav lil beverage txt ring meet quite tire get love pete x x', 'u free sit rite u wan watch infernal affair wif n darren n mayb xy', 'u gd lor go shop get stuff u wan watch infernal affair come lar', 'u get message', 'u go doctor liver and get bit stylish get ur hair manage thats', 'u goin out', 'u guy never invite anywhere', 'u horrible gal u know dat go wif yest n u still come n ask', 'u know stubborn i i even want go hospital i keep tell mark i weak sucker hospitals weak sucker', 'u know watchin lido', 'u lose ill always b intend hurt u i never know u felt careabout u', 'u lousy run already come back half dead hee', 'u love like listen song get stopped u see name beloved wo get angry', 'u lunch alone i bore', 'u make appointment', 'u make fb list', 'u meet fren dun wan meet ah muz b guy rite', 'u miss someone', 'u ned convince tht possible witot hurt feeling main', 'u need presnts always bcz u cant mi love irulinae neekunna prakasamanu prakasam ennal prabha mn prabha got dont mi', 'u nokia plus free digital camera this u get u win free auction to take part send nokia', 'u outbid shinco dvd plyr bid visit sms end bid notification reply end out', 'u r much close heart if u go away shatter plz stay', 'u r subscribe textcomp wkly comp wk free question follow subsequent wks charge unsubscribe txt stop custcare', 'u r the most beautiful girl ive ever seen u r my baby come and c me in the common room', 'u r winner u ave specially select receive cash holiday flight inc speak live operator claim', 'u reach orchard already u wan go buy ticket first', 'u really pig leh sleep much my dad wake smth eat lunch today', 'u remember old commercial', 'u repeat e instruction wat e road name ur house', 'u say leh of course nothing happen lar not say v romantic jus bit lor i thk e nite scenery nice leh', 'u secret admirer look make contact think ur', 'u secret admirer reveal think u r so special call to opt reply reveal stop per msg recd cust care', 'u select stay top british hotel for nothing holiday value dial claim national rate call', 'u sick still go shopping', 'u sleeping or go take i get spy me online check n replying mail', 'u still go mall', 'u still havent get urself jacket ah', 'u still paint ur wall', 'u study sch go home anyway b go sch later', 'u subscribe best mobile content service uk per day send stop helpline', 'u subscribe best mobile content service uk per ten day send stop helpline', 'u sure u ca take sick time', 'u tex mecause u werebored yeah okden hunny r uin wk sat likeyour havin j keep updat countinlots of loveme', 'u think girl propose u today see ur bloody funky shit fuck face asssssholeeee', 'u town alone', 'u wake already thanx e tau sar piah quite nice', 'u wake already wat u u pick u later rite i take reach ard smth like dat u check e arrival time c ya soon', 'u wan haf lunch da canteen', 'u welcome caught u use broken english', 'u what u when u b move flat co i need arrange pick lamp etc take care hello caroline', 'u will switch your fone on dammit', 'u win music gift vouchers every week start now txt word draw tscs', 'u win music gift vouchers every week start now txt word draw tscs skillgame', 'ugh ca u apologize admit u wrong ask take u back', 'ugh fuck i resubbing eve', 'ugh get outta class', 'ugh got ta drive back sd la my butt sore', 'ugh hopefully asus ppl dont randomly reformat', 'ugh i wan na get bed it warm', 'ugh leg hurt musta overdid mon', 'ugh long day i exhaust just want cuddle take nap', 'uh head that much leave', 'uhhhhrmm isnt tb test bad youre sick', 'ujhhhhhhh computer ship address sandiago parantella lane wtf poop', 'uk break accommodationvouchers term condition apply claim mustprovide claim number', 'ultimately tor motive tui achieve korli', 'umma did say anything', 'umma life vava umma love lot dear', 'ummmmmaah many many happy return day dear sweet happy birthday dear', 'uncle abbey happy new year abiola', 'uncle boye i need movie oh guide plus know torrent particularly legal and system slow what have day plus start co dont meet online how honey moon', 'uncle g check do reward month', 'under sea lay rock in rock envelope in envelope paper on paper word', 'understand loss gain work school', 'unfortunately find pick sister airport even think go we try go one th', 'university southern california', 'unless situation you go gurl would appropriate', 'unlimited text limited minute', 'unni thank dear', 'until lor ya go dinner together', 'up wan come come lor but din c stripe skirt', 'update face book status frequently', 'upgrdcentre orange customer may claim free camera phone upgrade loyalty call offer end july t c apply available', 'ups also ship company take the way usps take week get lag may bribe nipost get stuff', 'ur award city break could win summer shopping spree every wk txt store', 'ur award city break could win summer shopping spree every wk txt store skilgme', 'ur balance next question complete landmark big a bob barry ben text a b c good luck', 'ur balance ur next question who sing girl answer txt ur answer good luck', 'ur currently pound maximize ur send cash cc', 'ur currently pound maximize ur send cash cc po box', 'ur currently pound maximize ur send collect cc po box', 'ur currently pound maximize ur send go cc', 'ur currently pound maximize ur send go cc po box', 'ur going bahamas callfreefone speak live operator claim either bahamas cruise cash to opt txt x', 'ur hmv quiz currently maximize ur send', 'ur luck love someone its ur fortune love one loves u but', 'ur problem ur heart', 'ur ringtone service change free credit go choose content stop txt club stop po', 'ur today plan', 'ur tonexs subscription renew charge you choose polys month', 'urgent call landline your complementary tenerife holiday cash await collection sae t cs po box sender hol offer', 'urgent call landline your complimentary ibiza holiday cash await collection sae t cs po box ppm', 'urgent call landline your complimentary tenerife holiday cash await collection sae t cs box', 'urgent important information for user today is your lucky day find out why log onto http there is a fantastic surprise awaiting for you', 'urgent important information user today lucky day find log onto http fantastic surprise awaiting', 'urgent landline your complimentary ibiza holiday cash await collection sae t cs po box', 'urgent last weekend draw show cash spanish holiday call now claim t c rstm', 'urgent please call landline cash holiday await collection t cs sae po box', 'urgent please call landline cash luxury canary islands holiday await collection t cs sae award', 'urgent please call landline cash luxury canary islands holiday await collection t cs sae po box', 'urgent please call landline complimentary lux costa del sol holiday cash await collection ppm sae t cs james', 'urgent please call landline your abta complimentary tenerife holiday cash await collection sae t cs box', 'urgent please call landline your abta complimentary tenerife holiday cash await collection sae t cs box ppm', 'urgent please call your abta complimentary spanish holiday cash await collection sae t cs box', 'urgent this attempt contact u u won call t callcost mobilesvary', 'urgent this attempt contact u your prize yesterday still await collection to claim call now', 'urgent ur award complimentary trip eurodisinc trav aco or to claim txt dis morefrmmob shracomorsglsuplt', 'urgent ur guarantee award still unclaimed call now claimcode', 'urgent urgent we free flight europe give away call sept take friend free call claim', 'urgent we try contact last weekend draw show prize guaranteed call claim code valid', 'urgent we try contact last weekend draw show u prize guaranteed call claim code valid pm', 'urgent we try contact todays draw show prize guaranteed call land line claim', 'urgent we try contact todays draw show prize guaranteed call land line claim valid', 'urgent we try contact u todays draw show prize guaranteed call land line claim po', 'urgent you week free membership prize jackpot txt word claim no t c lccltd pobox', 'urgent your costa del sol holiday await collection call now toclaim sae tc stockport', 'urgent your mobile award bonus caller prize our final attempt contact u call', 'urgent your mobile no award bonus caller prize this attempt contact you call', 'urgent your mobile no award bonus caller prize this attempt contact you call bt national rate', 'urgent your mobile no award bonus caller prize this final try contact u call landline', 'urgent your mobile no bonus caller prize attempt reach you call asap', 'urgent your mobile no won bonus caller prize this attempt reach you call asap', 'urgent your mobile number award bonus caller prize call land line valid', 'urgent your mobile number award prize guaranteed call land line claim valid', 'urgent your mobile number award ukp prize guaranteed call landline claim valid', 'urgent your mobile number won bonus caller prize this attempt reach call asap box', 'urgh coach hot smell chip fat thanks especially duvet predictive text word', 'use auction subscription service skip auction txt out unsubscribe txt stop customercare', 'usf i guess might well take car', 'usually body take care buy make sure doesnt progress can pls continue talk saturday', 'usually person unconscious child adult may behave abnormally call', 'v fan', 'v nice off sheffield tom air opinion category b use measure ethnicity next census busy transcribe', 'v romantic', 'v skint fancy gona go meet othrs spoon jst bin watchng planet earth sofa v comfey if dont make hav gd night', 'valentine i know early hundred handsomes beauty wish so thought finish aunty uncle', 'valentines day special win quiz take partner trip lifetime send go rcvd', 'velly good yes please', 'very hurt n meaningful line ever compromise everything love', 'very strange watch one bed sweet dream miss u', 'vikky come around lt time gt', 'wa u efficient gee thanx', 'wa ur openin sentence formal anyway fine juz tt eatin much n puttin weight haha so anythin special happen', 'waaaat lololo ok next time', 'wah lucky man then save money hee', 'wah okie okie muz make use e unlimited haha', 'wait bus stop', 'wait i msg lt gt min', 'wait know wesley town i bet hella drug', 'wait lt gt', 'wait sch finish ard', 'wait still clear sure sarcastic x want live u', 'waiting call', 'waiting e car mum lor u leh reach home already', 'waiting tv show start lor u leh still busy ur report', 'wake lt gt morning', 'wamma get lay want real doggin location send direct mobile join uks large dog network txt dog nyt', 'wan na art d', 'wan na get lay want real dogging location send direct ur mobile join uk large dogging network txt park nyt', 'wan na laugh try mobile logon txting word chat send no cm po box london rcvd', 'wana fal luv vth book my bed fals luv vth yen madodu nav pretsorginta nammanna pretsovru important alwa gud', 'want explicit sex sec ring costs', 'want explicit sex sec ring costs gsex pobox', 'want finally lunch today', 'want funk ur fone weekly new tone reply text original n best tones network operator rate apply', 'want get lay tonight want real dogging location send direct ur mob join uk large dogging network bt txting gravel nt', 'want get lay tonight want real dogging location send direct ur mob join uk large dogging network txting moan', 'want grasp pretty booty', 'want late video handset anytime network mins half price line rental reply call delivery tomorrow', 'want new video phone anytime network mins half price line rental free text month reply call free delivery', 'want send virtual hug i need one', 'waqt se pehle naseeb se zyada kisi ko kuch nahi milta zindgi wo nahi jo hum sochte hai zindgi wo hai jo ham jeetey hai', 'warner village c colin farrell swat wkend warner village get free med popcorn just show c c kiosk reply sony mre film offer', 'was actual exam harder nbme', 'was actually send reminder today have wonderful weekend', 'was actually sleep still might u call back so text you rock si will send u text wen wake', 'was ask will keep one maybe get message send glo', 'was farm open', 'was nice day impressively sensible go home early feel fine or boring when ca remember', 'was playng door game gt race phone lol', 'was really good see day dudette miss', 'was see message so r u leave congrats dear what school wat r ur plan', 'was something u ate', 'was test earlier i appreciate will call tomorrow', 'was think chuckin ur red green n black trainners save carryin bac train', 'wat', 'wat da model num ur phone', 'wat dear sleeping ah', 'wat happen cruise thing', 'wat late still early mah or juz go dinner lor aiya dunno', 'wat make people dearer de happiness dat u feel u meet de pain u feel u miss dem', 'wat make u thk fall but actually thk quite prone fall lucky dad home ask come n fetch already', 'wat r u', 'wat time finish', 'wat time liao still get', 'wat time r go xin hostel', 'wat time u finish ur lect today', 'wat time u wan meet later', 'wat time wan today', 'wat u', 'wat uniform in get', 'wat would u like ur birthday', 'watch', 'watch lor i saw swatch one thk quite ard need opinion leh', 'watching ajith film ah', 'watching cartoon listen music amp eve go temple amp what u', 'watching telugu abt u', 'watching tv i get new job', 'watching tv lor', 'watching tv lor nice one like lor', 'watching tv lor y funny bluff wat izzit thk impossible u', 'water log desert geoenvironmental implication', 'watever relation u build dis world thing remain atlast iz lonlines lotz n lot memory', 'we call like lt gt time oh no give u hypertension oh', 'we confirm eat esplanade', 'we currently message await collection to collect message call', 'we do', 'we finally ready fyi', 'we fine thanks', 'we get divorce lol', 'we get worried derek taylor already assume bad', 'we go e normal pilate intro', 'we grandmas oh dear u still ill i felt shit morning think hungover another night we leave sit', 'we hop get away langport you still town tonight', 'we join lt gt bus', 'we know someone know fancy call find pobox', 'we know taj mahal symbol love but less know fact mumtaz shahjahan wife wife shahjahan kill mumtaz husband marry mumtaz die lt gt th delivery he marry mumtaz sister question arise hell love great', 'we leave already orchard', 'we leave yet ok lor go elsewhere n eat u thk', 'we live next lt gt min', 'we make baby yo tho', 'we make eta taunton plan hope still okday good see', 'we meet soon princess ttyl', 'we new local date area lots new people register your area reply date start', 'we okay going sleep later', 'we opposite side drop', 'we pay like lt gt yr difficult', 'we pick rayan macleran', 'we pizza u want', 'we please inform application airtel broadband process successfully your installation happen within day', 'we r outside already', 'we regret to inform u that the nhs has made a were never actually report yor local hospital r sorry the inconvenience', 'we rounder require', 'we send jd customer service cum accounts executive ur mail id for detail contact u', 'we spend day wait ideal path appear front but forget make goodnight', 'we still tonight', 'we stop get ice cream go back', 'we suppose meet discus abt trip thought xuhui tell in afternoon thought go lesson', 'we take hooch walk toaday fell splat grazed knee everything should stay home see tomorrow', 'we try call reply sms video mobile min unlimited text free camcorder reply call del thurs', 'we try call reply sms video mobile min unlimited text free camcorder reply call now', 'we try contact offer new video phone anytime network mins half price rental camcorder call reply delivery wed', 'we try contact reply offer mins textand new video phone call reply free delivery tomorrow', 'we try contact reply offer video handset anytime network min unlimited text camcorder reply call now', 'we try contact reply offer video phone anytime network mins half price line rental camcorder reply call', 'we walk mom right stagwood pas right winterstone leave victor hill address lt gt', 'we watch movie already xy want shop shopping w', 'webpage available', 'wed lt gt aha', 'weightloss no girl friend make loads money ebay something and give thanks god', 'welcome msg free give free call future mg bill daily to cancel send', 'welcome please reply age gender begin', 'welcome select service add benefit you call specially trained advisor free mobile dial', 'well balls time make call', 'well big surprise', 'well boy i glad g waste night applebees nothing', 'well do blimey exercise yeah kinda remember wot hmm', 'well do england get official poly ringtone colour flag yer mobile text tone flag now txt eng stop', 'well do luv ya', 'well done your costa del sol holiday await collection call now toclaim sae tcs stockport', 'well general price lt gt let know much want', 'well glad find totally disagreeable lol', 'well gon na finish bath have good fine night', 'well good morning mr hows london treatin ya treacle', 'well great weekend', 'well i available i washob nobbing last night ask nickey platt instead', 'well i desperate i call armand', 'well i give co say one nighters i persevere find one cheap apologise advance it somewhere sleep isnt', 'well i go aunty', 'well i leave class babe you never come back hope nice sleep love', 'well i mean opposed drunken night', 'well i might come', 'well im computerless time make oreo truffle', 'well imma definitely need restock thanksgiving i let know i', 'well keep mind i get enough gas one round trip bar sudden influx cash', 'well know z take care so worry', 'well like actually call someone punto that woulda bad', 'well lot thing happen lindsay new year some bar ptbo blue heron something go', 'well must pain catch', 'well obviously people cool college life go home', 'well officially philosophical hole u wan na call home ready save', 'well pattern emerge friend tell drive come smoke tell i weed smoke thing see i hesitant', 'well right i gon na get check today steam text want come get', 'well thats nice too bad cant eat', 'well told others marry', 'well watch shrek b', 'well weather cali great but complexities great you need car move freely tax outrageous but great place the sad part miss home', 'well welp sort semiobscure internet thing', 'well you know mean texting', 'welp apparently retire', 'wen get spiritual deep that great', 'wen u finish fancy meetin up wiv u all tonite as i need a break from dabooks did hrs last today of wrk', 'wen ur lovable bcums angry wid u dnt take coz angry childish n true way show deep affection care n luv kettoda manda have nice day da', 'went fast asleep care', 'went ganesh dress shop', 'went pay rent so go bank authorise payment', 'were gon na go get tacos', 'were somewhere fredericksburg', 'were try find chinese food place around', 'wewa iriver all mb', 'what', 'what bruv hope great break do reward semester', 'what class lt gt reunion', 'what dance river', 'what do want come online', 'what dog must i always wait till end day word did run time cell already', 'what eat fo lunch senor', 'what feathery bowa is something guy i know', 'what happen dear tell', 'what happen dear why silent i tense', 'what happen have get job begin registration permanent residency', 'what happen interview', 'what happen tell truth', 'what happen yo date', 'what hello wats talk email address', 'what i say explicitly tell nora i know someone i probably gon na bother', 'what important prevent dehydration give enough fluid', 'what langport sorry i probably bed it suck ill xmas when lanka', 'what leave', 'what look', 'what make happy', 'what mean come chase state watch many movie want', 'what mean leave early check co work', 'what might accidant tookplace somewhere ghodbandar rd traffic move slovely so plz slip amp worry', 'what nannys address', 'what need you person give na', 'what oga left phone home saw ur message hope good have great weekend', 'what one', 'what pa tell i go bath', 'what part understand', 'what place talk explain', 'what plan pongal', 'what plural noun research', 'what r u cooking dinner', 'what record one night', 'what room number wan na make sure i knock right door', 'what say matter my mind say matter', 'what shower baby', 'what significance', 'what stand', 'what tell tell stupid hear wont tell anything you dad call brother speak not', 'what think first time saw class', 'what think one say clearly ok leave need ask i go come', 'what time come later', 'what time i tell friend around', 'what time prob', 'what time think need know i near campus', 'what time thinkin goin', 'what time u get', 'what time u wrkin', 'what time ur flight tmr', 'what type stuff sing', 'what u mean u almost do done wif sleep but tot u go take yup send liao pick ard smth', 'what u reckon need arrange transport u ca thank', 'what u talk bout early morning it almost noon', 'what u want come back beautiful necklace token heart give only my wife of my that and one give call wait till come', 'what u want xmas how free text message new video phone half price line rental call free find', 'what u wear', 'what ur pin', 'what year and many mile', 'whatever im pretty piss', 'whatever juliana do whatever want', 'whats come hill is monster hope great day things r go fine busy though', 'whats staff name take class u', 'whatsup dont u want sleep', 'when come', 'when come hostel', 'when dad get back', 'when get free call', 'when get library', 'when go ride bike', 'when god bring success', 'when guy get back g say think stay mcr', 'when guy leave', 'when guy plan come', 'when i bear god say no another when born', 'when i come', 'when login dat time dad fetching home', 'when people see msg they think iam addict msging they wrong bcoz they know iam addict sweet bslvyl', 'when put sign choose number pin show right', 'when school start where stay what weather like and food do social support system like friend school all thing important', 'when stuff sell tell', 'when the first strike is a red one the bird antelope begin toplay in the fieldof selfindependence believe this the flower of contention will', 'when u love someone dont make love u much u but love much dont want love anyone except gud nit', 'when u wana see', 'when use soc i use home dunno type word ar', 'whenevr ur sad whenevr ur gray remembr im listn watevr u wan na say jus walk wid little amp i promise i bring back ur smile', 'whens radio show', 'where', 'where abj serve are stay dad alone', 'where boytoy i miss what happen', 'where call', 'where download clear movie dvd copy', 'where garage key they bookshelf', 'where get', 'where hungry', 'where is open mca', 'where lover i need', 'where mummy boy is good bad is positive negative why mummy make wait hmmmm', 'where need go get', 'where one day training', 'where r e meeting tmr', 'where r meeting', 'where u go my phone gon na die stay', 'where u hiding stranger', 'where what are yuou work get pc mom did find spot would work i need', 'where what happen', 'where what how stand away does heart ache without do wonder do crave', 'where wil reach', 'where wuld i without baby the thought alone mite break i wan na go crazy everyboy need lady xxxxxxxx', 'where you say would i wake', 'wherre boytoy', 'which channel', 'which never want tell which short late', 'which weird i know i one point', 'white fudge oreos are in stores', 'who are you seeing', 'who people were tour i think sofa thing send your curious sugar', 'who say hi drugdealer', 'who u talk', 'whom wait yesterday', 'whore you are unbelievable', 'whos class', 'why ask princess', 'why come people', 'why de you look good', 'why dint come u', 'why go tell friend sure want live smoke much spend hour beg come smoke', 'why i wake gt', 'why keep away like', 'why must sit around wait summer day celebrate such magical sight world dress white oooooh let snow', 'why nothing ok anyway give treat', 'why princess i bet brothas chasing', 'why tire special', 'why u call lunch', 'why u early', 'why wait least wednesday see get', 'why want talk', 'wif family book tour package', 'will b go esplanade fr home', 'will class hour sorry', 'will come online today night', 'will food', 'will gon na blake night i might able get little early', 'will have good day', 'will help propose go back tomorrow', 'will office around pm now go hospital', 'will purchase stuff today mail do po box number', 'will september', 'will two carton u pleased shelf', 'will u meet ur dream partner soon is ur career flyng start find free txt horo follow ur star sign horo aries', 'will was exhaust train morning too much wine pie you sleep well', 'win cash prize prize worth', 'win new potter order phoenix book reply harry answer question chance first among reader', 'win shopping spree every week starting now play text store skilgme', 'win urgent your mobile number award prize guaranteed call land line claim valid', 'win we winner foley ipod more exciting prize soon keep eye ur mobile visit', 'win westlife u they currently tour unbreakable untamed unkempt text cost text', 'win year supply cds store ur choice worth enter weekly draw txt music ts cs', 'winner as value network customer hvae select receive reward to collect call valid hour', 'winner as value network customer select receivea prize reward to claim call claim code valid hour', 'wish', 'wish u many many return happy birthday', 'wishing beautiful day each moment reveal even thing keep smile do enjoy', 'wishing family merry mas happy new year', 'wishing wonderful week', 'wiskey brandy rum gin beer vodka scotch shampain wine yarasu dhina vaazhthukkal', 'with si lor we juz watched italian job', 'wk free tone u wk txt nokia on classic nokia tone hit on polys', 'wml c', 'wn u r hurt prsn close u fight wit dem coz somtimes dis fight save relation bt quiet leaf nothin gud', 'wonder my world you ur style ur smile ur personality ur nature ur sms lovely good morning dear', 'work', 'world suffers lot not violence bad people but silence good people', 'worry finish march ish', 'wot student discount can u get on books', 'wot u bitch', 'wot u thout u gon na call txt bak luv k', 'wot u u weirdo', 'wot u up j', 'wot u wan na do then missy', 'wot wed nite i til', 'would good i phone tomo lunchtime shall i organise something', 'would like see xxx pic hot nearly ban uk', 'would really appreciate call just need someone talk', 'would smoke help u work difficult time', 'would u fuckin believe didnt know thurs pre book cancel again need b sack', 'wow healthy old airport rd lor cant thk anything else but b bath dog later', 'wow i love sooo much know i barely stand i wonder day go well love i think miss', 'wow i never realize embarassed accomodations i think like since best could always seem happy i sorry i give i sorry offer i sorry room embarassing', 'wow the boys r back take that uk tour win vip tickets vip club txt club trackmarque ltd info', 'wow think common i take back ur freak unless u chop', 'wow v v impress have fun shop', 'wow you right i mean i guess give boston men change search location nyc something change cuz signin page still say boston', 'write', 'wrong phone this phone i answer one assume people well', 'wylie update weed dealer carlos go freedom class lunsford', 'x course just message messenger lik r send', 'xclusive clubsaisai soiree speciale zouk with nichols from roses all ladies info', 'xmas iscoming ur award either cd gift voucher free entry r weekly draw txt music tnc', 'xmas new years eve ticket sale club day till thurs fri sat night week they sell fast', 'xmas offer latest motorola sonyericsson nokia free bluetooth double mins txt orange call', 'xmas offer latest motorola sonyericsson nokia free bluetooth dvd double mins txt orange call', 'xmas prize draw we try contact todays draw show prize guaranteed call land line valid', 'xxxmobilemovieclub to use credit click wap link next txt message click http', 'xy try smth u eat already we havent', 'y bishan lei i tot say lavender', 'y cant u try new invention', 'y de ask like', 'y dun believe leh i tot told true already i thk muz c u tog believe', 'y dun cut short leh u dun like ah she fail she quite sad', 'y late need go n get da laptop', 'y lei', 'y wan go c doctor', 'y where u at dogbreath its just sounding like jan c al', 'ya ask wats matter', 'ya cant display internal sub get ta extract', 'ya come ago', 'ya even cookies jelly', 'ya go', 'ya knw u vl ok thanks enjoy wit ur family wit', 'ya nice ready thursday', 'ya ok dinner', 'ya ok vikky vl c witin lt gt min il reply', 'ya one slow poo', 'ya referin mei ex wat no ah waitin u treat somebody shld b rich liao so gd den u dun work frm tmr onwards', 'ya roast', 'ya srsly well yi tho', 'ya take ure practical lesson i start', 'ya tel wats ur', 'ya tell abt tht', 'ya well bbd pooja full become quite ur rite cold wearing', 'yalru lyfu astne bt innu mundhe lyf ali halla ke bilo marriage program edhae lyf nt yet ovr vargu lyfu meow meow', 'yar else thk sort funny thing', 'yar i tot u knew dis would happen long ago already', 'yar lor actually quite fast cos da ge slow wat haha', 'yar lor how u noe u use dat route', 'yar lor keep raining non stop or u wan go elsewhere', 'yar lor wait mum finish sch lunch lor i whole morning stay home clean room room quite clean hee', 'yar lor wan go c horse race today mah eat earlier lor i eat chicken rice u', 'yar quite clever aft many guess lor he get ask bring thk darren willing go aiya thk leona still attach wat', 'yar say get error', 'yar want scold u yest late already i get zhong se qing if u ask ask go w u lor n u still act real', 'yavnt try yet never play original either', 'yay ca wait party together', 'yay finally lol miss cinema trip last week', 'yay you good tell girl either', 'yeah bad', 'yeah barely enough room two u x many fucking shoe sorry man see later', 'yeah basically time next week get away mom amp get', 'yeah class', 'yeah confirm stay weekend', 'yeah fact ask need anything like hour ago when much', 'yeah fine it get ok', 'yeah gang ready', 'yeah get one line u', 'yeah get random dude need change info sheet party lt gt never study safe', 'yeah get unlimited', 'yeah get v apologetic n fall actin like spoilt child get caught till but wo go not badly cheer you', 'yeah give call get minute', 'yeah go bed i back midnight', 'yeah go bored depressed sittin waitin phone ring hope wind drop though scary', 'yeah hopefully tyler ca i could maybe ask around bit', 'yeah i able i text i ready meet', 'yeah i get list u joanna i feel really anti social', 'yeah i i leave maybe', 'yeah i imagine would really gentle unlike docs treat patient like turkey', 'yeah i leave couple minute amp let know i get mu', 'yeah i see', 'yeah i still give ride', 'yeah i think', 'yeah i think lem know anything goin later', 'yeah i think use gt atm register not sure anyway help let know but sure ready', 'yeah i think usual guy still pass last night get ahold anybody let know i throw', 'yeah i try scrounge something', 'yeah imma come cause jay want drug', 'yeah impression i get', 'yeah jay sort fuck retard', 'yeah jus rite', 'yeah like go like friend imma flip shit like half hour', 'yeah lol luckily star role like', 'yeah open chat click friend list then make list easy pie', 'yeah pretty much best case scenario', 'yeah probably', 'yeah probably earlier', 'yeah probably i still get ta check leo', 'yeah probably sure ilol let u know personally i wuldnt bother ur goin i mite well', 'yeah probably swing roommate finish girl', 'yeah probs last night obviously catch speak soon', 'yeah quite bit left i swing tomorrow i get', 'yeah right i bring tape measure fri', 'yeah stand close catch something', 'yeah sure give couple minute track wallet', 'yeah sure i leave min', 'yeah sure thing mate haunt get stuff sort im go sound anyway promote hex way dont know number joke', 'yeah tote when u wan na', 'yeah usual guy town definitely people around i know', 'yeah whatever lol', 'yeah work fine start last week stuff dull easy guy fun', 'yeah would leave hour least sound', 'yeh indians nice tho kane bit we shud go drink sometime soon mite hav go da work laugh soon love pete x x', 'yep derek house see sunday lt', 'yep fine ice age', 'yep get program you slack', 'yep great loxahatchee xmas tree burn lt gt start hour', 'yep i like pink furniture tho', 'yep pretty sculpture', 'yes ammae take lot turn sit try hold steer', 'yes appt', 'yes baby i need stretch open pussy', 'yes baby we study position kama sutra', 'yes chat', 'yes completely form clark also utter waste', 'yes da any plm ur office', 'yes dont care i need bad princess', 'yes fine', 'yes fine love be safe', 'yes finish watch day live i love', 'yes glad make', 'yes how pretty lady like single', 'yes i care cause i know', 'yes i come nyc audiitions try relocate', 'yes i know cheesy song frosty snowman', 'yes i one woman man please tell like dislike bed', 'yes i post couple pic fb there still snow outside i wake', 'yes i start send request make pain come back i back bed double coin factory i get ta cash nitros', 'yes i trust u buy new stuff asap i try', 'yes it innocent fun o', 'yes last practice', 'yes last week take live call', 'yes many sweet', 'yes meet town co go gep home you could text bus stop and worry finish march ish', 'yes nigh cant aha', 'yes obviously potato speak soon', 'yes outside like hour and i call whole family wake cause start', 'yes please leave lt gt so lt gt leave', 'yes possible dint try pls dont tell one k', 'yes princess are go make moan', 'yes princess i want catch big strong hand', 'yes princess i want make happy', 'yes princess i want please every night your wish command', 'yes princess toledo', 'yes reg ciao', 'yes rent expensive way save', 'yes see ya dot', 'yes small and boost secret', 'yes so u texted pshew miss much', 'yes sura sun tv lol', 'yes the place town meet excite adult single uk txt chat', 'yes they reply mail i go management office later plus bank later wednesday', 'yes think i office lap room think thats last day i didnt shut', 'yes think thanks', 'yes tv always available work', 'yes watch footie worry go blow phil neville', 'yesterday now go home', 'yetunde class run water make pls', 'yetunde sorry moji seem busy able go shopping can please find way get want u get please forgive you reply free via yahoo messenger', 'yo around a friend mine lookin pick later tonight', 'yo around just get car back', 'yo call get chance friend mine want ask big order', 'yo carlos friend already ask work weekend', 'yo chad gymnastics class wan na take the site say christians class', 'yo come carlos soon', 'yo dude guess get arrest day', 'yo game almost want go walmart soon', 'yo gon na still stock i try get dubsack', 'yo guess i drop', 'yo guy ever figure much need alcohol jay i try figure much safely spend weed', 'yo howz u girl never ring india l', 'yo i parent gettin cash good news pick downstem', 'yo im right yo work', 'yo jp hungry like mofo', 'yo know anyone lt gt otherwise able buy liquor our guy flake right get hold somebody loko night', 'yo sorry shower sup', 'yo theres class tmrw right', 'yo trip get postpone still stock', 'yo watch movie netflix', 'yo way could pick something tonight', 'yo yo yo byatch whassup', 'you already get flaky parent suppose child job support parent the ride age anyway i suppose support and hurt unintentional but hurt nonetheless', 'you also didnt get na hi hi hi hi hi', 'you always brainy one', 'you always make thing big', 'you always put business you put picture ass facebook you one open people ever meet why would think picture room would hurt make feel violate', 'you are chosen to receive a award pls call claim number collect award select receive value mobile customer', 'you available i like right around hillsborough amp lt gt th', 'you award sipix digital camera call landline delivery within t cs warranty p', 'you bad girl i still remember', 'you bad girl or lady', 'you best watch say cause i get drunk motherfucker', 'you big chic common declare', 'you bother trust answer pls', 'you busy i come point figure tomorrow', 'you call ok say call', 'you call tell infront call', 'you call time job today ok umma ask speed', 'you cash prize to claim', 'you cash prize to claim t c rstm', 'you change fb jaykwon thuglyfe falconerf', 'you come home class right i need work shower', 'you come life bring sun warm heart putting constant smile face making feel love cared', 'you contact date service someone know to find call land line', 'you contact dating service someone know to find call mobile landline', 'you could see recognise face', 'you didnt complete gist oh', 'you donate unicef asian tsunami disaster support fund texting donate add next bill', 'you dont know jabo abi', 'you everywhere dirt floor window even shirt and sometimes open mouth come flow i dream world without half chore a time joy lot tv show see but guess like thing must exist like rain hail mist time do become one', 'you flippin shit yet', 'you get back time soon', 'you get call tool', 'you get chicken broth want ramen unless i know', 'you get job wipro get every thing life year', 'you get shitload diamond though', 'you get tallent wasting', 'you give u back id proof lt gt r we wont allow work we come home within day', 'you go walmart stay', 'you gon na ring weekend wot', 'you gon na way specific', 'you gorgeous keep pix cumming thank', 'you great role model you give much really wish day miracle god reason everything must say wish knew dont i look since young still have great day', 'you guarantee award even cashto claim ur award call free stop getstop php', 'you guarantee award maybe even cash claim ur award call free its legitimat efreefone number wat u think', 'you guarantee late nokia phone ipod player prize txt word collect no ibhltd', 'you guarantee latest nokia phone ipod player prize txt word collect', 'you hate you call didnt accept even single call mine or even message', 'you have won as value vodafone customer computer pick you win prize to collect easy just call', 'you hear', 'you important customer service announcement call freephone', 'you important customer service announcement premier', 'you important customer service announcement premier call freephone', 'you intrepid duo have great time see soon', 'you jot thing want remember later', 'you know hook mean right', 'you know i shall speak lt gt minute', 'you know old dom i tell yesterday his name roger he get touch last night want meet today pm', 'you know so anthony are bring money i school fee pay rent stuff like thats need help a friend need', 'you know wot people wear t shirt jumper hat belt know we r cribbs', 'you lift hope offer money i need especially end month approach hurt study anyways weekend', 'you like', 'you like would jerk', 'you make day do great day', 'you might want pull case plan spend i much confidence derek taylor money management', 'you mu you try figure much money everyone gas alcohol jay i try figure weed budget', 'you need get now', 'you never believe actually get taunton wow', 'you never nothing', 'you new message call', 'you new message please call', 'you new voicemail please call', 'you nokia this get win free auction to take part send nokia', 'you place man', 'you please give u connection today lt decimal gt refund bill', 'you pls make note expose also find school anyone else vomit is dog cat house let know later', 'you price to claim call', 'you rcv msgs chat svc for free hardcore service text go if u get nothing u must age verify yr network try', 'you ready big day tomorrow', 'you receive mobile content enjoy', 'you receive week triple echo ringtone shortly enjoy', 'you recieve tone within next for terms condition please see channel u teletext pg', 'you register sinco payee log enter urn lt gt confirm beware fraud do not share disclose urn anyone', 'you right i i think', 'you right meanwhile project twin comin', 'you right though i ca give space want need this really start become issue i go suggest set definite move still greece but maybe ready', 'you rip get mobile content call six downloads', 'you room i need', 'you say go back bed ca sleep anything', 'you say no problem when let know', 'you see requirement please', 'you select stay top british hotel for nothing holiday worth to claim call london bx', 'you specially select receive award call before line close cost t cs apply ag promo', 'you specially select receive pound award call before line close cost t cs apply ag promo', 'you stayin trouble stranger saw dave day sort still bloke u gona get girl mr ur mum still thinks get', 'you still around i could use', 'you still around looking pick later', 'you still come tonight', 'you still game', 'you still grand prix', 'you stop club tone reply see html term club tone cost mfl', 'you study alone without anyones help if cant need study', 'you suppose wake me gt', 'you sure i try make xavier smoke i want smoke tell i smoke much', 'you sure neighbor didnt pick', 'you tell happen dont behave like ok need say', 'you tell think plus go stop run', 'you tkts cup final cash collect call pobox', 'you unbelievable faglord', 'you unsubscribed service get ton sexy babes hunk straight phone go http no subscription', 'you ve won your costa del sol holiday await collection call now toclaim sae tc stockport', 'you want go', 'you winner guaranteed caller prize final attempt contact to claim call now', 'you winner specially select receive cash award speak live operator claim call cost', 'you winner u specially select receive cash holiday flight inc speak live operator claim', 'you winner u specially select receive holiday flight inc speak live operator claim', 'you wo believe true it incredible txts reply g learn truly amazing thing blow mind from', 'you won guaranteed cash claim yr prize call customer service representative', 'you won guaranteed cash prize to claim yr prize call customer service representative', 'you won guaranteed cash prize to claim yr prize call customer service representative cost', 'youdoing later sar', 'your account credit free text messages to activate txt word credit no t cs', 'your account refill successfully inr lt decimal gt your keralacircle prepaid account balance rs lt decimal gt your transaction id kr lt gt', 'your account show unredeemed point to claim call identifier code xxxxx expires', 'your bill thats bad', 'your board work fine the issue overheat also reslove but still software inst pending i come around clock', 'your brother genius', 'your chance to be on a reality fantasy show call just per min ntt ltd po box croydon national rate call', 'your credit top http your renewal pin tgxxrz', 'your dad back ph', 'your daily text favour time', 'your free ringtone wait collect simply text password verify get usher britney fml', 'your free text message valid december', 'your gon na death i gon na leave note say robs fault avenge', 'your gon na pick burger way home i ca even move pain kill', 'your next amazing xxx video send enjoy if one vid enough text back keyword get next video', 'your opinion over jada kusruthi lovable silent spl character not mature stylish simple pls', 'your pussy perfect', 'your right i make appointment right', 'your unique user id for removal send stop customer service', 'your voucher marsms log onto discount credit to opt reply stop customer care call', 'your weekly tone ready download this week new tones include crazy f black p more info n', 'yoyyooo u know change permission drive mac my usb flash drive', 'yun buying but school get offer plus', 'yun ubi one say wan call look get ubi cres ubi tech', 'yun wkg btw go nus sc wana specialise wad', 'yunny i goin late', 'yunny walk citylink faster come me hungry', 'yup', 'yup already thanx print n hand', 'yup anything lor u dun wan ok', 'yup bathe liao', 'yup comin', 'yup elaborate safety aspect', 'yup finish c', 'yup free', 'yup from remb i think book', 'yup give problem mayb jus leave', 'yup hey one day fri ask miwa jiayin take leave go karaoke', 'yup how noe leh', 'yup i havent you want go yoga i call book', 'yup izzit still rain heavily cos e mrt ca c outside', 'yup leave right back soon', 'yup lunch buffet u eat already', 'yup msg tat yijue then tot group mate co meeting today mah i askin leave early wat mah co mayb haf walk v far', 'yup n fren lor i meet fren', 'yup need i jus wait e rain stop', 'yup next stop', 'yup ok', 'yup ok go home look timing msg xuhui go learn may lesson', 'yup ok thanx', 'yup paragon i havent decide whether cut yet hee', 'yup shd haf ard page add figure get many page', 'yup song bro no creative neva test quality he say check review online', 'yup still coffee wif frens my fren drive give lift', 'yup study surf lor i e lazy mode today', 'yup thk cine well co need go plaza mah', 'yup thk e shop close lor', 'yup thk r e teacher say make face look long darren ask cut short', 'yup thk u oso boring wat', 'yup wun believe wat u really neva c e msg send shuhui', 'yupz i oredi booked slot weekend liao', 'zoe it just hit me im fucking shitin myself il defo try my hardest cum luv u millions lekdog']\n"
          ],
          "name": "stdout"
        }
      ]
    },
    {
      "cell_type": "code",
      "metadata": {
        "colab": {
          "base_uri": "https://localhost:8080/"
        },
        "id": "PjWjosFoPUGE",
        "outputId": "29d651de-3800-4ea4-91c2-f5936f4944cb"
      },
      "source": [
        "from sklearn.feature_extraction.text import CountVectorizer\n",
        "cv=CountVectorizer(max_features=2500)\n",
        "x=cv.fit_transform(df['email'])\n",
        "x.shape"
      ],
      "execution_count": 180,
      "outputs": [
        {
          "output_type": "execute_result",
          "data": {
            "text/plain": [
              "(5169, 2500)"
            ]
          },
          "metadata": {
            "tags": []
          },
          "execution_count": 180
        }
      ]
    },
    {
      "cell_type": "code",
      "metadata": {
        "id": "kxGgm7qiL2Sn"
      },
      "source": [
        "y=df['spam']"
      ],
      "execution_count": 104,
      "outputs": []
    },
    {
      "cell_type": "code",
      "metadata": {
        "id": "bGdzUm3MNAPS"
      },
      "source": [
        "from sklearn.model_selection import train_test_split\n",
        "x_train, x_test, y_train, y_test = train_test_split(x, y, test_size=0.4, random_state=101)"
      ],
      "execution_count": 105,
      "outputs": []
    },
    {
      "cell_type": "code",
      "metadata": {
        "id": "joIttaxoNMlX"
      },
      "source": [
        "from sklearn.naive_bayes import MultinomialNB\n",
        "spam_ham_detection=MultinomialNB().fit(x_train,y_train)\n",
        "\n",
        "y_pred=spam_ham_detection.predict(x_test)"
      ],
      "execution_count": 165,
      "outputs": []
    },
    {
      "cell_type": "code",
      "metadata": {
        "colab": {
          "base_uri": "https://localhost:8080/"
        },
        "id": "UAFg8YRrOGrw",
        "outputId": "62a03f98-b021-420d-b106-1762744f1ae7"
      },
      "source": [
        "from sklearn.metrics import confusion_matrix\n",
        "c_matrix=confusion_matrix(y_test,y_pred)\n",
        "c_matrix"
      ],
      "execution_count": 107,
      "outputs": [
        {
          "output_type": "execute_result",
          "data": {
            "text/plain": [
              "array([[1767,   23],\n",
              "       [  31,  247]])"
            ]
          },
          "metadata": {
            "tags": []
          },
          "execution_count": 107
        }
      ]
    },
    {
      "cell_type": "code",
      "metadata": {
        "colab": {
          "base_uri": "https://localhost:8080/"
        },
        "id": "iYXZ9BH8OwCG",
        "outputId": "df9fa85a-6fbf-49da-8859-90380f4a3554"
      },
      "source": [
        "from sklearn.metrics import accuracy_score\n",
        "accuracy=accuracy_score(y_test,y_pred)\n",
        "accuracy"
      ],
      "execution_count": 108,
      "outputs": [
        {
          "output_type": "execute_result",
          "data": {
            "text/plain": [
              "0.9738878143133463"
            ]
          },
          "metadata": {
            "tags": []
          },
          "execution_count": 108
        }
      ]
    },
    {
      "cell_type": "code",
      "metadata": {
        "id": "UXBSSe5jQZYm",
        "colab": {
          "base_uri": "https://localhost:8080/",
          "height": 419
        },
        "outputId": "b997c3aa-3925-4eb4-8cb7-dd353e07b768"
      },
      "source": [
        "new_df = pd.DataFrame({'Actual':y_test,'Predicted':y_pred})\n",
        "new_df"
      ],
      "execution_count": 109,
      "outputs": [
        {
          "output_type": "execute_result",
          "data": {
            "text/html": [
              "<div>\n",
              "<style scoped>\n",
              "    .dataframe tbody tr th:only-of-type {\n",
              "        vertical-align: middle;\n",
              "    }\n",
              "\n",
              "    .dataframe tbody tr th {\n",
              "        vertical-align: top;\n",
              "    }\n",
              "\n",
              "    .dataframe thead th {\n",
              "        text-align: right;\n",
              "    }\n",
              "</style>\n",
              "<table border=\"1\" class=\"dataframe\">\n",
              "  <thead>\n",
              "    <tr style=\"text-align: right;\">\n",
              "      <th></th>\n",
              "      <th>Actual</th>\n",
              "      <th>Predicted</th>\n",
              "    </tr>\n",
              "  </thead>\n",
              "  <tbody>\n",
              "    <tr>\n",
              "      <th>4442</th>\n",
              "      <td>0</td>\n",
              "      <td>0</td>\n",
              "    </tr>\n",
              "    <tr>\n",
              "      <th>993</th>\n",
              "      <td>0</td>\n",
              "      <td>0</td>\n",
              "    </tr>\n",
              "    <tr>\n",
              "      <th>3008</th>\n",
              "      <td>1</td>\n",
              "      <td>1</td>\n",
              "    </tr>\n",
              "    <tr>\n",
              "      <th>1711</th>\n",
              "      <td>0</td>\n",
              "      <td>0</td>\n",
              "    </tr>\n",
              "    <tr>\n",
              "      <th>3655</th>\n",
              "      <td>0</td>\n",
              "      <td>0</td>\n",
              "    </tr>\n",
              "    <tr>\n",
              "      <th>...</th>\n",
              "      <td>...</td>\n",
              "      <td>...</td>\n",
              "    </tr>\n",
              "    <tr>\n",
              "      <th>327</th>\n",
              "      <td>0</td>\n",
              "      <td>0</td>\n",
              "    </tr>\n",
              "    <tr>\n",
              "      <th>3325</th>\n",
              "      <td>0</td>\n",
              "      <td>0</td>\n",
              "    </tr>\n",
              "    <tr>\n",
              "      <th>2426</th>\n",
              "      <td>1</td>\n",
              "      <td>1</td>\n",
              "    </tr>\n",
              "    <tr>\n",
              "      <th>2981</th>\n",
              "      <td>0</td>\n",
              "      <td>0</td>\n",
              "    </tr>\n",
              "    <tr>\n",
              "      <th>3535</th>\n",
              "      <td>0</td>\n",
              "      <td>0</td>\n",
              "    </tr>\n",
              "  </tbody>\n",
              "</table>\n",
              "<p>2068 rows × 2 columns</p>\n",
              "</div>"
            ],
            "text/plain": [
              "      Actual  Predicted\n",
              "4442       0          0\n",
              "993        0          0\n",
              "3008       1          1\n",
              "1711       0          0\n",
              "3655       0          0\n",
              "...      ...        ...\n",
              "327        0          0\n",
              "3325       0          0\n",
              "2426       1          1\n",
              "2981       0          0\n",
              "3535       0          0\n",
              "\n",
              "[2068 rows x 2 columns]"
            ]
          },
          "metadata": {
            "tags": []
          },
          "execution_count": 109
        }
      ]
    },
    {
      "cell_type": "code",
      "metadata": {
        "colab": {
          "base_uri": "https://localhost:8080/"
        },
        "id": "JPsmDS8tu_S3",
        "outputId": "c4be8059-213a-4854-89de-d7d700aa4ffd"
      },
      "source": [
        "actual = new_df.Actual.value_counts()\n",
        "actual"
      ],
      "execution_count": 124,
      "outputs": [
        {
          "output_type": "execute_result",
          "data": {
            "text/plain": [
              "0    1790\n",
              "1     278\n",
              "Name: Actual, dtype: int64"
            ]
          },
          "metadata": {
            "tags": []
          },
          "execution_count": 124
        }
      ]
    },
    {
      "cell_type": "code",
      "metadata": {
        "colab": {
          "base_uri": "https://localhost:8080/"
        },
        "id": "gYmDpxqowohw",
        "outputId": "50c8d031-c8f0-4ff2-e3e8-0ca275044216"
      },
      "source": [
        "predict = new_df.Predicted.value_counts()\n",
        "predict"
      ],
      "execution_count": 125,
      "outputs": [
        {
          "output_type": "execute_result",
          "data": {
            "text/plain": [
              "0    1798\n",
              "1     270\n",
              "Name: Predicted, dtype: int64"
            ]
          },
          "metadata": {
            "tags": []
          },
          "execution_count": 125
        }
      ]
    },
    {
      "cell_type": "code",
      "metadata": {
        "colab": {
          "base_uri": "https://localhost:8080/",
          "height": 111
        },
        "id": "htjT5NcBwy03",
        "outputId": "6c8eedac-c7b2-4450-b9a8-2159dadb2dde"
      },
      "source": [
        "df_plot = pd.DataFrame({'Actual':actual,'Predicted':predict})\n",
        "df_plot"
      ],
      "execution_count": 126,
      "outputs": [
        {
          "output_type": "execute_result",
          "data": {
            "text/html": [
              "<div>\n",
              "<style scoped>\n",
              "    .dataframe tbody tr th:only-of-type {\n",
              "        vertical-align: middle;\n",
              "    }\n",
              "\n",
              "    .dataframe tbody tr th {\n",
              "        vertical-align: top;\n",
              "    }\n",
              "\n",
              "    .dataframe thead th {\n",
              "        text-align: right;\n",
              "    }\n",
              "</style>\n",
              "<table border=\"1\" class=\"dataframe\">\n",
              "  <thead>\n",
              "    <tr style=\"text-align: right;\">\n",
              "      <th></th>\n",
              "      <th>Actual</th>\n",
              "      <th>Predicted</th>\n",
              "    </tr>\n",
              "  </thead>\n",
              "  <tbody>\n",
              "    <tr>\n",
              "      <th>0</th>\n",
              "      <td>1790</td>\n",
              "      <td>1798</td>\n",
              "    </tr>\n",
              "    <tr>\n",
              "      <th>1</th>\n",
              "      <td>278</td>\n",
              "      <td>270</td>\n",
              "    </tr>\n",
              "  </tbody>\n",
              "</table>\n",
              "</div>"
            ],
            "text/plain": [
              "   Actual  Predicted\n",
              "0    1790       1798\n",
              "1     278        270"
            ]
          },
          "metadata": {
            "tags": []
          },
          "execution_count": 126
        }
      ]
    },
    {
      "cell_type": "code",
      "metadata": {
        "colab": {
          "base_uri": "https://localhost:8080/",
          "height": 111
        },
        "id": "Q5ON8kquw_0Y",
        "outputId": "147eb7df-77a3-4fc3-e193-7fd11888e84f"
      },
      "source": [
        "df_plot.reset_index(inplace=True)\n",
        "df_plot"
      ],
      "execution_count": 127,
      "outputs": [
        {
          "output_type": "execute_result",
          "data": {
            "text/html": [
              "<div>\n",
              "<style scoped>\n",
              "    .dataframe tbody tr th:only-of-type {\n",
              "        vertical-align: middle;\n",
              "    }\n",
              "\n",
              "    .dataframe tbody tr th {\n",
              "        vertical-align: top;\n",
              "    }\n",
              "\n",
              "    .dataframe thead th {\n",
              "        text-align: right;\n",
              "    }\n",
              "</style>\n",
              "<table border=\"1\" class=\"dataframe\">\n",
              "  <thead>\n",
              "    <tr style=\"text-align: right;\">\n",
              "      <th></th>\n",
              "      <th>index</th>\n",
              "      <th>Actual</th>\n",
              "      <th>Predicted</th>\n",
              "    </tr>\n",
              "  </thead>\n",
              "  <tbody>\n",
              "    <tr>\n",
              "      <th>0</th>\n",
              "      <td>0</td>\n",
              "      <td>1790</td>\n",
              "      <td>1798</td>\n",
              "    </tr>\n",
              "    <tr>\n",
              "      <th>1</th>\n",
              "      <td>1</td>\n",
              "      <td>278</td>\n",
              "      <td>270</td>\n",
              "    </tr>\n",
              "  </tbody>\n",
              "</table>\n",
              "</div>"
            ],
            "text/plain": [
              "   index  Actual  Predicted\n",
              "0      0    1790       1798\n",
              "1      1     278        270"
            ]
          },
          "metadata": {
            "tags": []
          },
          "execution_count": 127
        }
      ]
    },
    {
      "cell_type": "code",
      "metadata": {
        "colab": {
          "base_uri": "https://localhost:8080/",
          "height": 631
        },
        "id": "fAOjgA_nxGrs",
        "outputId": "430f2450-e158-40bc-c3cb-9ee97d28237d"
      },
      "source": [
        "plt.figure(figsize=(6,7))\n",
        "\n",
        "ax = sns.distplot(df_plot['Actual'],hist=False,color='r',label=\"Actual values\")\n",
        "sns.distplot(df_plot['Predicted'],hist=False,color='b', label='predicted values', ax=ax)\n",
        "\n",
        "plt.title('actual vs predicted')"
      ],
      "execution_count": 131,
      "outputs": [
        {
          "output_type": "stream",
          "text": [
            "/usr/local/lib/python3.7/dist-packages/seaborn/distributions.py:2557: FutureWarning:\n",
            "\n",
            "`distplot` is a deprecated function and will be removed in a future version. Please adapt your code to use either `displot` (a figure-level function with similar flexibility) or `kdeplot` (an axes-level function for kernel density plots).\n",
            "\n",
            "/usr/local/lib/python3.7/dist-packages/seaborn/distributions.py:2557: FutureWarning:\n",
            "\n",
            "`distplot` is a deprecated function and will be removed in a future version. Please adapt your code to use either `displot` (a figure-level function with similar flexibility) or `kdeplot` (an axes-level function for kernel density plots).\n",
            "\n"
          ],
          "name": "stderr"
        },
        {
          "output_type": "execute_result",
          "data": {
            "text/plain": [
              "Text(0.5, 1.0, 'actual vs predicted')"
            ]
          },
          "metadata": {
            "tags": []
          },
          "execution_count": 131
        },
        {
          "output_type": "display_data",
          "data": {
            "image/png": "[encoded data removed]",
            "text/plain": [
              "<Figure size 432x504 with 1 Axes>"
            ]
          },
          "metadata": {
            "tags": [],
            "needs_background": "light"
          }
        }
      ]
    },
    {
      "cell_type": "code",
      "metadata": {
        "id": "pzB-kYmrxSMw"
      },
      "source": [
        "def Future_predict(email_data):\n",
        "  email_data=[email_data]\n",
        "  x_future=cv.transform(email_data)\n",
        "  future_predict_data=spam_ham_detection.predict(x_future)\n",
        "   \n",
        "  if(future_predict_data==1):\n",
        "    string=\"SPAM\"\n",
        "  elif(future_predict_data==0):\n",
        "    string=\"HAM\"\n",
        "\n",
        "  bold_start = '\\033[1m'\n",
        "    \n",
        "\n",
        "  def colored(r, g, b, text):\n",
        "    return \"\\033[38;2;{};{};{}m{} \\033[38;2;255;255;255m\".format(r, g, b, text)\n",
        "\n",
        "\n",
        "  print(bold_start,colored(255,0,0, \"The email is:\"), bold_start,colored(0,255,0,string))"
      ],
      "execution_count": 174,
      "outputs": []
    },
    {
      "cell_type": "code",
      "metadata": {
        "colab": {
          "base_uri": "https://localhost:8080/"
        },
        "id": "8oB9917n8x5u",
        "outputId": "cd94955d-08ef-4539-f4b4-c16273d64c98"
      },
      "source": [
        "Future_predict('as registered optin subscriber ur draw gift voucher enter receipt correct ans whats bbc chart')"
      ],
      "execution_count": 179,
      "outputs": [
        {
          "output_type": "stream",
          "text": [
            "\u001b[1m \u001b[38;2;255;0;0mThe email is: \u001b[38;2;255;255;255m \u001b[1m \u001b[38;2;0;255;0mSPAM \u001b[38;2;255;255;255m\n"
          ],
          "name": "stdout"
        }
      ]
    }
  ]
}